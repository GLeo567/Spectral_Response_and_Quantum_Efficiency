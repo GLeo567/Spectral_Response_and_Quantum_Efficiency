{
 "cells": [
  {
   "attachments": {},
   "cell_type": "markdown",
   "metadata": {},
   "source": [
    "# ***Spectral Response Determination and Quantum Efficiency of a Solar Cell***  \n",
    "  \n",
    "The external quantum efficiency of a *Si* solar cell was obtained using an optic system and, from that efficiency, its spectral response was calculated.  \n",
    "The energy gap obtained from the derivative method was of $1.15$ $eV$ and $1.14$ $eV$ through the graph of $[ln(1-EQE)]^{2}$ $vs$ $h\\nu$.  \n",
    "  \n",
    "The measurements were taken from a wavelength of $300$ $nm$ to $1100$ $nm$ at intervals of $5$ $nm$. First, the electric response of a reference sensor was measured. Then, this response and the spectral one given by the manufacturer were loaded to the software $TracQ_{BASIC}$ and the incident radiation power was calculated. Finally, the quantum efficiency of the Si solar cell was measured through the software."
   ]
  },
  {
   "attachments": {},
   "cell_type": "markdown",
   "metadata": {},
   "source": [
    "## Importing libraries"
   ]
  },
  {
   "cell_type": "code",
   "execution_count": 1,
   "metadata": {},
   "outputs": [],
   "source": [
    "import pandas as pd\n",
    "import numpy as np\n",
    "import seaborn as sns\n",
    "import matplotlib.pyplot as plt\n",
    "import plotly.express as px\n",
    "from scipy.signal import savgol_filter\n",
    "from scipy.stats import linregress"
   ]
  },
  {
   "attachments": {},
   "cell_type": "markdown",
   "metadata": {},
   "source": [
    "## Loading data"
   ]
  },
  {
   "cell_type": "code",
   "execution_count": 2,
   "metadata": {},
   "outputs": [
    {
     "data": {
      "text/html": [
       "<div>\n",
       "<style scoped>\n",
       "    .dataframe tbody tr th:only-of-type {\n",
       "        vertical-align: middle;\n",
       "    }\n",
       "\n",
       "    .dataframe tbody tr th {\n",
       "        vertical-align: top;\n",
       "    }\n",
       "\n",
       "    .dataframe thead th {\n",
       "        text-align: right;\n",
       "    }\n",
       "</style>\n",
       "<table border=\"1\" class=\"dataframe\">\n",
       "  <thead>\n",
       "    <tr style=\"text-align: right;\">\n",
       "      <th></th>\n",
       "      <th>Wavelength (nm)</th>\n",
       "      <th>IRP</th>\n",
       "      <th>EQE (%)</th>\n",
       "    </tr>\n",
       "  </thead>\n",
       "  <tbody>\n",
       "    <tr>\n",
       "      <th>0</th>\n",
       "      <td>300.017</td>\n",
       "      <td>0.03528</td>\n",
       "      <td>58.06996</td>\n",
       "    </tr>\n",
       "    <tr>\n",
       "      <th>1</th>\n",
       "      <td>301.992</td>\n",
       "      <td>0.03723</td>\n",
       "      <td>59.40507</td>\n",
       "    </tr>\n",
       "    <tr>\n",
       "      <th>2</th>\n",
       "      <td>304.005</td>\n",
       "      <td>0.03961</td>\n",
       "      <td>60.75801</td>\n",
       "    </tr>\n",
       "    <tr>\n",
       "      <th>3</th>\n",
       "      <td>306.016</td>\n",
       "      <td>0.04175</td>\n",
       "      <td>62.07649</td>\n",
       "    </tr>\n",
       "    <tr>\n",
       "      <th>4</th>\n",
       "      <td>307.991</td>\n",
       "      <td>0.04382</td>\n",
       "      <td>63.10497</td>\n",
       "    </tr>\n",
       "    <tr>\n",
       "      <th>...</th>\n",
       "      <td>...</td>\n",
       "      <td>...</td>\n",
       "      <td>...</td>\n",
       "    </tr>\n",
       "    <tr>\n",
       "      <th>396</th>\n",
       "      <td>1092.006</td>\n",
       "      <td>0.03803</td>\n",
       "      <td>22.21079</td>\n",
       "    </tr>\n",
       "    <tr>\n",
       "      <th>397</th>\n",
       "      <td>1094.003</td>\n",
       "      <td>0.03003</td>\n",
       "      <td>20.50270</td>\n",
       "    </tr>\n",
       "    <tr>\n",
       "      <th>398</th>\n",
       "      <td>1095.998</td>\n",
       "      <td>0.02643</td>\n",
       "      <td>18.87539</td>\n",
       "    </tr>\n",
       "    <tr>\n",
       "      <th>399</th>\n",
       "      <td>1097.989</td>\n",
       "      <td>0.02454</td>\n",
       "      <td>17.46431</td>\n",
       "    </tr>\n",
       "    <tr>\n",
       "      <th>400</th>\n",
       "      <td>1100.006</td>\n",
       "      <td>0.02380</td>\n",
       "      <td>16.17466</td>\n",
       "    </tr>\n",
       "  </tbody>\n",
       "</table>\n",
       "<p>401 rows × 3 columns</p>\n",
       "</div>"
      ],
      "text/plain": [
       "     Wavelength (nm)      IRP   EQE (%)\n",
       "0            300.017  0.03528  58.06996\n",
       "1            301.992  0.03723  59.40507\n",
       "2            304.005  0.03961  60.75801\n",
       "3            306.016  0.04175  62.07649\n",
       "4            307.991  0.04382  63.10497\n",
       "..               ...      ...       ...\n",
       "396         1092.006  0.03803  22.21079\n",
       "397         1094.003  0.03003  20.50270\n",
       "398         1095.998  0.02643  18.87539\n",
       "399         1097.989  0.02454  17.46431\n",
       "400         1100.006  0.02380  16.17466\n",
       "\n",
       "[401 rows x 3 columns]"
      ]
     },
     "execution_count": 2,
     "metadata": {},
     "output_type": "execute_result"
    }
   ],
   "source": [
    "df = pd.read_csv(\n",
    "    \"practice_3.txt\",\n",
    "    sep=\"\\t\",\n",
    "    on_bad_lines=\"skip\",\n",
    "    header=0,\n",
    "    skiprows=9,\n",
    "    names=[\"Wavelength (nm)\", \"IRP\", \"EQE (%)\"]\n",
    ")\n",
    "df"
   ]
  },
  {
   "attachments": {},
   "cell_type": "markdown",
   "metadata": {},
   "source": [
    "Since we only want the columns of `Wavelength (nm)` and `EQE (%)`, we will drop the column of `IRP` (Incident Radiation Power)."
   ]
  },
  {
   "cell_type": "code",
   "execution_count": 3,
   "metadata": {},
   "outputs": [
    {
     "data": {
      "text/html": [
       "<div>\n",
       "<style scoped>\n",
       "    .dataframe tbody tr th:only-of-type {\n",
       "        vertical-align: middle;\n",
       "    }\n",
       "\n",
       "    .dataframe tbody tr th {\n",
       "        vertical-align: top;\n",
       "    }\n",
       "\n",
       "    .dataframe thead th {\n",
       "        text-align: right;\n",
       "    }\n",
       "</style>\n",
       "<table border=\"1\" class=\"dataframe\">\n",
       "  <thead>\n",
       "    <tr style=\"text-align: right;\">\n",
       "      <th></th>\n",
       "      <th>Wavelength (nm)</th>\n",
       "      <th>EQE (%)</th>\n",
       "    </tr>\n",
       "  </thead>\n",
       "  <tbody>\n",
       "    <tr>\n",
       "      <th>0</th>\n",
       "      <td>300.017</td>\n",
       "      <td>58.06996</td>\n",
       "    </tr>\n",
       "    <tr>\n",
       "      <th>1</th>\n",
       "      <td>301.992</td>\n",
       "      <td>59.40507</td>\n",
       "    </tr>\n",
       "    <tr>\n",
       "      <th>2</th>\n",
       "      <td>304.005</td>\n",
       "      <td>60.75801</td>\n",
       "    </tr>\n",
       "    <tr>\n",
       "      <th>3</th>\n",
       "      <td>306.016</td>\n",
       "      <td>62.07649</td>\n",
       "    </tr>\n",
       "    <tr>\n",
       "      <th>4</th>\n",
       "      <td>307.991</td>\n",
       "      <td>63.10497</td>\n",
       "    </tr>\n",
       "    <tr>\n",
       "      <th>...</th>\n",
       "      <td>...</td>\n",
       "      <td>...</td>\n",
       "    </tr>\n",
       "    <tr>\n",
       "      <th>396</th>\n",
       "      <td>1092.006</td>\n",
       "      <td>22.21079</td>\n",
       "    </tr>\n",
       "    <tr>\n",
       "      <th>397</th>\n",
       "      <td>1094.003</td>\n",
       "      <td>20.50270</td>\n",
       "    </tr>\n",
       "    <tr>\n",
       "      <th>398</th>\n",
       "      <td>1095.998</td>\n",
       "      <td>18.87539</td>\n",
       "    </tr>\n",
       "    <tr>\n",
       "      <th>399</th>\n",
       "      <td>1097.989</td>\n",
       "      <td>17.46431</td>\n",
       "    </tr>\n",
       "    <tr>\n",
       "      <th>400</th>\n",
       "      <td>1100.006</td>\n",
       "      <td>16.17466</td>\n",
       "    </tr>\n",
       "  </tbody>\n",
       "</table>\n",
       "<p>401 rows × 2 columns</p>\n",
       "</div>"
      ],
      "text/plain": [
       "     Wavelength (nm)   EQE (%)\n",
       "0            300.017  58.06996\n",
       "1            301.992  59.40507\n",
       "2            304.005  60.75801\n",
       "3            306.016  62.07649\n",
       "4            307.991  63.10497\n",
       "..               ...       ...\n",
       "396         1092.006  22.21079\n",
       "397         1094.003  20.50270\n",
       "398         1095.998  18.87539\n",
       "399         1097.989  17.46431\n",
       "400         1100.006  16.17466\n",
       "\n",
       "[401 rows x 2 columns]"
      ]
     },
     "execution_count": 3,
     "metadata": {},
     "output_type": "execute_result"
    }
   ],
   "source": [
    "df.drop(columns=[\"IRP\"], inplace=True)\n",
    "df"
   ]
  },
  {
   "attachments": {},
   "cell_type": "markdown",
   "metadata": {},
   "source": [
    "## Quantum Efficiency (QE)"
   ]
  },
  {
   "attachments": {},
   "cell_type": "markdown",
   "metadata": {},
   "source": [
    "It is defined as the reason between the number of electrons prodced by an incident photon of a determined wavelength. From this, we have two efficiencies: external and internal. Both are distinguished by the way in which photons interact with the surface of the cell.  \n",
    "  \n",
    "The *internal quantum efficiency* *(EQI)* is the number of recollected electrons by number of photons absorbed in the solar cell and it considers the reflectance of the surface. It is given by:  \n",
    "  \n",
    "$EQI=\\frac{\\eta_{e}}{\\eta_{p}}$     (1)  \n",
    "  \n",
    "where $\\eta_{e}$ is the number of electrons produced and $\\eta_{p}$ is the number of photons absorbed.  \n",
    "  \n",
    "The external quantum efficiency (EQE) is the number of recollected electrons by each photon that incises on the solar cell and it doesn't consider the reflectance of the surface. It is given by:  \n",
    "  \n",
    "$EQE=\\frac{Ih\\nu}{Pq}$     (2)   \n",
    "  \n",
    "where I is the measured current and P is the power of a laser. Furthermore, it can be approximated to:  \n",
    "  \n",
    "$EQE\\approx1-\\frac{e^{\\alpha(\\lambda)W(V)}}{\\alpha(\\lambda)L+1}$     (3)  \n",
    "  \n",
    "where $\\alpha(\\lambda)$ its the absorption coefficient, $W(V)$ is the width of the space charge region and $L$ is the difussion length of minority carriers. If $L$ is less than the distance in which the photons are absorbed, then:  \n",
    "  \n",
    "$(\\alpha(\\lambda)W(V))^{2}=[ln(1-EQE)]^{2}$     (4)  \n",
    "  \n",
    "From (4), for direct transitions we'll have:  \n",
    "    \n",
    "$[ln(1-EQE)]^{2}\\propto(h\\nu-E_{g})$     (5)  \n",
    "  \n",
    "From (5), $[ln(1-EQE)]^{2}$ is a linear function of $h\\nu$ and, with an adjustment, the energy gap $E_{g}$ can be calculated with the intercept for $h\\nu=0$.  \n",
    "  \n",
    "Both types of efficiency are related by:  \n",
    "  \n",
    "$EQE(\\lambda)=[1-R(\\lambda)]EQI(\\lambda)$     (6)\n",
    "  \n",
    "where $R(\\lambda)$ is the reflectance and with the efficiencies, are in fucntion of the wavelength $\\lambda$. In this way, the *EQI* can be directly calculated if the *EQE* and number of photons ar ealready known."
   ]
  },
  {
   "attachments": {},
   "cell_type": "markdown",
   "metadata": {},
   "source": [
    "### EQE of a *Si* solar cell"
   ]
  },
  {
   "attachments": {},
   "cell_type": "markdown",
   "metadata": {},
   "source": [
    "To ease the data analysis, a Savitzky-Golay smoothing at 10 points was done to the original curve."
   ]
  },
  {
   "cell_type": "code",
   "execution_count": 4,
   "metadata": {},
   "outputs": [
    {
     "data": {
      "text/html": [
       "<div>\n",
       "<style scoped>\n",
       "    .dataframe tbody tr th:only-of-type {\n",
       "        vertical-align: middle;\n",
       "    }\n",
       "\n",
       "    .dataframe tbody tr th {\n",
       "        vertical-align: top;\n",
       "    }\n",
       "\n",
       "    .dataframe thead th {\n",
       "        text-align: right;\n",
       "    }\n",
       "</style>\n",
       "<table border=\"1\" class=\"dataframe\">\n",
       "  <thead>\n",
       "    <tr style=\"text-align: right;\">\n",
       "      <th></th>\n",
       "      <th>Wavelength (nm)</th>\n",
       "      <th>EQE (%)</th>\n",
       "      <th>EQE (%) smoothed</th>\n",
       "    </tr>\n",
       "  </thead>\n",
       "  <tbody>\n",
       "    <tr>\n",
       "      <th>0</th>\n",
       "      <td>300.017</td>\n",
       "      <td>58.06996</td>\n",
       "      <td>58.459183</td>\n",
       "    </tr>\n",
       "    <tr>\n",
       "      <th>1</th>\n",
       "      <td>301.992</td>\n",
       "      <td>59.40507</td>\n",
       "      <td>59.257436</td>\n",
       "    </tr>\n",
       "    <tr>\n",
       "      <th>2</th>\n",
       "      <td>304.005</td>\n",
       "      <td>60.75801</td>\n",
       "      <td>60.320764</td>\n",
       "    </tr>\n",
       "    <tr>\n",
       "      <th>3</th>\n",
       "      <td>306.016</td>\n",
       "      <td>62.07649</td>\n",
       "      <td>61.649170</td>\n",
       "    </tr>\n",
       "    <tr>\n",
       "      <th>4</th>\n",
       "      <td>307.991</td>\n",
       "      <td>63.10497</td>\n",
       "      <td>63.242652</td>\n",
       "    </tr>\n",
       "  </tbody>\n",
       "</table>\n",
       "</div>"
      ],
      "text/plain": [
       "   Wavelength (nm)   EQE (%)  EQE (%) smoothed\n",
       "0          300.017  58.06996         58.459183\n",
       "1          301.992  59.40507         59.257436\n",
       "2          304.005  60.75801         60.320764\n",
       "3          306.016  62.07649         61.649170\n",
       "4          307.991  63.10497         63.242652"
      ]
     },
     "execution_count": 4,
     "metadata": {},
     "output_type": "execute_result"
    }
   ],
   "source": [
    "svg_eqe = savgol_filter(x=df[\"EQE (%)\"], window_length=10, polyorder=2)\n",
    "# Adding this numpy array to df\n",
    "df[\"EQE (%) smoothed\"] = svg_eqe.tolist()\n",
    "df.head()"
   ]
  },
  {
   "attachments": {},
   "cell_type": "markdown",
   "metadata": {},
   "source": [
    "Using seaborn to see this response:"
   ]
  },
  {
   "cell_type": "code",
   "execution_count": 5,
   "metadata": {},
   "outputs": [
    {
     "data": {
      "image/png": "[encoded data removed]",
      "text/plain": [
       "<Figure size 1000x1000 with 1 Axes>"
      ]
     },
     "metadata": {},
     "output_type": "display_data"
    }
   ],
   "source": [
    "# We'll use seaborn to plot both lines\n",
    "fig1, ax = plt.subplots(figsize=(10, 10))\n",
    "df_cols = [\"EQE (%)\", \"EQE (%) smoothed\"]\n",
    "for column in df_cols:\n",
    "    if column == \"EQE (%)\":\n",
    "        label = \"Not smoothed\"\n",
    "    else:\n",
    "        label = \"Smoothed\"\n",
    "    sns.lineplot(data=df, x=\"Wavelength (nm)\", y=column, label=label)\n",
    "ax.set(\n",
    "    title=\"Fig. 1: External Quantum Efficiency of a Si solar cell\",\n",
    "    ylabel=\"Quantum Efficiency (%)\"\n",
    ")\n",
    "plt.show()\n"
   ]
  },
  {
   "attachments": {},
   "cell_type": "markdown",
   "metadata": {},
   "source": [
    "#### Using pandas to find a maximum and minimum in EQE in Fig. 1"
   ]
  },
  {
   "cell_type": "code",
   "execution_count": 6,
   "metadata": {},
   "outputs": [
    {
     "data": {
      "text/html": [
       "<div>\n",
       "<style scoped>\n",
       "    .dataframe tbody tr th:only-of-type {\n",
       "        vertical-align: middle;\n",
       "    }\n",
       "\n",
       "    .dataframe tbody tr th {\n",
       "        vertical-align: top;\n",
       "    }\n",
       "\n",
       "    .dataframe thead th {\n",
       "        text-align: right;\n",
       "    }\n",
       "</style>\n",
       "<table border=\"1\" class=\"dataframe\">\n",
       "  <thead>\n",
       "    <tr style=\"text-align: right;\">\n",
       "      <th></th>\n",
       "      <th>Wavelength (nm)</th>\n",
       "      <th>EQE (%)</th>\n",
       "      <th>EQE (%) smoothed</th>\n",
       "    </tr>\n",
       "  </thead>\n",
       "  <tbody>\n",
       "    <tr>\n",
       "      <th>205</th>\n",
       "      <td>710.013</td>\n",
       "      <td>92.5443</td>\n",
       "      <td>92.955741</td>\n",
       "    </tr>\n",
       "  </tbody>\n",
       "</table>\n",
       "</div>"
      ],
      "text/plain": [
       "     Wavelength (nm)  EQE (%)  EQE (%) smoothed\n",
       "205          710.013  92.5443         92.955741"
      ]
     },
     "execution_count": 6,
     "metadata": {},
     "output_type": "execute_result"
    }
   ],
   "source": [
    "eqe_max = df.loc[df[\"EQE (%) smoothed\"] == df[\"EQE (%) smoothed\"].max()]\n",
    "eqe_max"
   ]
  },
  {
   "attachments": {},
   "cell_type": "markdown",
   "metadata": {},
   "source": [
    "We see that a maximum in the *EQE* happens at a wavelength of $710$ $nm$ with $92.96$%.  \n",
    "  \n",
    "Besides, there's a big decrease in the *EQE* around $950$ $nm$. This happens beacuse of reflectance or trasmission phenomena. We can also watch that there is not absorption of photons from $1100$ $nm$.  \n",
    "  \n",
    "Let's check the energy when photons aren't absorbed anymore with:  \n",
    "  \n",
    "$E=\\frac{hc}{\\lambda}$     (7)"
   ]
  },
  {
   "attachments": {},
   "cell_type": "markdown",
   "metadata": {},
   "source": [
    "First, we will verify that photons aren't abosrbed at $1100$ $nm$:"
   ]
  },
  {
   "cell_type": "code",
   "execution_count": 7,
   "metadata": {},
   "outputs": [
    {
     "data": {
      "text/html": [
       "<div>\n",
       "<style scoped>\n",
       "    .dataframe tbody tr th:only-of-type {\n",
       "        vertical-align: middle;\n",
       "    }\n",
       "\n",
       "    .dataframe tbody tr th {\n",
       "        vertical-align: top;\n",
       "    }\n",
       "\n",
       "    .dataframe thead th {\n",
       "        text-align: right;\n",
       "    }\n",
       "</style>\n",
       "<table border=\"1\" class=\"dataframe\">\n",
       "  <thead>\n",
       "    <tr style=\"text-align: right;\">\n",
       "      <th></th>\n",
       "      <th>Wavelength (nm)</th>\n",
       "      <th>EQE (%)</th>\n",
       "      <th>EQE (%) smoothed</th>\n",
       "    </tr>\n",
       "  </thead>\n",
       "  <tbody>\n",
       "    <tr>\n",
       "      <th>400</th>\n",
       "      <td>1100.006</td>\n",
       "      <td>16.17466</td>\n",
       "      <td>16.048673</td>\n",
       "    </tr>\n",
       "  </tbody>\n",
       "</table>\n",
       "</div>"
      ],
      "text/plain": [
       "     Wavelength (nm)   EQE (%)  EQE (%) smoothed\n",
       "400         1100.006  16.17466         16.048673"
      ]
     },
     "execution_count": 7,
     "metadata": {},
     "output_type": "execute_result"
    }
   ],
   "source": [
    "df_min = df.loc[df[\"EQE (%) smoothed\"] == df[\"EQE (%) smoothed\"].min()]\n",
    "df_min"
   ]
  },
  {
   "attachments": {},
   "cell_type": "markdown",
   "metadata": {},
   "source": [
    "Then, using (7):"
   ]
  },
  {
   "cell_type": "code",
   "execution_count": 8,
   "metadata": {},
   "outputs": [
    {
     "name": "stdout",
     "output_type": "stream",
     "text": [
      "E_g=1.13 eV\n"
     ]
    }
   ],
   "source": [
    "# Remember that hc=1240 eV * nm\n",
    "oe_gap = round(1240 / (df_min[\"Wavelength (nm)\"]).values[0], 2)\n",
    "print(f\"E_g={oe_gap} eV\")"
   ]
  },
  {
   "attachments": {},
   "cell_type": "markdown",
   "metadata": {},
   "source": [
    "We obtain an energy gap of $1.13$ $eV$. This energy corresponds to the energy gap of *Si*."
   ]
  },
  {
   "attachments": {},
   "cell_type": "markdown",
   "metadata": {},
   "source": [
    "#### Using Plotly to find maximum and minimum in EQE"
   ]
  },
  {
   "cell_type": "code",
   "execution_count": 9,
   "metadata": {},
   "outputs": [
    {
     "data": {
      "application/vnd.plotly.v1+json": {
       "config": {
        "plotlyServerURL": "https://plot.ly"
       },
       "data": [
        {
         "hovertemplate": "variable=EQE (%)<br>Wavelength (nm)=%{x}<br>value=%{y}<extra></extra>",
         "legendgroup": "EQE (%)",
         "line": {
          "color": "#636efa",
          "dash": "solid"
         },
         "marker": {
          "symbol": "circle"
         },
         "mode": "markers+lines",
         "name": "Not smoothed",
         "orientation": "v",
         "showlegend": true,
         "type": "scatter",
         "x": [
          300.017,
          301.992,
          304.005,
          306.016,
          307.991,
          310.002,
          312.012,
          313.985,
          315.994,
          318.003,
          320.012,
          321.982,
          323.99,
          325.997,
          328.003,
          330.009,
          332.014,
          333.982,
          335.987,
          337.99,
          339.994,
          341.996,
          343.999,
          346,
          348.001,
          350.002,
          352.002,
          354.001,
          356,
          357.998,
          359.996,
          361.993,
          363.99,
          365.986,
          367.982,
          370.013,
          372.008,
          374.002,
          375.995,
          377.987,
          380.016,
          382.007,
          383.998,
          385.988,
          388.014,
          390.003,
          391.991,
          394.016,
          396.003,
          397.989,
          400.012,
          401.997,
          404.018,
          406.002,
          407.985,
          410.004,
          411.986,
          414.004,
          415.985,
          418.001,
          420.017,
          421.996,
          424.01,
          425.988,
          428.001,
          430.013,
          431.988,
          433.999,
          436.01,
          437.983,
          439.992,
          442,
          444.007,
          446.014,
          447.983,
          449.989,
          451.993,
          453.997,
          456,
          458.002,
          460.004,
          462.005,
          464.005,
          466.004,
          468.003,
          470,
          471.997,
          473.994,
          475.989,
          477.984,
          480.014,
          482.007,
          483.999,
          485.991,
          488.018,
          490.007,
          491.997,
          493.985,
          496.008,
          497.995,
          500.017,
          502.002,
          503.986,
          506.006,
          507.988,
          510.006,
          511.986,
          514.002,
          516.017,
          517.996,
          520.009,
          521.986,
          523.997,
          526.008,
          528.018,
          529.991,
          531.999,
          534.006,
          536.012,
          538.018,
          539.986,
          541.99,
          543.992,
          545.994,
          547.995,
          549.994,
          551.993,
          553.991,
          555.988,
          557.984,
          560.015,
          562.009,
          564.002,
          565.994,
          567.986,
          570.011,
          572.001,
          573.989,
          576.012,
          577.998,
          579.984,
          582.004,
          583.987,
          586.005,
          587.986,
          590.002,
          592.017,
          593.995,
          596.008,
          597.984,
          599.994,
          602.004,
          604.012,
          605.984,
          607.991,
          609.996,
          612,
          614.003,
          616.005,
          618.006,
          620.006,
          622.005,
          624.003,
          625.999,
          627.995,
          629.989,
          632.017,
          634.009,
          636,
          637.99,
          640.014,
          642.001,
          643.988,
          646.008,
          647.992,
          650.01,
          651.992,
          654.008,
          655.987,
          658,
          660.012,
          661.988,
          663.998,
          666.006,
          668.013,
          669.985,
          671.989,
          673.993,
          675.995,
          677.996,
          679.996,
          681.994,
          683.992,
          685.988,
          688.017,
          690.01,
          692.003,
          693.994,
          695.983,
          698.006,
          699.994,
          702.014,
          703.998,
          706.016,
          707.998,
          710.013,
          711.992,
          714.004,
          716.015,
          717.99,
          719.999,
          722.006,
          724.011,
          726.015,
          727.984,
          729.985,
          731.985,
          733.984,
          736.015,
          738.011,
          740.005,
          741.998,
          743.99,
          746.014,
          748.003,
          749.99,
          752.01,
          753.994,
          756.011,
          757.993,
          760.007,
          761.985,
          763.996,
          766.006,
          768.013,
          769.986,
          771.991,
          773.995,
          775.997,
          777.997,
          779.996,
          781.993,
          783.989,
          786.016,
          788.009,
          790,
          791.99,
          794.011,
          795.998,
          798.016,
          799.999,
          802.014,
          803.994,
          806.006,
          808.016,
          809.991,
          811.998,
          814.003,
          816.007,
          818.009,
          820.009,
          822.008,
          824.005,
          826,
          827.993,
          829.985,
          832.008,
          833.997,
          836.016,
          838.001,
          839.985,
          841.999,
          844.011,
          845.99,
          847.999,
          850.006,
          852.011,
          854.015,
          855.985,
          857.985,
          860.015,
          862.012,
          864.007,
          866,
          867.991,
          870.012,
          872,
          873.986,
          876.001,
          878.015,
          879.996,
          882.006,
          884.014,
          885.989,
          887.993,
          889.996,
          891.997,
          893.995,
          895.992,
          897.987,
          900.012,
          902.003,
          903.992,
          906.011,
          907.996,
          910.011,
          911.992,
          914.003,
          916.012,
          917.987,
          919.992,
          921.994,
          923.995,
          925.993,
          927.99,
          930.015,
          932.008,
          933.998,
          935.986,
          938.003,
          939.987,
          942,
          944.011,
          945.988,
          947.995,
          949.999,
          952.001,
          954.001,
          955.999,
          957.994,
          959.987,
          962.009,
          963.998,
          965.985,
          968,
          970.012,
          971.992,
          974.001,
          976.007,
          978.01,
          980.011,
          982.01,
          984.007,
          986.001,
          987.993,
          990.013,
          992,
          993.985,
          995.998,
          998.008,
          999.986,
          1001.991,
          1003.994,
          1005.995,
          1007.993,
          1009.988,
          1012.011,
          1014.002,
          1015.99,
          1018.005,
          1019.988,
          1021.999,
          1024.006,
          1026.011,
          1028.014,
          1030.014,
          1032.011,
          1034.006,
          1035.998,
          1037.988,
          1040.004,
          1041.989,
          1044,
          1046.008,
          1048.014,
          1049.987,
          1051.988,
          1054.014,
          1056.009,
          1058,
          1059.99,
          1062.005,
          1063.989,
          1065.998,
          1068.005,
          1070.009,
          1072.011,
          1074.009,
          1076.004,
          1077.997,
          1079.987,
          1082.002,
          1083.986,
          1085.995,
          1088.002,
          1090.005,
          1092.006,
          1094.003,
          1095.998,
          1097.989,
          1100.006
         ],
         "xaxis": "x",
         "y": [
          58.06996,
          59.40507,
          60.75801,
          62.07649,
          63.10497,
          64.4626,
          66.98625,
          69.82415,
          72.5021,
          75.13278,
          77.3057,
          76.8039,
          76.02697,
          75.16071,
          73.98091,
          72.62933,
          69.56987,
          66.26505,
          62.77009,
          59.27196,
          56.67125,
          56.5779,
          57.45807,
          58.27669,
          59.72422,
          60.34451,
          61.55788,
          62.66553,
          64.15428,
          66.2606,
          66.78353,
          67.49153,
          67.94595,
          67.49932,
          67.56276,
          67.73164,
          68.39855,
          68.86681,
          69.01379,
          69.60223,
          69.96781,
          70.55946,
          70.85584,
          71.47378,
          72.26566,
          72.93113,
          73.66569,
          74.23083,
          75.40137,
          75.86948,
          76.57362,
          76.95932,
          77.28281,
          78.07294,
          78.53978,
          79.3574,
          79.63236,
          80.21363,
          80.51625,
          81.0599,
          81.15087,
          82.38521,
          81.8546,
          82.58208,
          82.58171,
          83.27195,
          85.21498,
          84.00414,
          84.11859,
          84.22249,
          84.69598,
          84.9017,
          84.98446,
          84.7406,
          85.45346,
          84.66716,
          85.00643,
          85.32301,
          84.94017,
          85.6218,
          86.58055,
          86.32807,
          86.63116,
          86.71167,
          87.15679,
          86.36896,
          87.21521,
          86.88113,
          87.61296,
          88.13178,
          87.93625,
          88.22068,
          87.91512,
          88.02922,
          88.59253,
          89.75622,
          89.34946,
          89.31431,
          89.85021,
          89.47283,
          89.4226,
          90.0272,
          89.34955,
          89.52472,
          89.10088,
          89.72339,
          89.52021,
          89.77341,
          89.73491,
          90.2052,
          90.3536,
          90.2739,
          90.2754,
          90.642,
          90.6475,
          90.83,
          90.9877,
          90.665,
          91.7924,
          91.3805,
          91.09,
          91.1159,
          91.657,
          91.0257,
          92.2204,
          91.4447,
          92.105,
          92.7539,
          92.3792,
          92.17,
          93.1231,
          92.4219,
          92.7166,
          92.1309,
          92.6028,
          92.7884,
          92.74,
          92.4899,
          92.4769,
          92.5144,
          92.5426,
          92.8744,
          93.2167,
          92.6285,
          92.2368,
          92.2822,
          92.6661,
          92.1657,
          91.8019,
          91.8581,
          91.7925,
          92.4222,
          92.1573,
          92.9818,
          92.5552,
          92.3777,
          92.7625,
          92.2594,
          92.5503,
          92.4322,
          91.8743,
          92.0151,
          92.37,
          92.4614,
          92.7833,
          92.9663,
          92.4858,
          92.2133,
          92.7403,
          92.63,
          92.3997,
          92.9988,
          93.1824,
          92.2168,
          93.0201,
          92.6262,
          93.0334,
          92.2012,
          92.5974,
          92.8669,
          92.417,
          93.0248,
          92.5101,
          93.2443,
          93.2256,
          92.5102,
          92.5544,
          92.94,
          92.4148,
          92.3667,
          91.806,
          92.5012,
          92.5697,
          92.8659,
          92.2723,
          93.1359,
          93.0059,
          92.7992,
          92.5224,
          92.5637,
          93.0722,
          92.3959,
          92.5581,
          92.5815,
          93.0738,
          92.5443,
          93.1571,
          93.1121,
          92.4515,
          93.3212,
          92.2515,
          92.8651,
          92.9607,
          92.9071,
          92.9707,
          92.595,
          92.7586,
          91.9423,
          92.5505,
          92.7499,
          92.6202,
          92.2058,
          92.4844,
          91.9854,
          92.3337,
          92.7272,
          92.2417,
          92.5981,
          92.1997,
          92.4665,
          92.6356,
          92.4608,
          92.0658,
          91.1582,
          91.8134,
          91.8176,
          92.4435,
          92.1265,
          92.111,
          92.5562,
          92.9092,
          91.6097,
          91.5862,
          92.4372,
          92.7176,
          91.1561,
          91.8938,
          92.194,
          91.6973,
          91.3842,
          91.629,
          91.5921,
          91.8446,
          91.9404,
          91.896,
          91.9435,
          91.5963,
          91.6213,
          90.8422,
          92.3878,
          92.1369,
          91.8827,
          91.4827,
          91.0827,
          90.932,
          90.3154,
          91.9057,
          90.6499,
          90.2186,
          91.8141,
          90.9277,
          91.1486,
          90.7878,
          91.2008,
          91.1985,
          90.8367,
          90.8357,
          90.6932,
          90.8815,
          91.1829,
          90.3093,
          91.0282,
          90.7081,
          90.2762,
          89.61132,
          90.6786,
          90.3922,
          90.5551,
          90.0578,
          89.31013,
          89.23224,
          89.63224,
          89.43224,
          89.23224,
          89.01451,
          89.21205,
          89.13743,
          89.3501,
          88.14627,
          88.12529,
          88.37038,
          89.04374,
          88.14095,
          88.09402,
          88.23021,
          88.64977,
          89.22324,
          88.5683,
          87.94434,
          87.44434,
          87.11601,
          87.18469,
          88.10813,
          87.61719,
          87.7834,
          87.06982,
          87.03809,
          86.93415,
          86.54683,
          85.45694,
          85.78393,
          85.64047,
          85.64613,
          84.67591,
          85.24849,
          84.08137,
          83.68963,
          83.60207,
          83.98285,
          83.71473,
          84.16267,
          84.09206,
          83.52204,
          82.93509,
          82.01494,
          81.67809,
          81.28653,
          80.86174,
          80.75275,
          80.1893,
          79.46144,
          78.67854,
          79.68694,
          78.68983,
          78.97655,
          78.24821,
          76.6866,
          75.97394,
          75.3259,
          75.73188,
          75.06599,
          74.40892,
          73.33643,
          72.93281,
          72.50262,
          71.47938,
          71.08485,
          69.88024,
          69.16221,
          68.86208,
          68.80058,
          67.85584,
          66.63491,
          65.88619,
          64.90565,
          64.33081,
          62.94679,
          61.98417,
          61.14854,
          59.9102,
          59.21023,
          57.84573,
          56.45215,
          54.78439,
          53.62855,
          52.34336,
          50.77902,
          48.6623,
          47.26141,
          45.91328,
          44.18885,
          42.61996,
          41.0567,
          39.75184,
          38.0523,
          36.22019,
          35.07762,
          33.60352,
          32.5116,
          31.01661,
          30.52733,
          30.25657,
          28.24899,
          26.46494,
          25.32785,
          24.15011,
          22.21079,
          20.5027,
          18.87539,
          17.46431,
          16.17466
         ],
         "yaxis": "y"
        },
        {
         "hovertemplate": "variable=EQE (%) smoothed<br>Wavelength (nm)=%{x}<br>value=%{y}<extra></extra>",
         "legendgroup": "EQE (%) smoothed",
         "line": {
          "color": "#EF553B",
          "dash": "solid"
         },
         "marker": {
          "symbol": "circle"
         },
         "mode": "markers+lines",
         "name": "Smoothed",
         "orientation": "v",
         "showlegend": true,
         "type": "scatter",
         "x": [
          300.017,
          301.992,
          304.005,
          306.016,
          307.991,
          310.002,
          312.012,
          313.985,
          315.994,
          318.003,
          320.012,
          321.982,
          323.99,
          325.997,
          328.003,
          330.009,
          332.014,
          333.982,
          335.987,
          337.99,
          339.994,
          341.996,
          343.999,
          346,
          348.001,
          350.002,
          352.002,
          354.001,
          356,
          357.998,
          359.996,
          361.993,
          363.99,
          365.986,
          367.982,
          370.013,
          372.008,
          374.002,
          375.995,
          377.987,
          380.016,
          382.007,
          383.998,
          385.988,
          388.014,
          390.003,
          391.991,
          394.016,
          396.003,
          397.989,
          400.012,
          401.997,
          404.018,
          406.002,
          407.985,
          410.004,
          411.986,
          414.004,
          415.985,
          418.001,
          420.017,
          421.996,
          424.01,
          425.988,
          428.001,
          430.013,
          431.988,
          433.999,
          436.01,
          437.983,
          439.992,
          442,
          444.007,
          446.014,
          447.983,
          449.989,
          451.993,
          453.997,
          456,
          458.002,
          460.004,
          462.005,
          464.005,
          466.004,
          468.003,
          470,
          471.997,
          473.994,
          475.989,
          477.984,
          480.014,
          482.007,
          483.999,
          485.991,
          488.018,
          490.007,
          491.997,
          493.985,
          496.008,
          497.995,
          500.017,
          502.002,
          503.986,
          506.006,
          507.988,
          510.006,
          511.986,
          514.002,
          516.017,
          517.996,
          520.009,
          521.986,
          523.997,
          526.008,
          528.018,
          529.991,
          531.999,
          534.006,
          536.012,
          538.018,
          539.986,
          541.99,
          543.992,
          545.994,
          547.995,
          549.994,
          551.993,
          553.991,
          555.988,
          557.984,
          560.015,
          562.009,
          564.002,
          565.994,
          567.986,
          570.011,
          572.001,
          573.989,
          576.012,
          577.998,
          579.984,
          582.004,
          583.987,
          586.005,
          587.986,
          590.002,
          592.017,
          593.995,
          596.008,
          597.984,
          599.994,
          602.004,
          604.012,
          605.984,
          607.991,
          609.996,
          612,
          614.003,
          616.005,
          618.006,
          620.006,
          622.005,
          624.003,
          625.999,
          627.995,
          629.989,
          632.017,
          634.009,
          636,
          637.99,
          640.014,
          642.001,
          643.988,
          646.008,
          647.992,
          650.01,
          651.992,
          654.008,
          655.987,
          658,
          660.012,
          661.988,
          663.998,
          666.006,
          668.013,
          669.985,
          671.989,
          673.993,
          675.995,
          677.996,
          679.996,
          681.994,
          683.992,
          685.988,
          688.017,
          690.01,
          692.003,
          693.994,
          695.983,
          698.006,
          699.994,
          702.014,
          703.998,
          706.016,
          707.998,
          710.013,
          711.992,
          714.004,
          716.015,
          717.99,
          719.999,
          722.006,
          724.011,
          726.015,
          727.984,
          729.985,
          731.985,
          733.984,
          736.015,
          738.011,
          740.005,
          741.998,
          743.99,
          746.014,
          748.003,
          749.99,
          752.01,
          753.994,
          756.011,
          757.993,
          760.007,
          761.985,
          763.996,
          766.006,
          768.013,
          769.986,
          771.991,
          773.995,
          775.997,
          777.997,
          779.996,
          781.993,
          783.989,
          786.016,
          788.009,
          790,
          791.99,
          794.011,
          795.998,
          798.016,
          799.999,
          802.014,
          803.994,
          806.006,
          808.016,
          809.991,
          811.998,
          814.003,
          816.007,
          818.009,
          820.009,
          822.008,
          824.005,
          826,
          827.993,
          829.985,
          832.008,
          833.997,
          836.016,
          838.001,
          839.985,
          841.999,
          844.011,
          845.99,
          847.999,
          850.006,
          852.011,
          854.015,
          855.985,
          857.985,
          860.015,
          862.012,
          864.007,
          866,
          867.991,
          870.012,
          872,
          873.986,
          876.001,
          878.015,
          879.996,
          882.006,
          884.014,
          885.989,
          887.993,
          889.996,
          891.997,
          893.995,
          895.992,
          897.987,
          900.012,
          902.003,
          903.992,
          906.011,
          907.996,
          910.011,
          911.992,
          914.003,
          916.012,
          917.987,
          919.992,
          921.994,
          923.995,
          925.993,
          927.99,
          930.015,
          932.008,
          933.998,
          935.986,
          938.003,
          939.987,
          942,
          944.011,
          945.988,
          947.995,
          949.999,
          952.001,
          954.001,
          955.999,
          957.994,
          959.987,
          962.009,
          963.998,
          965.985,
          968,
          970.012,
          971.992,
          974.001,
          976.007,
          978.01,
          980.011,
          982.01,
          984.007,
          986.001,
          987.993,
          990.013,
          992,
          993.985,
          995.998,
          998.008,
          999.986,
          1001.991,
          1003.994,
          1005.995,
          1007.993,
          1009.988,
          1012.011,
          1014.002,
          1015.99,
          1018.005,
          1019.988,
          1021.999,
          1024.006,
          1026.011,
          1028.014,
          1030.014,
          1032.011,
          1034.006,
          1035.998,
          1037.988,
          1040.004,
          1041.989,
          1044,
          1046.008,
          1048.014,
          1049.987,
          1051.988,
          1054.014,
          1056.009,
          1058,
          1059.99,
          1062.005,
          1063.989,
          1065.998,
          1068.005,
          1070.009,
          1072.011,
          1074.009,
          1076.004,
          1077.997,
          1079.987,
          1082.002,
          1083.986,
          1085.995,
          1088.002,
          1090.005,
          1092.006,
          1094.003,
          1095.998,
          1097.989,
          1100.006
         ],
         "xaxis": "x",
         "y": [
          58.45918345454545,
          59.257435575757576,
          60.32076436363637,
          61.649169818181825,
          63.24265193939395,
          66.12816043750021,
          68.65312031250022,
          71.32858756250023,
          73.76682550000022,
          75.58635887500024,
          76.51893187500025,
          76.74393637500025,
          76.19498137500024,
          74.88798193750024,
          72.98816087500023,
          70.66552650000021,
          67.62670618750022,
          64.2585243125002,
          61.1410016875002,
          58.66286518750019,
          57.34198131250019,
          56.979796375000184,
          57.48767750000019,
          58.555109000000186,
          59.770554562500195,
          61.0554416250002,
          62.364083687500205,
          63.7109526250002,
          65.0406709375002,
          66.2318205625002,
          67.06467043750021,
          67.53266618750021,
          67.70744325000021,
          67.76245268750021,
          67.91332256250023,
          68.11023212500022,
          68.41783200000022,
          68.90734568750023,
          69.35738418750023,
          69.77962262500023,
          70.19750100000023,
          70.69425187500023,
          71.29066012500024,
          71.84928437500022,
          72.54544375000023,
          73.27339787500024,
          74.07682700000022,
          74.84191775000023,
          75.50223125000024,
          76.14224043750025,
          76.70104837500025,
          77.27389037500025,
          77.76394725000026,
          78.33533118750024,
          78.86607600000025,
          79.44921037500026,
          79.88826656250025,
          80.40608618750026,
          80.83109893750024,
          81.24440568750025,
          81.61765631250026,
          81.82223175000026,
          82.38086275000028,
          82.89284175000027,
          83.37043700000027,
          83.67331737500027,
          84.08102137500028,
          84.32047050000027,
          84.55911875000028,
          84.54395156250027,
          84.59606600000028,
          84.86373256250027,
          84.94330737500027,
          85.03808631250027,
          84.98474637500027,
          84.92813775000026,
          85.07386881250028,
          85.29147537500026,
          85.52964925000026,
          85.90256818750026,
          86.28040037500027,
          86.4953824375003,
          86.76147568750028,
          86.76350375000028,
          86.75057456250028,
          86.96187518750028,
          87.13705931250028,
          87.40901937500028,
          87.64627156250027,
          87.88761806250028,
          87.89269437500027,
          88.15009812500027,
          88.34158300000028,
          88.54326862500028,
          88.91131456250027,
          89.22316456250027,
          89.4536628125003,
          89.6536533125003,
          89.6523539375003,
          89.61013706250029,
          89.58769593750029,
          89.55460093750028,
          89.46085968750029,
          89.4909128125003,
          89.45895106250029,
          89.46451325000028,
          89.67341825000027,
          89.84031887500028,
          90.00656250000029,
          90.1074732500003,
          90.26891393750027,
          90.38299387500028,
          90.55002537500029,
          90.53330125000029,
          90.69737187500029,
          90.92554937500029,
          91.08933375000028,
          91.12871875000029,
          91.2768887500003,
          91.23270062500029,
          91.3500862500003,
          91.3854537500003,
          91.31560000000029,
          91.56924250000029,
          91.85596750000029,
          91.9819462500003,
          92.2090493750003,
          92.4293875000003,
          92.53170437500029,
          92.64385375000028,
          92.55905812500028,
          92.51362375000028,
          92.59818625000028,
          92.61305937500029,
          92.5305337500003,
          92.59714312500029,
          92.55455562500029,
          92.5727437500003,
          92.60243187500029,
          92.6852443750003,
          92.7371181250003,
          92.72330937500028,
          92.72676125000031,
          92.68618000000029,
          92.5393437500003,
          92.3297931250003,
          92.08828875000029,
          92.0600331250003,
          91.96809437500029,
          91.99572187500029,
          92.08985312500029,
          92.2601712500003,
          92.4859162500003,
          92.5711843750003,
          92.61936000000031,
          92.61162437500029,
          92.5563425000003,
          92.3498343750003,
          92.28811312500028,
          92.2054262500003,
          92.1511581250003,
          92.30289125000029,
          92.41969375000029,
          92.5054000000003,
          92.63793937500029,
          92.6787418750003,
          92.5859681250003,
          92.53303000000028,
          92.6150075000003,
          92.6043562500003,
          92.7403868750003,
          92.76895000000029,
          92.8206275000003,
          92.8105812500003,
          92.7432712500003,
          92.6698668750003,
          92.59316375000029,
          92.6978681250003,
          92.56385875000029,
          92.6199181250003,
          92.75136187500028,
          92.91729000000028,
          92.87122625000028,
          92.89941937500029,
          92.91479000000031,
          92.8370618750003,
          92.6753456250003,
          92.43082437500028,
          92.31641250000028,
          92.39927312500029,
          92.3161993750003,
          92.34288687500029,
          92.5417475000003,
          92.7292606250003,
          92.8652106250003,
          92.7765525000003,
          92.82535687500031,
          92.79174062500029,
          92.7797600000003,
          92.59032250000028,
          92.62715312500029,
          92.6188012500003,
          92.6748412500003,
          92.7829450000003,
          92.7424950000003,
          92.95574062500029,
          92.92455750000029,
          92.87419562500031,
          92.8115775000003,
          92.82584875000029,
          92.79646562500028,
          92.81165312500029,
          92.93057937500029,
          92.7805262500003,
          92.7589931250003,
          92.60694750000029,
          92.5606768750003,
          92.48500937500029,
          92.48497062500029,
          92.45744875000028,
          92.3756750000003,
          92.4466662500003,
          92.32376187500027,
          92.32787562500029,
          92.34490125000029,
          92.3848693750003,
          92.41415062500029,
          92.52090000000028,
          92.5553237500003,
          92.39327500000029,
          92.2757900000003,
          92.02477937500029,
          91.9435912500003,
          91.8427556250003,
          91.7822037500003,
          91.85463562500028,
          92.19384750000032,
          92.4307531250003,
          92.31348437500029,
          92.2240887500003,
          92.28298250000029,
          92.2178687500003,
          92.0674375000003,
          91.9701737500003,
          91.95520500000029,
          92.00850687500028,
          91.88534375000029,
          91.66315562500029,
          91.59651937500031,
          91.72208125000031,
          91.64538687500028,
          91.7002337500003,
          91.8177262500003,
          91.94268812500027,
          91.74383875000028,
          91.67557562500029,
          91.65269812500028,
          91.70393937500029,
          91.7793662500003,
          91.80226312500031,
          91.8354375000003,
          91.5515337500003,
          91.47487500000028,
          91.17536187500028,
          90.87265750000029,
          90.85475625000029,
          90.88404937500029,
          90.9936343750003,
          91.01864437500029,
          91.05452562500031,
          90.98693687500028,
          91.15307437500029,
          91.15334812500029,
          90.93994750000029,
          90.93832437500029,
          90.96244375000028,
          90.88719125000028,
          90.8122962500003,
          90.83225500000029,
          90.8921645000003,
          90.6981851250003,
          90.57188075000028,
          90.40840012500027,
          90.3536463750003,
          90.43455437500029,
          90.2949065000003,
          90.16604706250028,
          90.06567168750028,
          89.9251341250003,
          89.62308625000028,
          89.42614843750029,
          89.27163300000029,
          89.2267211250003,
          89.35077187500028,
          89.27319193750029,
          89.05088375000028,
          88.8159175000003,
          88.74605943750026,
          88.63446368750029,
          88.45777212500029,
          88.30418068750028,
          88.20787637500028,
          88.42163575000028,
          88.5528027500003,
          88.59956868750028,
          88.55164356250029,
          88.50487262500027,
          88.17431687500027,
          87.89660262500027,
          87.58972350000028,
          87.46094537500028,
          87.49155475000029,
          87.5413778750003,
          87.57525406250028,
          87.57053312500028,
          87.25876856250028,
          86.81931406250027,
          86.48404187500027,
          86.21569575000026,
          85.90306975000026,
          85.67859068750026,
          85.44014343750027,
          85.18198325000027,
          84.86826212500029,
          84.46360987500027,
          84.09299075000025,
          83.85885287500027,
          83.85618200000026,
          83.82678531250028,
          83.98696812500026,
          83.90838043750027,
          83.62491543750026,
          83.16633087500027,
          82.62473275000026,
          82.02512475000026,
          81.53666925000027,
          81.14096162500024,
          80.59534350000025,
          80.25951406250027,
          79.82507568750025,
          79.51900175000024,
          79.34161562500024,
          79.04909937500025,
          78.68779218750025,
          78.10599581250025,
          77.47211362500025,
          76.69154225000024,
          76.14569062500024,
          75.47562893750025,
          74.95765843750024,
          74.57614325000024,
          74.01080325000025,
          73.40885981250024,
          72.63434300000021,
          71.88677081250023,
          71.11521512500023,
          70.48124868750023,
          69.86228043750023,
          69.23110468750022,
          68.64168300000021,
          67.93093943750023,
          67.29661812500022,
          66.48080550000022,
          65.4991163125002,
          64.4963186250002,
          63.5228314375002,
          62.6022301250002,
          61.6217350625002,
          60.63013225000019,
          59.49547881250018,
          58.34658225000018,
          57.09460868750019,
          55.810169187500186,
          54.396744000000176,
          52.83607262500016,
          51.32557681250016,
          49.78027325000016,
          48.21004418750016,
          46.54454981250015,
          44.94840043750015,
          43.442271562500146,
          41.91455656250013,
          40.32733575000013,
          38.73117318750013,
          37.24562775000012,
          35.712260125000114,
          34.230893000000115,
          33.05378106250011,
          32.0666476250001,
          31.049253875000097,
          29.927258375000097,
          28.842275687500088,
          27.613805875000086,
          26.24012050000008,
          24.605303000000077,
          22.913306000000073,
          22.137399272727276,
          20.595463090909096,
          19.066696606060617,
          17.55109981818183,
          16.048672727272738
         ],
         "yaxis": "y"
        }
       ],
       "layout": {
        "legend": {
         "title": {},
         "tracegroupgap": 0
        },
        "template": {
         "data": {
          "bar": [
           {
            "error_x": {
             "color": "#2a3f5f"
            },
            "error_y": {
             "color": "#2a3f5f"
            },
            "marker": {
             "line": {
              "color": "#E5ECF6",
              "width": 0.5
             },
             "pattern": {
              "fillmode": "overlay",
              "size": 10,
              "solidity": 0.2
             }
            },
            "type": "bar"
           }
          ],
          "barpolar": [
           {
            "marker": {
             "line": {
              "color": "#E5ECF6",
              "width": 0.5
             },
             "pattern": {
              "fillmode": "overlay",
              "size": 10,
              "solidity": 0.2
             }
            },
            "type": "barpolar"
           }
          ],
          "carpet": [
           {
            "aaxis": {
             "endlinecolor": "#2a3f5f",
             "gridcolor": "white",
             "linecolor": "white",
             "minorgridcolor": "white",
             "startlinecolor": "#2a3f5f"
            },
            "baxis": {
             "endlinecolor": "#2a3f5f",
             "gridcolor": "white",
             "linecolor": "white",
             "minorgridcolor": "white",
             "startlinecolor": "#2a3f5f"
            },
            "type": "carpet"
           }
          ],
          "choropleth": [
           {
            "colorbar": {
             "outlinewidth": 0,
             "ticks": ""
            },
            "type": "choropleth"
           }
          ],
          "contour": [
           {
            "colorbar": {
             "outlinewidth": 0,
             "ticks": ""
            },
            "colorscale": [
             [
              0,
              "#0d0887"
             ],
             [
              0.1111111111111111,
              "#46039f"
             ],
             [
              0.2222222222222222,
              "#7201a8"
             ],
             [
              0.3333333333333333,
              "#9c179e"
             ],
             [
              0.4444444444444444,
              "#bd3786"
             ],
             [
              0.5555555555555556,
              "#d8576b"
             ],
             [
              0.6666666666666666,
              "#ed7953"
             ],
             [
              0.7777777777777778,
              "#fb9f3a"
             ],
             [
              0.8888888888888888,
              "#fdca26"
             ],
             [
              1,
              "#f0f921"
             ]
            ],
            "type": "contour"
           }
          ],
          "contourcarpet": [
           {
            "colorbar": {
             "outlinewidth": 0,
             "ticks": ""
            },
            "type": "contourcarpet"
           }
          ],
          "heatmap": [
           {
            "colorbar": {
             "outlinewidth": 0,
             "ticks": ""
            },
            "colorscale": [
             [
              0,
              "#0d0887"
             ],
             [
              0.1111111111111111,
              "#46039f"
             ],
             [
              0.2222222222222222,
              "#7201a8"
             ],
             [
              0.3333333333333333,
              "#9c179e"
             ],
             [
              0.4444444444444444,
              "#bd3786"
             ],
             [
              0.5555555555555556,
              "#d8576b"
             ],
             [
              0.6666666666666666,
              "#ed7953"
             ],
             [
              0.7777777777777778,
              "#fb9f3a"
             ],
             [
              0.8888888888888888,
              "#fdca26"
             ],
             [
              1,
              "#f0f921"
             ]
            ],
            "type": "heatmap"
           }
          ],
          "heatmapgl": [
           {
            "colorbar": {
             "outlinewidth": 0,
             "ticks": ""
            },
            "colorscale": [
             [
              0,
              "#0d0887"
             ],
             [
              0.1111111111111111,
              "#46039f"
             ],
             [
              0.2222222222222222,
              "#7201a8"
             ],
             [
              0.3333333333333333,
              "#9c179e"
             ],
             [
              0.4444444444444444,
              "#bd3786"
             ],
             [
              0.5555555555555556,
              "#d8576b"
             ],
             [
              0.6666666666666666,
              "#ed7953"
             ],
             [
              0.7777777777777778,
              "#fb9f3a"
             ],
             [
              0.8888888888888888,
              "#fdca26"
             ],
             [
              1,
              "#f0f921"
             ]
            ],
            "type": "heatmapgl"
           }
          ],
          "histogram": [
           {
            "marker": {
             "pattern": {
              "fillmode": "overlay",
              "size": 10,
              "solidity": 0.2
             }
            },
            "type": "histogram"
           }
          ],
          "histogram2d": [
           {
            "colorbar": {
             "outlinewidth": 0,
             "ticks": ""
            },
            "colorscale": [
             [
              0,
              "#0d0887"
             ],
             [
              0.1111111111111111,
              "#46039f"
             ],
             [
              0.2222222222222222,
              "#7201a8"
             ],
             [
              0.3333333333333333,
              "#9c179e"
             ],
             [
              0.4444444444444444,
              "#bd3786"
             ],
             [
              0.5555555555555556,
              "#d8576b"
             ],
             [
              0.6666666666666666,
              "#ed7953"
             ],
             [
              0.7777777777777778,
              "#fb9f3a"
             ],
             [
              0.8888888888888888,
              "#fdca26"
             ],
             [
              1,
              "#f0f921"
             ]
            ],
            "type": "histogram2d"
           }
          ],
          "histogram2dcontour": [
           {
            "colorbar": {
             "outlinewidth": 0,
             "ticks": ""
            },
            "colorscale": [
             [
              0,
              "#0d0887"
             ],
             [
              0.1111111111111111,
              "#46039f"
             ],
             [
              0.2222222222222222,
              "#7201a8"
             ],
             [
              0.3333333333333333,
              "#9c179e"
             ],
             [
              0.4444444444444444,
              "#bd3786"
             ],
             [
              0.5555555555555556,
              "#d8576b"
             ],
             [
              0.6666666666666666,
              "#ed7953"
             ],
             [
              0.7777777777777778,
              "#fb9f3a"
             ],
             [
              0.8888888888888888,
              "#fdca26"
             ],
             [
              1,
              "#f0f921"
             ]
            ],
            "type": "histogram2dcontour"
           }
          ],
          "mesh3d": [
           {
            "colorbar": {
             "outlinewidth": 0,
             "ticks": ""
            },
            "type": "mesh3d"
           }
          ],
          "parcoords": [
           {
            "line": {
             "colorbar": {
              "outlinewidth": 0,
              "ticks": ""
             }
            },
            "type": "parcoords"
           }
          ],
          "pie": [
           {
            "automargin": true,
            "type": "pie"
           }
          ],
          "scatter": [
           {
            "fillpattern": {
             "fillmode": "overlay",
             "size": 10,
             "solidity": 0.2
            },
            "type": "scatter"
           }
          ],
          "scatter3d": [
           {
            "line": {
             "colorbar": {
              "outlinewidth": 0,
              "ticks": ""
             }
            },
            "marker": {
             "colorbar": {
              "outlinewidth": 0,
              "ticks": ""
             }
            },
            "type": "scatter3d"
           }
          ],
          "scattercarpet": [
           {
            "marker": {
             "colorbar": {
              "outlinewidth": 0,
              "ticks": ""
             }
            },
            "type": "scattercarpet"
           }
          ],
          "scattergeo": [
           {
            "marker": {
             "colorbar": {
              "outlinewidth": 0,
              "ticks": ""
             }
            },
            "type": "scattergeo"
           }
          ],
          "scattergl": [
           {
            "marker": {
             "colorbar": {
              "outlinewidth": 0,
              "ticks": ""
             }
            },
            "type": "scattergl"
           }
          ],
          "scattermapbox": [
           {
            "marker": {
             "colorbar": {
              "outlinewidth": 0,
              "ticks": ""
             }
            },
            "type": "scattermapbox"
           }
          ],
          "scatterpolar": [
           {
            "marker": {
             "colorbar": {
              "outlinewidth": 0,
              "ticks": ""
             }
            },
            "type": "scatterpolar"
           }
          ],
          "scatterpolargl": [
           {
            "marker": {
             "colorbar": {
              "outlinewidth": 0,
              "ticks": ""
             }
            },
            "type": "scatterpolargl"
           }
          ],
          "scatterternary": [
           {
            "marker": {
             "colorbar": {
              "outlinewidth": 0,
              "ticks": ""
             }
            },
            "type": "scatterternary"
           }
          ],
          "surface": [
           {
            "colorbar": {
             "outlinewidth": 0,
             "ticks": ""
            },
            "colorscale": [
             [
              0,
              "#0d0887"
             ],
             [
              0.1111111111111111,
              "#46039f"
             ],
             [
              0.2222222222222222,
              "#7201a8"
             ],
             [
              0.3333333333333333,
              "#9c179e"
             ],
             [
              0.4444444444444444,
              "#bd3786"
             ],
             [
              0.5555555555555556,
              "#d8576b"
             ],
             [
              0.6666666666666666,
              "#ed7953"
             ],
             [
              0.7777777777777778,
              "#fb9f3a"
             ],
             [
              0.8888888888888888,
              "#fdca26"
             ],
             [
              1,
              "#f0f921"
             ]
            ],
            "type": "surface"
           }
          ],
          "table": [
           {
            "cells": {
             "fill": {
              "color": "#EBF0F8"
             },
             "line": {
              "color": "white"
             }
            },
            "header": {
             "fill": {
              "color": "#C8D4E3"
             },
             "line": {
              "color": "white"
             }
            },
            "type": "table"
           }
          ]
         },
         "layout": {
          "annotationdefaults": {
           "arrowcolor": "#2a3f5f",
           "arrowhead": 0,
           "arrowwidth": 1
          },
          "autotypenumbers": "strict",
          "coloraxis": {
           "colorbar": {
            "outlinewidth": 0,
            "ticks": ""
           }
          },
          "colorscale": {
           "diverging": [
            [
             0,
             "#8e0152"
            ],
            [
             0.1,
             "#c51b7d"
            ],
            [
             0.2,
             "#de77ae"
            ],
            [
             0.3,
             "#f1b6da"
            ],
            [
             0.4,
             "#fde0ef"
            ],
            [
             0.5,
             "#f7f7f7"
            ],
            [
             0.6,
             "#e6f5d0"
            ],
            [
             0.7,
             "#b8e186"
            ],
            [
             0.8,
             "#7fbc41"
            ],
            [
             0.9,
             "#4d9221"
            ],
            [
             1,
             "#276419"
            ]
           ],
           "sequential": [
            [
             0,
             "#0d0887"
            ],
            [
             0.1111111111111111,
             "#46039f"
            ],
            [
             0.2222222222222222,
             "#7201a8"
            ],
            [
             0.3333333333333333,
             "#9c179e"
            ],
            [
             0.4444444444444444,
             "#bd3786"
            ],
            [
             0.5555555555555556,
             "#d8576b"
            ],
            [
             0.6666666666666666,
             "#ed7953"
            ],
            [
             0.7777777777777778,
             "#fb9f3a"
            ],
            [
             0.8888888888888888,
             "#fdca26"
            ],
            [
             1,
             "#f0f921"
            ]
           ],
           "sequentialminus": [
            [
             0,
             "#0d0887"
            ],
            [
             0.1111111111111111,
             "#46039f"
            ],
            [
             0.2222222222222222,
             "#7201a8"
            ],
            [
             0.3333333333333333,
             "#9c179e"
            ],
            [
             0.4444444444444444,
             "#bd3786"
            ],
            [
             0.5555555555555556,
             "#d8576b"
            ],
            [
             0.6666666666666666,
             "#ed7953"
            ],
            [
             0.7777777777777778,
             "#fb9f3a"
            ],
            [
             0.8888888888888888,
             "#fdca26"
            ],
            [
             1,
             "#f0f921"
            ]
           ]
          },
          "colorway": [
           "#636efa",
           "#EF553B",
           "#00cc96",
           "#ab63fa",
           "#FFA15A",
           "#19d3f3",
           "#FF6692",
           "#B6E880",
           "#FF97FF",
           "#FECB52"
          ],
          "font": {
           "color": "#2a3f5f"
          },
          "geo": {
           "bgcolor": "white",
           "lakecolor": "white",
           "landcolor": "#E5ECF6",
           "showlakes": true,
           "showland": true,
           "subunitcolor": "white"
          },
          "hoverlabel": {
           "align": "left"
          },
          "hovermode": "closest",
          "mapbox": {
           "style": "light"
          },
          "paper_bgcolor": "white",
          "plot_bgcolor": "#E5ECF6",
          "polar": {
           "angularaxis": {
            "gridcolor": "white",
            "linecolor": "white",
            "ticks": ""
           },
           "bgcolor": "#E5ECF6",
           "radialaxis": {
            "gridcolor": "white",
            "linecolor": "white",
            "ticks": ""
           }
          },
          "scene": {
           "xaxis": {
            "backgroundcolor": "#E5ECF6",
            "gridcolor": "white",
            "gridwidth": 2,
            "linecolor": "white",
            "showbackground": true,
            "ticks": "",
            "zerolinecolor": "white"
           },
           "yaxis": {
            "backgroundcolor": "#E5ECF6",
            "gridcolor": "white",
            "gridwidth": 2,
            "linecolor": "white",
            "showbackground": true,
            "ticks": "",
            "zerolinecolor": "white"
           },
           "zaxis": {
            "backgroundcolor": "#E5ECF6",
            "gridcolor": "white",
            "gridwidth": 2,
            "linecolor": "white",
            "showbackground": true,
            "ticks": "",
            "zerolinecolor": "white"
           }
          },
          "shapedefaults": {
           "line": {
            "color": "#2a3f5f"
           }
          },
          "ternary": {
           "aaxis": {
            "gridcolor": "white",
            "linecolor": "white",
            "ticks": ""
           },
           "baxis": {
            "gridcolor": "white",
            "linecolor": "white",
            "ticks": ""
           },
           "bgcolor": "#E5ECF6",
           "caxis": {
            "gridcolor": "white",
            "linecolor": "white",
            "ticks": ""
           }
          },
          "title": {
           "x": 0.05
          },
          "xaxis": {
           "automargin": true,
           "gridcolor": "white",
           "linecolor": "white",
           "ticks": "",
           "title": {
            "standoff": 15
           },
           "zerolinecolor": "white",
           "zerolinewidth": 2
          },
          "yaxis": {
           "automargin": true,
           "gridcolor": "white",
           "linecolor": "white",
           "ticks": "",
           "title": {
            "standoff": 15
           },
           "zerolinecolor": "white",
           "zerolinewidth": 2
          }
         }
        },
        "title": {
         "text": "Fig. 1.1: External Quantum Efficiency of a Si solar cell (Plotly)",
         "x": 0.5
        },
        "xaxis": {
         "anchor": "y",
         "domain": [
          0,
          1
         ],
         "linecolor": "black",
         "linewidth": 1,
         "mirror": true,
         "title": {
          "text": "Wavelength (nm)"
         }
        },
        "yaxis": {
         "anchor": "x",
         "domain": [
          0,
          1
         ],
         "linecolor": "black",
         "linewidth": 1,
         "mirror": true,
         "title": {
          "text": "EQE (%)"
         }
        }
       }
      }
     },
     "metadata": {},
     "output_type": "display_data"
    }
   ],
   "source": [
    "fig_1_1 = px.line(\n",
    "    df,\n",
    "    x=\"Wavelength (nm)\",\n",
    "    y=df.columns[1:3],\n",
    "    markers=True,\n",
    "    title=\"Fig. 1.1: External Quantum Efficiency of a Si solar cell (Plotly)\"\n",
    ")\n",
    "\n",
    "fig_1_1.update_layout(title_x=0.5, yaxis_title=\"EQE (%)\", legend_title=None)\n",
    "fig_1_1.update_xaxes(linewidth=1, linecolor=\"black\", mirror=True)\n",
    "fig_1_1.update_yaxes(linewidth=1, linecolor=\"black\", mirror=True)\n",
    "fig_1_1_names = {\"EQE (%)\": \"Not smoothed\", \"EQE (%) smoothed\": \"Smoothed\"}\n",
    "fig_1_1.for_each_trace(lambda t: t.update(name = fig_1_1_names[t.name]))\n",
    "fig_1_1.show()"
   ]
  },
  {
   "attachments": {},
   "cell_type": "markdown",
   "metadata": {},
   "source": [
    "In this plot we just have to zoom in the part where the wavelength goes from $500$ $nm$ to $850$ $nm$ and turn off the curve of *EQE (%)* to find the maximum *EQE*.  \n",
    "We find that the maximum is located at $710.01$ $nm$ with an *EQE* of $92.95$% and the minimum is located at $1100$ $nm$ with an *EQE* of $16.04$%.  \n",
    "  \n",
    "We see that we obtain the same results as if we were using pandas. So the energy gap is the same as before, $E_{g}=1.13$ $eV$."
   ]
  },
  {
   "attachments": {},
   "cell_type": "markdown",
   "metadata": {},
   "source": [
    "## Spectral Response (RE)"
   ]
  },
  {
   "attachments": {},
   "cell_type": "markdown",
   "metadata": {},
   "source": [
    "It is defined as the photocurrent generated by the solar cell as function of incident photons in a wavelength interval and it is expressed in $\\frac{A}{W}$. This answer is:  \n",
    "  \n",
    "$RE(\\lambda)=\\frac{qQE(\\lambda)[1-R(\\lambda)]}{h\\nu}$     (8)  \n",
    "  \n",
    "The *EQI* can be calculated with the previous answer:  \n",
    "  \n",
    "$EQI(\\lambda)=\\frac{h\\nu}{q[1-R(\\lambda)]}RE(\\lambda)$     (9)  \n",
    "  \n",
    "Through (9), *EQE* can be calculated by replacing in (6):  \n",
    "  \n",
    "$EQE(\\lambda)=\\frac{hc}{q\\lambda}RE(\\lambda)$     (10)  \n",
    "  \n",
    "The answer of the system must be considerated in the measurement of *RE*, because the incident radiation will vary with the wavelength."
   ]
  },
  {
   "attachments": {},
   "cell_type": "markdown",
   "metadata": {},
   "source": [
    "### Spectral Response calculation through EQE"
   ]
  },
  {
   "attachments": {},
   "cell_type": "markdown",
   "metadata": {},
   "source": [
    "First, we will express the content of the columns corresponding to *EQE* as decimal numbers and them as new columns :"
   ]
  },
  {
   "cell_type": "code",
   "execution_count": 10,
   "metadata": {},
   "outputs": [
    {
     "data": {
      "text/html": [
       "<div>\n",
       "<style scoped>\n",
       "    .dataframe tbody tr th:only-of-type {\n",
       "        vertical-align: middle;\n",
       "    }\n",
       "\n",
       "    .dataframe tbody tr th {\n",
       "        vertical-align: top;\n",
       "    }\n",
       "\n",
       "    .dataframe thead th {\n",
       "        text-align: right;\n",
       "    }\n",
       "</style>\n",
       "<table border=\"1\" class=\"dataframe\">\n",
       "  <thead>\n",
       "    <tr style=\"text-align: right;\">\n",
       "      <th></th>\n",
       "      <th>Wavelength (nm)</th>\n",
       "      <th>EQE (%)</th>\n",
       "      <th>EQE (%) smoothed</th>\n",
       "      <th>EQE (%) dec</th>\n",
       "      <th>EQE (%) smoothed dec</th>\n",
       "    </tr>\n",
       "  </thead>\n",
       "  <tbody>\n",
       "    <tr>\n",
       "      <th>0</th>\n",
       "      <td>300.017</td>\n",
       "      <td>58.06996</td>\n",
       "      <td>58.459183</td>\n",
       "      <td>0.580700</td>\n",
       "      <td>0.584592</td>\n",
       "    </tr>\n",
       "    <tr>\n",
       "      <th>1</th>\n",
       "      <td>301.992</td>\n",
       "      <td>59.40507</td>\n",
       "      <td>59.257436</td>\n",
       "      <td>0.594051</td>\n",
       "      <td>0.592574</td>\n",
       "    </tr>\n",
       "    <tr>\n",
       "      <th>2</th>\n",
       "      <td>304.005</td>\n",
       "      <td>60.75801</td>\n",
       "      <td>60.320764</td>\n",
       "      <td>0.607580</td>\n",
       "      <td>0.603208</td>\n",
       "    </tr>\n",
       "    <tr>\n",
       "      <th>3</th>\n",
       "      <td>306.016</td>\n",
       "      <td>62.07649</td>\n",
       "      <td>61.649170</td>\n",
       "      <td>0.620765</td>\n",
       "      <td>0.616492</td>\n",
       "    </tr>\n",
       "    <tr>\n",
       "      <th>4</th>\n",
       "      <td>307.991</td>\n",
       "      <td>63.10497</td>\n",
       "      <td>63.242652</td>\n",
       "      <td>0.631050</td>\n",
       "      <td>0.632427</td>\n",
       "    </tr>\n",
       "  </tbody>\n",
       "</table>\n",
       "</div>"
      ],
      "text/plain": [
       "   Wavelength (nm)   EQE (%)  EQE (%) smoothed  EQE (%) dec   \n",
       "0          300.017  58.06996         58.459183     0.580700  \\\n",
       "1          301.992  59.40507         59.257436     0.594051   \n",
       "2          304.005  60.75801         60.320764     0.607580   \n",
       "3          306.016  62.07649         61.649170     0.620765   \n",
       "4          307.991  63.10497         63.242652     0.631050   \n",
       "\n",
       "   EQE (%) smoothed dec  \n",
       "0              0.584592  \n",
       "1              0.592574  \n",
       "2              0.603208  \n",
       "3              0.616492  \n",
       "4              0.632427  "
      ]
     },
     "execution_count": 10,
     "metadata": {},
     "output_type": "execute_result"
    }
   ],
   "source": [
    "df[\"EQE (%) dec\"] = df[\"EQE (%)\"] / 100\n",
    "df[\"EQE (%) smoothed dec\"] = df[\"EQE (%) smoothed\"] / 100\n",
    "df.head(5)"
   ]
  },
  {
   "attachments": {},
   "cell_type": "markdown",
   "metadata": {},
   "source": [
    "Now, we can proceed to calculate the spectral response with (10):"
   ]
  },
  {
   "cell_type": "code",
   "execution_count": 11,
   "metadata": {},
   "outputs": [
    {
     "data": {
      "text/html": [
       "<div>\n",
       "<style scoped>\n",
       "    .dataframe tbody tr th:only-of-type {\n",
       "        vertical-align: middle;\n",
       "    }\n",
       "\n",
       "    .dataframe tbody tr th {\n",
       "        vertical-align: top;\n",
       "    }\n",
       "\n",
       "    .dataframe thead th {\n",
       "        text-align: right;\n",
       "    }\n",
       "</style>\n",
       "<table border=\"1\" class=\"dataframe\">\n",
       "  <thead>\n",
       "    <tr style=\"text-align: right;\">\n",
       "      <th></th>\n",
       "      <th>Wavelength (nm)</th>\n",
       "      <th>EQE (%)</th>\n",
       "      <th>EQE (%) smoothed</th>\n",
       "      <th>EQE (%) dec</th>\n",
       "      <th>EQE (%) smoothed dec</th>\n",
       "      <th>RE (A/W)</th>\n",
       "      <th>RE (A/W) smoothed</th>\n",
       "    </tr>\n",
       "  </thead>\n",
       "  <tbody>\n",
       "    <tr>\n",
       "      <th>0</th>\n",
       "      <td>300.017</td>\n",
       "      <td>58.06996</td>\n",
       "      <td>58.459183</td>\n",
       "      <td>0.580700</td>\n",
       "      <td>0.584592</td>\n",
       "      <td>0.140500</td>\n",
       "      <td>0.141442</td>\n",
       "    </tr>\n",
       "    <tr>\n",
       "      <th>1</th>\n",
       "      <td>301.992</td>\n",
       "      <td>59.40507</td>\n",
       "      <td>59.257436</td>\n",
       "      <td>0.594051</td>\n",
       "      <td>0.592574</td>\n",
       "      <td>0.144676</td>\n",
       "      <td>0.144317</td>\n",
       "    </tr>\n",
       "    <tr>\n",
       "      <th>2</th>\n",
       "      <td>304.005</td>\n",
       "      <td>60.75801</td>\n",
       "      <td>60.320764</td>\n",
       "      <td>0.607580</td>\n",
       "      <td>0.603208</td>\n",
       "      <td>0.148958</td>\n",
       "      <td>0.147886</td>\n",
       "    </tr>\n",
       "    <tr>\n",
       "      <th>3</th>\n",
       "      <td>306.016</td>\n",
       "      <td>62.07649</td>\n",
       "      <td>61.649170</td>\n",
       "      <td>0.620765</td>\n",
       "      <td>0.616492</td>\n",
       "      <td>0.153197</td>\n",
       "      <td>0.152142</td>\n",
       "    </tr>\n",
       "    <tr>\n",
       "      <th>4</th>\n",
       "      <td>307.991</td>\n",
       "      <td>63.10497</td>\n",
       "      <td>63.242652</td>\n",
       "      <td>0.631050</td>\n",
       "      <td>0.632427</td>\n",
       "      <td>0.156740</td>\n",
       "      <td>0.157082</td>\n",
       "    </tr>\n",
       "  </tbody>\n",
       "</table>\n",
       "</div>"
      ],
      "text/plain": [
       "   Wavelength (nm)   EQE (%)  EQE (%) smoothed  EQE (%) dec   \n",
       "0          300.017  58.06996         58.459183     0.580700  \\\n",
       "1          301.992  59.40507         59.257436     0.594051   \n",
       "2          304.005  60.75801         60.320764     0.607580   \n",
       "3          306.016  62.07649         61.649170     0.620765   \n",
       "4          307.991  63.10497         63.242652     0.631050   \n",
       "\n",
       "   EQE (%) smoothed dec  RE (A/W)  RE (A/W) smoothed  \n",
       "0              0.584592  0.140500           0.141442  \n",
       "1              0.592574  0.144676           0.144317  \n",
       "2              0.603208  0.148958           0.147886  \n",
       "3              0.616492  0.153197           0.152142  \n",
       "4              0.632427  0.156740           0.157082  "
      ]
     },
     "execution_count": 11,
     "metadata": {},
     "output_type": "execute_result"
    }
   ],
   "source": [
    "df[\"RE (A/W)\"] = (df[\"Wavelength (nm)\"] * df[\"EQE (%) dec\"]) / 1240\n",
    "df[\"RE (A/W) smoothed\"] = (df[\"Wavelength (nm)\"] * df[\"EQE (%) smoothed dec\"]) / 1240\n",
    "df.head(5)"
   ]
  },
  {
   "attachments": {},
   "cell_type": "markdown",
   "metadata": {},
   "source": [
    "Now we'll plot this response with seaborn:"
   ]
  },
  {
   "cell_type": "code",
   "execution_count": 12,
   "metadata": {},
   "outputs": [
    {
     "data": {
      "image/png": "[encoded data removed]",
      "text/plain": [
       "<Figure size 1000x1000 with 1 Axes>"
      ]
     },
     "metadata": {},
     "output_type": "display_data"
    }
   ],
   "source": [
    "fig2, ax = plt.subplots(figsize=(10, 10))\n",
    "resp_cols = [\"RE (A/W)\", \"RE (A/W) smoothed\"]\n",
    "for column in resp_cols:\n",
    "    if column == \"RE (A/W)\":\n",
    "        label = \"Not smoothed\"\n",
    "    else:\n",
    "        label = \"Smoothed\"\n",
    "    sns.lineplot(data=df, x=\"Wavelength (nm)\", y=column, label=label)\n",
    "ax.set(title=\"Fig. 2: Spectral Response of a Si solar cell\")\n",
    "plt.show()"
   ]
  },
  {
   "attachments": {},
   "cell_type": "markdown",
   "metadata": {},
   "source": [
    "We see that there's an increase and a decrease between $300$ $nm$ and $342$ $nm$, from this point there is another increase."
   ]
  },
  {
   "attachments": {},
   "cell_type": "markdown",
   "metadata": {},
   "source": [
    "#### Obtaining maximum spectral response with pandas"
   ]
  },
  {
   "attachments": {},
   "cell_type": "markdown",
   "metadata": {},
   "source": [
    "To find the maximum spectral response:"
   ]
  },
  {
   "cell_type": "code",
   "execution_count": 13,
   "metadata": {},
   "outputs": [
    {
     "data": {
      "text/html": [
       "<div>\n",
       "<style scoped>\n",
       "    .dataframe tbody tr th:only-of-type {\n",
       "        vertical-align: middle;\n",
       "    }\n",
       "\n",
       "    .dataframe tbody tr th {\n",
       "        vertical-align: top;\n",
       "    }\n",
       "\n",
       "    .dataframe thead th {\n",
       "        text-align: right;\n",
       "    }\n",
       "</style>\n",
       "<table border=\"1\" class=\"dataframe\">\n",
       "  <thead>\n",
       "    <tr style=\"text-align: right;\">\n",
       "      <th></th>\n",
       "      <th>Wavelength (nm)</th>\n",
       "      <th>RE (A/W)</th>\n",
       "      <th>RE (A/W) smoothed</th>\n",
       "    </tr>\n",
       "  </thead>\n",
       "  <tbody>\n",
       "    <tr>\n",
       "      <th>314</th>\n",
       "      <td>927.99</td>\n",
       "      <td>0.656953</td>\n",
       "      <td>0.65536</td>\n",
       "    </tr>\n",
       "  </tbody>\n",
       "</table>\n",
       "</div>"
      ],
      "text/plain": [
       "     Wavelength (nm)  RE (A/W)  RE (A/W) smoothed\n",
       "314           927.99  0.656953            0.65536"
      ]
     },
     "execution_count": 13,
     "metadata": {},
     "output_type": "execute_result"
    }
   ],
   "source": [
    "max_spr = df.loc[df[\"RE (A/W) smoothed\"] == df[\"RE (A/W) smoothed\"].max()]\n",
    "max_spr[[\"Wavelength (nm)\", \"RE (A/W)\", \"RE (A/W) smoothed\"]]"
   ]
  },
  {
   "attachments": {},
   "cell_type": "markdown",
   "metadata": {},
   "source": [
    "We see that the maximum of this spectral response is located at $928$ $nm$ with $0.66$ $\\frac{A}{W}$. And from here there's a decrease in the photocurrent until it is not produced anymore at $1100$ $nm$. This is related to the fact that photons aren't absorbed at this wavelength."
   ]
  },
  {
   "attachments": {},
   "cell_type": "markdown",
   "metadata": {},
   "source": [
    "#### Obtaining maximum spectral response with Plotly"
   ]
  },
  {
   "cell_type": "code",
   "execution_count": 14,
   "metadata": {},
   "outputs": [
    {
     "data": {
      "application/vnd.plotly.v1+json": {
       "config": {
        "plotlyServerURL": "https://plot.ly"
       },
       "data": [
        {
         "hovertemplate": "variable=RE (A/W)<br>Wavelength (nm)=%{x}<br>value=%{y}<extra></extra>",
         "legendgroup": "RE (A/W)",
         "line": {
          "color": "#636efa",
          "dash": "solid"
         },
         "marker": {
          "symbol": "circle"
         },
         "mode": "markers+lines",
         "name": "Not smoothed",
         "orientation": "v",
         "showlegend": true,
         "type": "scatter",
         "x": [
          300.017,
          301.992,
          304.005,
          306.016,
          307.991,
          310.002,
          312.012,
          313.985,
          315.994,
          318.003,
          320.012,
          321.982,
          323.99,
          325.997,
          328.003,
          330.009,
          332.014,
          333.982,
          335.987,
          337.99,
          339.994,
          341.996,
          343.999,
          346,
          348.001,
          350.002,
          352.002,
          354.001,
          356,
          357.998,
          359.996,
          361.993,
          363.99,
          365.986,
          367.982,
          370.013,
          372.008,
          374.002,
          375.995,
          377.987,
          380.016,
          382.007,
          383.998,
          385.988,
          388.014,
          390.003,
          391.991,
          394.016,
          396.003,
          397.989,
          400.012,
          401.997,
          404.018,
          406.002,
          407.985,
          410.004,
          411.986,
          414.004,
          415.985,
          418.001,
          420.017,
          421.996,
          424.01,
          425.988,
          428.001,
          430.013,
          431.988,
          433.999,
          436.01,
          437.983,
          439.992,
          442,
          444.007,
          446.014,
          447.983,
          449.989,
          451.993,
          453.997,
          456,
          458.002,
          460.004,
          462.005,
          464.005,
          466.004,
          468.003,
          470,
          471.997,
          473.994,
          475.989,
          477.984,
          480.014,
          482.007,
          483.999,
          485.991,
          488.018,
          490.007,
          491.997,
          493.985,
          496.008,
          497.995,
          500.017,
          502.002,
          503.986,
          506.006,
          507.988,
          510.006,
          511.986,
          514.002,
          516.017,
          517.996,
          520.009,
          521.986,
          523.997,
          526.008,
          528.018,
          529.991,
          531.999,
          534.006,
          536.012,
          538.018,
          539.986,
          541.99,
          543.992,
          545.994,
          547.995,
          549.994,
          551.993,
          553.991,
          555.988,
          557.984,
          560.015,
          562.009,
          564.002,
          565.994,
          567.986,
          570.011,
          572.001,
          573.989,
          576.012,
          577.998,
          579.984,
          582.004,
          583.987,
          586.005,
          587.986,
          590.002,
          592.017,
          593.995,
          596.008,
          597.984,
          599.994,
          602.004,
          604.012,
          605.984,
          607.991,
          609.996,
          612,
          614.003,
          616.005,
          618.006,
          620.006,
          622.005,
          624.003,
          625.999,
          627.995,
          629.989,
          632.017,
          634.009,
          636,
          637.99,
          640.014,
          642.001,
          643.988,
          646.008,
          647.992,
          650.01,
          651.992,
          654.008,
          655.987,
          658,
          660.012,
          661.988,
          663.998,
          666.006,
          668.013,
          669.985,
          671.989,
          673.993,
          675.995,
          677.996,
          679.996,
          681.994,
          683.992,
          685.988,
          688.017,
          690.01,
          692.003,
          693.994,
          695.983,
          698.006,
          699.994,
          702.014,
          703.998,
          706.016,
          707.998,
          710.013,
          711.992,
          714.004,
          716.015,
          717.99,
          719.999,
          722.006,
          724.011,
          726.015,
          727.984,
          729.985,
          731.985,
          733.984,
          736.015,
          738.011,
          740.005,
          741.998,
          743.99,
          746.014,
          748.003,
          749.99,
          752.01,
          753.994,
          756.011,
          757.993,
          760.007,
          761.985,
          763.996,
          766.006,
          768.013,
          769.986,
          771.991,
          773.995,
          775.997,
          777.997,
          779.996,
          781.993,
          783.989,
          786.016,
          788.009,
          790,
          791.99,
          794.011,
          795.998,
          798.016,
          799.999,
          802.014,
          803.994,
          806.006,
          808.016,
          809.991,
          811.998,
          814.003,
          816.007,
          818.009,
          820.009,
          822.008,
          824.005,
          826,
          827.993,
          829.985,
          832.008,
          833.997,
          836.016,
          838.001,
          839.985,
          841.999,
          844.011,
          845.99,
          847.999,
          850.006,
          852.011,
          854.015,
          855.985,
          857.985,
          860.015,
          862.012,
          864.007,
          866,
          867.991,
          870.012,
          872,
          873.986,
          876.001,
          878.015,
          879.996,
          882.006,
          884.014,
          885.989,
          887.993,
          889.996,
          891.997,
          893.995,
          895.992,
          897.987,
          900.012,
          902.003,
          903.992,
          906.011,
          907.996,
          910.011,
          911.992,
          914.003,
          916.012,
          917.987,
          919.992,
          921.994,
          923.995,
          925.993,
          927.99,
          930.015,
          932.008,
          933.998,
          935.986,
          938.003,
          939.987,
          942,
          944.011,
          945.988,
          947.995,
          949.999,
          952.001,
          954.001,
          955.999,
          957.994,
          959.987,
          962.009,
          963.998,
          965.985,
          968,
          970.012,
          971.992,
          974.001,
          976.007,
          978.01,
          980.011,
          982.01,
          984.007,
          986.001,
          987.993,
          990.013,
          992,
          993.985,
          995.998,
          998.008,
          999.986,
          1001.991,
          1003.994,
          1005.995,
          1007.993,
          1009.988,
          1012.011,
          1014.002,
          1015.99,
          1018.005,
          1019.988,
          1021.999,
          1024.006,
          1026.011,
          1028.014,
          1030.014,
          1032.011,
          1034.006,
          1035.998,
          1037.988,
          1040.004,
          1041.989,
          1044,
          1046.008,
          1048.014,
          1049.987,
          1051.988,
          1054.014,
          1056.009,
          1058,
          1059.99,
          1062.005,
          1063.989,
          1065.998,
          1068.005,
          1070.009,
          1072.011,
          1074.009,
          1076.004,
          1077.997,
          1079.987,
          1082.002,
          1083.986,
          1085.995,
          1088.002,
          1090.005,
          1092.006,
          1094.003,
          1095.998,
          1097.989,
          1100.006
         ],
         "xaxis": "x",
         "y": [
          0.14049979991387096,
          0.1446762572535484,
          0.14895757121008063,
          0.15319676745032257,
          0.15674002270379034,
          0.16115753971935481,
          0.16855253092741937,
          0.17680432046572583,
          0.18475990796290323,
          0.19268104385758061,
          0.19950606184193548,
          0.1994312365306452,
          0.19864498395403227,
          0.19759811272475808,
          0.1956932292155645,
          0.19329300454814513,
          0.1862755711143548,
          0.17847849942822583,
          0.17008011474862902,
          0.16155911097096776,
          0.15538616913306452,
          0.1560436732935484,
          0.15939934372524192,
          0.16261076403225805,
          0.16761361519532259,
          0.1703282192662903,
          0.1747459425464516,
          0.178900486173629,
          0.18418486838709677,
          0.19129969579677417,
          0.19388551343451613,
          0.19702791467169353,
          0.19944876081048388,
          0.19922424298,
          0.2004990286316129,
          0.20210957509129032,
          0.2052000628096774,
          0.20771229575500003,
          0.2092648384762097,
          0.21216724283072586,
          0.21442651036258062,
          0.21737264222758063,
          0.2194233939380645,
          0.22248404350516132,
          0.2261297403164516,
          0.22938193139830645,
          0.23287328619991932,
          0.23587205413935486,
          0.24079974777508062,
          0.24350982641709676,
          0.24701908776967743,
          0.24949528840354845,
          0.2518035994401613,
          0.25562717569258064,
          0.25841171083306447,
          0.26239396314193547,
          0.26457594731419354,
          0.2678126102783871,
          0.2701092923891129,
          0.2732509617733871,
          0.27487697552249996,
          0.2803728151545161,
          0.2798965237580645,
          0.2837014120567742,
          0.2850407617879839,
          0.28877436318830646,
          0.2968697482277419,
          0.2940138125472581,
          0.2957786002088709,
          0.2974840228844355,
          0.300528658323871,
          0.30263347903225807,
          0.30430399299370964,
          0.3048023707129032,
          0.3087233658966129,
          0.30725234404225804,
          0.3098573493144355,
          0.3123902465400807,
          0.31236062516129026,
          0.31624964228709673,
          0.3211887042112903,
          0.3216451611318548,
          0.3241717048048387,
          0.3258708473119355,
          0.32894870314814517,
          0.32736621935483873,
          0.33197836672879033,
          0.33210592204209677,
          0.33631294530193545,
          0.33972242525419355,
          0.34040831538306454,
          0.34292730084483874,
          0.3431518561683871,
          0.345011360137258,
          0.3486673331091935,
          0.3546869039801613,
          0.3545134376743548,
          0.35580588246250006,
          0.35940663678774193,
          0.3593308223858871,
          0.36058725955,
          0.3644664068903226,
          0.3631525992443548,
          0.36532294732516124,
          0.3650175631406452,
          0.3690279616156451,
          0.3696217277182258,
          0.3721267119904838,
          0.37342531494733877,
          0.3768220385419355,
          0.37890875147096775,
          0.3800138061725806,
          0.3814841836596774,
          0.384503364,
          0.38599606173387097,
          0.3882184075,
          0.3903658500991936,
          0.3904488225,
          0.39678893474838706,
          0.3964867245887097,
          0.39667197370967744,
          0.3982573116209677,
          0.40210221567741933,
          0.40080230682096774,
          0.40755095240322586,
          0.4055970671919355,
          0.41001060697580655,
          0.4143937565717742,
          0.4142074729806452,
          0.41475310709677415,
          0.420567200375,
          0.41888660965403224,
          0.4217124825258064,
          0.42052852108548383,
          0.42417011258709675,
          0.4265355538096774,
          0.42780139306451614,
          0.4281305258959678,
          0.42957906550645153,
          0.4312349852516129,
          0.43284860740645165,
          0.4359134862709677,
          0.4390108143782258,
          0.43774809792338715,
          0.4373705410064516,
          0.4390861497129032,
          0.4424186009975806,
          0.4414997175120968,
          0.4412473130258065,
          0.44298124250322585,
          0.4441528164919355,
          0.4486978555548387,
          0.4489041539322581,
          0.4543990571870968,
          0.4538123274451613,
          0.4544357055580645,
          0.45782782258064514,
          0.45683506756612907,
          0.4597697383185484,
          0.4606746305903225,
          0.4593759455306452,
          0.46156332480241935,
          0.4648319121774194,
          0.46678019305322577,
          0.469898778092742,
          0.47232053524758066,
          0.4713919182145162,
          0.4714843719330646,
          0.4756679903225807,
          0.4765888201612902,
          0.47691210964354835,
          0.4814945370870968,
          0.4839382855741936,
          0.4804257301161291,
          0.48609903741290317,
          0.48554803437096766,
          0.48916961719999996,
          0.48629292265806456,
          0.48986040833709676,
          0.4927937112903226,
          0.4919058790645161,
          0.4966233976,
          0.4953751724177419,
          0.5008166392403225,
          0.502225102683871,
          0.49984230925,
          0.5015769250129033,
          0.5051686243548388,
          0.5038059897258065,
          0.5050342994612902,
          0.5034492965806452,
          0.5087521241354839,
          0.5106204374387097,
          0.5137491371709678,
          0.5119750889443548,
          0.5182637287016129,
          0.5190351759491936,
          0.5193716774580646,
          0.5193065928967742,
          0.5210485321145161,
          0.5254030771516129,
          0.5230904463112903,
          0.5254896555145161,
          0.527129196,
          0.5314198730032258,
          0.529900452225,
          0.5348960479290322,
          0.5361484826483871,
          0.5338440384879033,
          0.5403523257096774,
          0.5356531270040322,
          0.5407190273435484,
          0.5427787852233871,
          0.5439673242459677,
          0.5458159844258065,
          0.545104524798387,
          0.5475637404919355,
          0.5442272348645162,
          0.549343195625,
          0.5520197294266128,
          0.5527371862983871,
          0.5517461224870968,
          0.5548989415806451,
          0.553406420932258,
          0.5569829403314517,
          0.5608425220000001,
          0.559408716266129,
          0.5630517081564517,
          0.5621289306185484,
          0.5652335462459677,
          0.5677718100741935,
          0.5681753442580646,
          0.567241152716129,
          0.5631268399129031,
          0.5686603610822581,
          0.570147310916129,
          0.5755286291008064,
          0.5750439545766128,
          0.5764343521532259,
          0.5807132736403225,
          0.5844258416387097,
          0.5777269688072582,
          0.579053010901613,
          0.5859445015741936,
          0.589212123051613,
          0.5807525725806452,
          0.5869271827580645,
          0.5903471785,
          0.5886360274629033,
          0.5881133366709678,
          0.5911540997661291,
          0.5924044071725806,
          0.5955040913903226,
          0.5976170487290323,
          0.5988180510967742,
          0.6005919960362903,
          0.5998065516725807,
          0.6014517182572581,
          0.5978054120596774,
          0.6094681604048386,
          0.6092990905814517,
          0.6090993101741935,
          0.6079209855927419,
          0.6067283080645162,
          0.6071859635161291,
          0.6045195747500001,
          0.6166635294,
          0.6096914891153226,
          0.6082596217548386,
          0.6204863517266128,
          0.615950839391129,
          0.6189276617048388,
          0.6179508214983871,
          0.6222174580000001,
          0.6236793290443549,
          0.6226753227435483,
          0.6241372225217742,
          0.6246238161129033,
          0.6273645223991936,
          0.6309158101330645,
          0.6263496180604838,
          0.6328016188580645,
          0.632035752876613,
          0.6304773322580646,
          0.6272727359525807,
          0.6362215334129031,
          0.6356612774193549,
          0.6382571744241935,
          0.6362155069177419,
          0.6323841434834677,
          0.6332581796051613,
          0.637549786076129,
          0.6375754210593548,
          0.6375708313335484,
          0.6374537240195969,
          0.6403094165467742,
          0.6412122592557258,
          0.6441817955604839,
          0.6369221995954838,
          0.6381884257357259,
          0.6414064713270967,
          0.6477235533162904,
          0.642570271551613,
          0.6436625093082258,
          0.6460699819287097,
          0.6505827890925,
          0.6562167830167742,
          0.6528362250395161,
          0.6496618610651613,
          0.6473610269643548,
          0.6463389699348387,
          0.6482561376762903,
          0.6565441256399194,
          0.6542976179005644,
          0.6569525594032258,
          0.6530341826395162,
          0.6541951305219356,
          0.6548090502556452,
          0.6532792034224194,
          0.6464424684743548,
          0.6502885403944354,
          0.6505913124193548,
          0.6520232969954032,
          0.6459870544280646,
          0.6517350183673387,
          0.6441711082147582,
          0.6425210600776613,
          0.6431972450166935,
          0.6474800049770162,
          0.6467597504162904,
          0.6515731377845968,
          0.6523977302301612,
          0.6493151573864517,
          0.6460810718842742,
          0.6402456606451613,
          0.6389413502990322,
          0.6371762650625806,
          0.6351565775946774,
          0.6356068489455645,
          0.632467236233871,
          0.628008752224516,
          0.6230896214951613,
          0.6323589255530645,
          0.6257117021760484,
          0.6292603110012097,
          0.6247318155381452,
          0.6134928,
          0.6090077157330646,
          0.6050358528080645,
          0.6095243717341936,
          0.6053624119043548,
          0.6012666787074192,
          0.5937849653340322,
          0.5916938886770162,
          0.5893720438843548,
          0.5822041616729033,
          0.5801504043012097,
          0.5714411541974194,
          0.5666783365959678,
          0.5653382399225806,
          0.5659335967180645,
          0.5592629082593548,
          0.5502786100762904,
          0.5451609329684677,
          0.5380961038637095,
          0.5343680236398387,
          0.5238853201184677,
          0.5168709974598387,
          0.5108852027654839,
          0.501500553851613,
          0.4966038390396774,
          0.4860855996529839,
          0.47529068225806453,
          0.4621363727025807,
          0.4532537999975806,
          0.44322457690580647,
          0.43079773944967753,
          0.41363504413064517,
          0.4024876960700806,
          0.3917439535483871,
          0.37773983154435486,
          0.3650210533854839,
          0.35228933206693547,
          0.34173695109935487,
          0.3277423117862903,
          0.3125478167879839,
          0.303254794305,
          0.2910522815458065,
          0.2821178358580645,
          0.2696436494368548,
          0.26587999632830644,
          0.2640134617188709,
          0.24694765866241938,
          0.2317805848008064,
          0.2222318665782258,
          0.21228823105282263,
          0.19559932213500003,
          0.18088722022661288,
          0.16683378781629032,
          0.15464209897250003,
          0.14348566974161292
         ],
         "yaxis": "y"
        },
        {
         "hovertemplate": "variable=RE (A/W) smoothed<br>Wavelength (nm)=%{x}<br>value=%{y}<extra></extra>",
         "legendgroup": "RE (A/W) smoothed",
         "line": {
          "color": "#EF553B",
          "dash": "solid"
         },
         "marker": {
          "symbol": "circle"
         },
         "mode": "markers+lines",
         "name": "Smoothed",
         "orientation": "v",
         "showlegend": true,
         "type": "scatter",
         "x": [
          300.017,
          301.992,
          304.005,
          306.016,
          307.991,
          310.002,
          312.012,
          313.985,
          315.994,
          318.003,
          320.012,
          321.982,
          323.99,
          325.997,
          328.003,
          330.009,
          332.014,
          333.982,
          335.987,
          337.99,
          339.994,
          341.996,
          343.999,
          346,
          348.001,
          350.002,
          352.002,
          354.001,
          356,
          357.998,
          359.996,
          361.993,
          363.99,
          365.986,
          367.982,
          370.013,
          372.008,
          374.002,
          375.995,
          377.987,
          380.016,
          382.007,
          383.998,
          385.988,
          388.014,
          390.003,
          391.991,
          394.016,
          396.003,
          397.989,
          400.012,
          401.997,
          404.018,
          406.002,
          407.985,
          410.004,
          411.986,
          414.004,
          415.985,
          418.001,
          420.017,
          421.996,
          424.01,
          425.988,
          428.001,
          430.013,
          431.988,
          433.999,
          436.01,
          437.983,
          439.992,
          442,
          444.007,
          446.014,
          447.983,
          449.989,
          451.993,
          453.997,
          456,
          458.002,
          460.004,
          462.005,
          464.005,
          466.004,
          468.003,
          470,
          471.997,
          473.994,
          475.989,
          477.984,
          480.014,
          482.007,
          483.999,
          485.991,
          488.018,
          490.007,
          491.997,
          493.985,
          496.008,
          497.995,
          500.017,
          502.002,
          503.986,
          506.006,
          507.988,
          510.006,
          511.986,
          514.002,
          516.017,
          517.996,
          520.009,
          521.986,
          523.997,
          526.008,
          528.018,
          529.991,
          531.999,
          534.006,
          536.012,
          538.018,
          539.986,
          541.99,
          543.992,
          545.994,
          547.995,
          549.994,
          551.993,
          553.991,
          555.988,
          557.984,
          560.015,
          562.009,
          564.002,
          565.994,
          567.986,
          570.011,
          572.001,
          573.989,
          576.012,
          577.998,
          579.984,
          582.004,
          583.987,
          586.005,
          587.986,
          590.002,
          592.017,
          593.995,
          596.008,
          597.984,
          599.994,
          602.004,
          604.012,
          605.984,
          607.991,
          609.996,
          612,
          614.003,
          616.005,
          618.006,
          620.006,
          622.005,
          624.003,
          625.999,
          627.995,
          629.989,
          632.017,
          634.009,
          636,
          637.99,
          640.014,
          642.001,
          643.988,
          646.008,
          647.992,
          650.01,
          651.992,
          654.008,
          655.987,
          658,
          660.012,
          661.988,
          663.998,
          666.006,
          668.013,
          669.985,
          671.989,
          673.993,
          675.995,
          677.996,
          679.996,
          681.994,
          683.992,
          685.988,
          688.017,
          690.01,
          692.003,
          693.994,
          695.983,
          698.006,
          699.994,
          702.014,
          703.998,
          706.016,
          707.998,
          710.013,
          711.992,
          714.004,
          716.015,
          717.99,
          719.999,
          722.006,
          724.011,
          726.015,
          727.984,
          729.985,
          731.985,
          733.984,
          736.015,
          738.011,
          740.005,
          741.998,
          743.99,
          746.014,
          748.003,
          749.99,
          752.01,
          753.994,
          756.011,
          757.993,
          760.007,
          761.985,
          763.996,
          766.006,
          768.013,
          769.986,
          771.991,
          773.995,
          775.997,
          777.997,
          779.996,
          781.993,
          783.989,
          786.016,
          788.009,
          790,
          791.99,
          794.011,
          795.998,
          798.016,
          799.999,
          802.014,
          803.994,
          806.006,
          808.016,
          809.991,
          811.998,
          814.003,
          816.007,
          818.009,
          820.009,
          822.008,
          824.005,
          826,
          827.993,
          829.985,
          832.008,
          833.997,
          836.016,
          838.001,
          839.985,
          841.999,
          844.011,
          845.99,
          847.999,
          850.006,
          852.011,
          854.015,
          855.985,
          857.985,
          860.015,
          862.012,
          864.007,
          866,
          867.991,
          870.012,
          872,
          873.986,
          876.001,
          878.015,
          879.996,
          882.006,
          884.014,
          885.989,
          887.993,
          889.996,
          891.997,
          893.995,
          895.992,
          897.987,
          900.012,
          902.003,
          903.992,
          906.011,
          907.996,
          910.011,
          911.992,
          914.003,
          916.012,
          917.987,
          919.992,
          921.994,
          923.995,
          925.993,
          927.99,
          930.015,
          932.008,
          933.998,
          935.986,
          938.003,
          939.987,
          942,
          944.011,
          945.988,
          947.995,
          949.999,
          952.001,
          954.001,
          955.999,
          957.994,
          959.987,
          962.009,
          963.998,
          965.985,
          968,
          970.012,
          971.992,
          974.001,
          976.007,
          978.01,
          980.011,
          982.01,
          984.007,
          986.001,
          987.993,
          990.013,
          992,
          993.985,
          995.998,
          998.008,
          999.986,
          1001.991,
          1003.994,
          1005.995,
          1007.993,
          1009.988,
          1012.011,
          1014.002,
          1015.99,
          1018.005,
          1019.988,
          1021.999,
          1024.006,
          1026.011,
          1028.014,
          1030.014,
          1032.011,
          1034.006,
          1035.998,
          1037.988,
          1040.004,
          1041.989,
          1044,
          1046.008,
          1048.014,
          1049.987,
          1051.988,
          1054.014,
          1056.009,
          1058,
          1059.99,
          1062.005,
          1063.989,
          1065.998,
          1068.005,
          1070.009,
          1072.011,
          1074.009,
          1076.004,
          1077.997,
          1079.987,
          1082.002,
          1083.986,
          1085.995,
          1088.002,
          1090.005,
          1092.006,
          1094.003,
          1095.998,
          1097.989,
          1100.006
         ],
         "xaxis": "x",
         "y": [
          0.14144152292324486,
          0.14431670551930792,
          0.14788559653521993,
          0.15214219637968332,
          0.15708199688278937,
          0.1653214676769834,
          0.17274675302374048,
          0.18061376262751322,
          0.18798285691166994,
          0.19384426517198955,
          0.19747561634824662,
          0.19927553324109137,
          0.19908396786843813,
          0.19688110844902637,
          0.19306722364098952,
          0.18806661076402073,
          0.18107268732368303,
          0.17307411666885036,
          0.16566598172563007,
          0.15989888552196121,
          0.15722523866421123,
          0.15715211646019805,
          0.15948148042195617,
          0.16338764285483923,
          0.16774365127665025,
          0.17233489257768805,
          0.1770345337594149,
          0.1818850075822798,
          0.18672966817540382,
          0.19121660723978987,
          0.19470171853885745,
          0.19714800347751424,
          0.19874864732715788,
          0.2000008791071569,
          0.2015393569612416,
          0.20323928483280407,
          0.20525791005367808,
          0.20783455727271338,
          0.21030669086757378,
          0.2127079856222255,
          0.21513043177432328,
          0.21778789577430013,
          0.22076992666677295,
          0.22365291594627085,
          0.2270052242839725,
          0.2304584273503526,
          0.23417297977868617,
          0.23781381503374271,
          0.241121855497531,
          0.24438527523774423,
          0.24743015937565002,
          0.2505150976538627,
          0.25337124548427903,
          0.25648629945796353,
          0.25948529045854923,
          0.2626975326660614,
          0.26542618861305023,
          0.26845517182233763,
          0.2711655217057745,
          0.2738729259821031,
          0.27645808993070503,
          0.27845689120623474,
          0.28169604527925496,
          0.2847689989628961,
          0.28776314843900896,
          0.29016624374496763,
          0.29291929243341625,
          0.2951209667462066,
          0.2973275916628034,
          0.29861946400966577,
          0.3001741312215494,
          0.3024981434889123,
          0.30415663772299795,
          0.3058723953918024,
          0.30703001318799794,
          0.3081994175643941,
          0.31010317085619704,
          0.31227478988567736,
          0.31452838756451706,
          0.3172866777017056,
          0.320075236242755,
          0.32226854163739777,
          0.3246593429546658,
          0.3260656435606059,
          0.32741555763688557,
          0.3296135591784285,
          0.33168089180905,
          0.3341237962067249,
          0.33644081576421725,
          0.3387812518708559,
          0.34023970804614023,
          0.34265293828175003,
          0.3448164341162672,
          0.3470260617930041,
          0.3499219508884053,
          0.35258044514336345,
          0.3549268850222719,
          0.35715774138367307,
          0.35861519977283585,
          0.35988225972935345,
          0.36125299160952484,
          0.3625531353211856,
          0.36360500669729456,
          0.3651849905532421,
          0.3664844647769145,
          0.36796321406919064,
          0.37025431222697286,
          0.37240406114828944,
          0.3745557771093762,
          0.376413796077477,
          0.3785536102235934,
          0.3804730438777088,
          0.38264469069696794,
          0.3840422639025013,
          0.38620842663462823,
          0.38862679708714337,
          0.3908018908521484,
          0.3924458272968762,
          0.39456054590858997,
          0.39584544455533394,
          0.39780457801445696,
          0.39943550062873107,
          0.40060448286451733,
          0.4031956208834287,
          0.4059404105658279,
          0.4079799882727635,
          0.4104737886423754,
          0.4129439420202634,
          0.41489126816167476,
          0.4168853878293561,
          0.4180198462570325,
          0.4193023320170476,
          0.42117388904332786,
          0.4227293219991445,
          0.42383909469780373,
          0.4256563721760043,
          0.42694595461335316,
          0.4285140049380558,
          0.4301621934611505,
          0.4320313377279147,
          0.43375842515008206,
          0.43520433023780375,
          0.43670341227503173,
          0.43802068476532396,
          0.4388051497918361,
          0.43931260163980984,
          0.43965993903958817,
          0.4409935433555206,
          0.4420461289697998,
          0.44364491733629174,
          0.4455916075474309,
          0.44791122688052565,
          0.4505048648870578,
          0.45239239187338864,
          0.4541269137561305,
          0.4555864550181667,
          0.4568103355645176,
          0.4572828657722041,
          0.4584672510126274,
          0.4595444085085297,
          0.4607602495520075,
          0.4630069344512615,
          0.4650819851538825,
          0.46700232173064665,
          0.46916260272422017,
          0.47085957996039973,
          0.4719024662617607,
          0.4731191436876627,
          0.4750253610483886,
          0.47645688099949757,
          0.47867053197916487,
          0.4803045053947595,
          0.48205943760056613,
          0.4835191771947597,
          0.4846524018050822,
          0.4857769368340237,
          0.4868548549975015,
          0.4889124785217354,
          0.48968296782126164,
          0.4914831139213725,
          0.49368557946647323,
          0.4960494433267757,
          0.4973089394157072,
          0.4989642798408584,
          0.5005507065505662,
          0.5016083782284039,
          0.5022323615419221,
          0.5024010372014481,
          0.5032696231285297,
          0.5052123998520782,
          0.506247147662925,
          0.507881409608298,
          0.5104662496453242,
          0.5129932261098605,
          0.5152648678917809,
          0.5162641047623,
          0.518027624464281,
          0.5193299293815037,
          0.5207510943877436,
          0.5211983923139935,
          0.5228907372950118,
          0.5243523801670783,
          0.5261524426638525,
          0.5282761588477436,
          0.5295282336694372,
          0.5322563247449865,
          0.5335608188995178,
          0.5347786062341349,
          0.5359232392230864,
          0.5374841221291348,
          0.5388174391414079,
          0.5404078260174916,
          0.5426029169667204,
          0.5432262400434997,
          0.5445730875089534,
          0.5451748594418364,
          0.5463953795350571,
          0.5474396542024211,
          0.5489542391496741,
          0.550279146850294,
          0.5512779143417357,
          0.553187431162643,
          0.5539351257853343,
          0.5554668371492658,
          0.5570505094330965,
          0.5587720014722297,
          0.5604545597702134,
          0.5625822860854856,
          0.5642971198674313,
          0.5647859330409293,
          0.5655665026655663,
          0.5654959799359645,
          0.5664881930696389,
          0.567355660203903,
          0.5684671423278145,
          0.5703772860189634,
          0.5739743590755866,
          0.5769430706853597,
          0.57770150753667,
          0.5786295514131773,
          0.5804867517586308,
          0.581562321269508,
          0.5820956311144172,
          0.5829840975022599,
          0.5843671704584292,
          0.586183229284276,
          0.5868731725529253,
          0.5869480150077588,
          0.5879890824956573,
          0.5902878096032278,
          0.5912598214081722,
          0.5931038005707479,
          0.595329846763248,
          0.5976319216522498,
          0.5978265291243566,
          0.598841864323142,
          0.6001758675169676,
          0.6019942077666803,
          0.6039726235126127,
          0.6056054633598257,
          0.6073055263624012,
          0.6069039770545988,
          0.6078689868901228,
          0.6073455557157277,
          0.6067897121080463,
          0.6081297166625523,
          0.6098085173580261,
          0.6120033716761865,
          0.6136535725468568,
          0.6153530929699668,
          0.6163521142818316,
          0.6189580441183538,
          0.6204389395510453,
          0.6204377918187519,
          0.6219000655780312,
          0.6235372819529253,
          0.6244910218072903,
          0.6254440579189032,
          0.6270245790014133,
          0.6289041432139739,
          0.6290467716151382,
          0.6296294199118487,
          0.6299475045709766,
          0.6310182077479859,
          0.6330353168267006,
          0.6335294531764375,
          0.6340709116008085,
          0.6348075494796098,
          0.6352782856341482,
          0.6346001134983387,
          0.6346342977452137,
          0.634984805933857,
          0.6361102471660969,
          0.6384177501835454,
          0.6393062058722314,
          0.6391526639835906,
          0.6388994513084497,
          0.6398268823131295,
          0.6404497611958931,
          0.6405962049775212,
          0.6409259860396652,
          0.6416432993054789,
          0.6446165431041472,
          0.6470146239704073,
          0.6487746287901252,
          0.6498626589512456,
          0.650933353185639,
          0.6499321786024265,
          0.6493092158365463,
          0.6484373186015705,
          0.6488981456244939,
          0.6505378107271916,
          0.6523209310452491,
          0.6539844535088454,
          0.655359508344105,
          0.6544513197149492,
          0.6525507682319577,
          0.6514187269610202,
          0.6507797113085464,
          0.6498172349573347,
          0.6494900114884782,
          0.6490694767590747,
          0.6484897515307743,
          0.6474544963798772,
          0.6457345148665394,
          0.6442601380605604,
          0.6438202564181704,
          0.6451522700337278,
          0.6462767978384271,
          0.6488629963059799,
          0.6496044710568917,
          0.6487735586702756,
          0.6465498115390204,
          0.64366332633475,
          0.6403251674032278,
          0.6378350613913811,
          0.6360352062242518,
          0.633064073905998,
          0.6317245769483766,
          0.6295945344607429,
          0.6284636808388668,
          0.6283408061282781,
          0.6272973155539989,
          0.6256954982634471,
          0.6223240090385449,
          0.6185354808566724,
          0.613532338000002,
          0.6103844701281521,
          0.6062385118588095,
          0.603293086950748,
          0.6014120901935059,
          0.5980496674134758,
          0.5943714096660594,
          0.5892724668248808,
          0.5843658207387463,
          0.5792380152715221,
          0.5752241852055306,
          0.571294291033759,
          0.5672428229955915,
          0.5635288427614129,
          0.5587801859272338,
          0.5546538421542911,
          0.549005997716397,
          0.5419581760234246,
          0.5347025685077496,
          0.5276564975827849,
          0.5210176622058998,
          0.5138487402019,
          0.506553997989804,
          0.4980289763034632,
          0.48936031392200946,
          0.479773824287739,
          0.4698856179979855,
          0.4588663661125177,
          0.44655599851626543,
          0.43460635823085975,
          0.42232459754613844,
          0.4097908186632564,
          0.39638277018506834,
          0.3835113521199609,
          0.3713578502704397,
          0.35897958582385453,
          0.34603098094602336,
          0.33296252544781263,
          0.32079448923499093,
          0.3081648366458971,
          0.295934627708251,
          0.2862907931060861,
          0.2782567831539565,
          0.26992743975393935,
          0.2606536289567841,
          0.2516725804711812,
          0.24139499173562778,
          0.2298116101806257,
          0.21589208769843615,
          0.20141627505266194,
          0.19495300669527277,
          0.18170563232132117,
          0.16852468828104217,
          0.15541060111504557,
          0.1423680346131966
         ],
         "yaxis": "y"
        }
       ],
       "layout": {
        "legend": {
         "title": {},
         "tracegroupgap": 0
        },
        "template": {
         "data": {
          "bar": [
           {
            "error_x": {
             "color": "#2a3f5f"
            },
            "error_y": {
             "color": "#2a3f5f"
            },
            "marker": {
             "line": {
              "color": "#E5ECF6",
              "width": 0.5
             },
             "pattern": {
              "fillmode": "overlay",
              "size": 10,
              "solidity": 0.2
             }
            },
            "type": "bar"
           }
          ],
          "barpolar": [
           {
            "marker": {
             "line": {
              "color": "#E5ECF6",
              "width": 0.5
             },
             "pattern": {
              "fillmode": "overlay",
              "size": 10,
              "solidity": 0.2
             }
            },
            "type": "barpolar"
           }
          ],
          "carpet": [
           {
            "aaxis": {
             "endlinecolor": "#2a3f5f",
             "gridcolor": "white",
             "linecolor": "white",
             "minorgridcolor": "white",
             "startlinecolor": "#2a3f5f"
            },
            "baxis": {
             "endlinecolor": "#2a3f5f",
             "gridcolor": "white",
             "linecolor": "white",
             "minorgridcolor": "white",
             "startlinecolor": "#2a3f5f"
            },
            "type": "carpet"
           }
          ],
          "choropleth": [
           {
            "colorbar": {
             "outlinewidth": 0,
             "ticks": ""
            },
            "type": "choropleth"
           }
          ],
          "contour": [
           {
            "colorbar": {
             "outlinewidth": 0,
             "ticks": ""
            },
            "colorscale": [
             [
              0,
              "#0d0887"
             ],
             [
              0.1111111111111111,
              "#46039f"
             ],
             [
              0.2222222222222222,
              "#7201a8"
             ],
             [
              0.3333333333333333,
              "#9c179e"
             ],
             [
              0.4444444444444444,
              "#bd3786"
             ],
             [
              0.5555555555555556,
              "#d8576b"
             ],
             [
              0.6666666666666666,
              "#ed7953"
             ],
             [
              0.7777777777777778,
              "#fb9f3a"
             ],
             [
              0.8888888888888888,
              "#fdca26"
             ],
             [
              1,
              "#f0f921"
             ]
            ],
            "type": "contour"
           }
          ],
          "contourcarpet": [
           {
            "colorbar": {
             "outlinewidth": 0,
             "ticks": ""
            },
            "type": "contourcarpet"
           }
          ],
          "heatmap": [
           {
            "colorbar": {
             "outlinewidth": 0,
             "ticks": ""
            },
            "colorscale": [
             [
              0,
              "#0d0887"
             ],
             [
              0.1111111111111111,
              "#46039f"
             ],
             [
              0.2222222222222222,
              "#7201a8"
             ],
             [
              0.3333333333333333,
              "#9c179e"
             ],
             [
              0.4444444444444444,
              "#bd3786"
             ],
             [
              0.5555555555555556,
              "#d8576b"
             ],
             [
              0.6666666666666666,
              "#ed7953"
             ],
             [
              0.7777777777777778,
              "#fb9f3a"
             ],
             [
              0.8888888888888888,
              "#fdca26"
             ],
             [
              1,
              "#f0f921"
             ]
            ],
            "type": "heatmap"
           }
          ],
          "heatmapgl": [
           {
            "colorbar": {
             "outlinewidth": 0,
             "ticks": ""
            },
            "colorscale": [
             [
              0,
              "#0d0887"
             ],
             [
              0.1111111111111111,
              "#46039f"
             ],
             [
              0.2222222222222222,
              "#7201a8"
             ],
             [
              0.3333333333333333,
              "#9c179e"
             ],
             [
              0.4444444444444444,
              "#bd3786"
             ],
             [
              0.5555555555555556,
              "#d8576b"
             ],
             [
              0.6666666666666666,
              "#ed7953"
             ],
             [
              0.7777777777777778,
              "#fb9f3a"
             ],
             [
              0.8888888888888888,
              "#fdca26"
             ],
             [
              1,
              "#f0f921"
             ]
            ],
            "type": "heatmapgl"
           }
          ],
          "histogram": [
           {
            "marker": {
             "pattern": {
              "fillmode": "overlay",
              "size": 10,
              "solidity": 0.2
             }
            },
            "type": "histogram"
           }
          ],
          "histogram2d": [
           {
            "colorbar": {
             "outlinewidth": 0,
             "ticks": ""
            },
            "colorscale": [
             [
              0,
              "#0d0887"
             ],
             [
              0.1111111111111111,
              "#46039f"
             ],
             [
              0.2222222222222222,
              "#7201a8"
             ],
             [
              0.3333333333333333,
              "#9c179e"
             ],
             [
              0.4444444444444444,
              "#bd3786"
             ],
             [
              0.5555555555555556,
              "#d8576b"
             ],
             [
              0.6666666666666666,
              "#ed7953"
             ],
             [
              0.7777777777777778,
              "#fb9f3a"
             ],
             [
              0.8888888888888888,
              "#fdca26"
             ],
             [
              1,
              "#f0f921"
             ]
            ],
            "type": "histogram2d"
           }
          ],
          "histogram2dcontour": [
           {
            "colorbar": {
             "outlinewidth": 0,
             "ticks": ""
            },
            "colorscale": [
             [
              0,
              "#0d0887"
             ],
             [
              0.1111111111111111,
              "#46039f"
             ],
             [
              0.2222222222222222,
              "#7201a8"
             ],
             [
              0.3333333333333333,
              "#9c179e"
             ],
             [
              0.4444444444444444,
              "#bd3786"
             ],
             [
              0.5555555555555556,
              "#d8576b"
             ],
             [
              0.6666666666666666,
              "#ed7953"
             ],
             [
              0.7777777777777778,
              "#fb9f3a"
             ],
             [
              0.8888888888888888,
              "#fdca26"
             ],
             [
              1,
              "#f0f921"
             ]
            ],
            "type": "histogram2dcontour"
           }
          ],
          "mesh3d": [
           {
            "colorbar": {
             "outlinewidth": 0,
             "ticks": ""
            },
            "type": "mesh3d"
           }
          ],
          "parcoords": [
           {
            "line": {
             "colorbar": {
              "outlinewidth": 0,
              "ticks": ""
             }
            },
            "type": "parcoords"
           }
          ],
          "pie": [
           {
            "automargin": true,
            "type": "pie"
           }
          ],
          "scatter": [
           {
            "fillpattern": {
             "fillmode": "overlay",
             "size": 10,
             "solidity": 0.2
            },
            "type": "scatter"
           }
          ],
          "scatter3d": [
           {
            "line": {
             "colorbar": {
              "outlinewidth": 0,
              "ticks": ""
             }
            },
            "marker": {
             "colorbar": {
              "outlinewidth": 0,
              "ticks": ""
             }
            },
            "type": "scatter3d"
           }
          ],
          "scattercarpet": [
           {
            "marker": {
             "colorbar": {
              "outlinewidth": 0,
              "ticks": ""
             }
            },
            "type": "scattercarpet"
           }
          ],
          "scattergeo": [
           {
            "marker": {
             "colorbar": {
              "outlinewidth": 0,
              "ticks": ""
             }
            },
            "type": "scattergeo"
           }
          ],
          "scattergl": [
           {
            "marker": {
             "colorbar": {
              "outlinewidth": 0,
              "ticks": ""
             }
            },
            "type": "scattergl"
           }
          ],
          "scattermapbox": [
           {
            "marker": {
             "colorbar": {
              "outlinewidth": 0,
              "ticks": ""
             }
            },
            "type": "scattermapbox"
           }
          ],
          "scatterpolar": [
           {
            "marker": {
             "colorbar": {
              "outlinewidth": 0,
              "ticks": ""
             }
            },
            "type": "scatterpolar"
           }
          ],
          "scatterpolargl": [
           {
            "marker": {
             "colorbar": {
              "outlinewidth": 0,
              "ticks": ""
             }
            },
            "type": "scatterpolargl"
           }
          ],
          "scatterternary": [
           {
            "marker": {
             "colorbar": {
              "outlinewidth": 0,
              "ticks": ""
             }
            },
            "type": "scatterternary"
           }
          ],
          "surface": [
           {
            "colorbar": {
             "outlinewidth": 0,
             "ticks": ""
            },
            "colorscale": [
             [
              0,
              "#0d0887"
             ],
             [
              0.1111111111111111,
              "#46039f"
             ],
             [
              0.2222222222222222,
              "#7201a8"
             ],
             [
              0.3333333333333333,
              "#9c179e"
             ],
             [
              0.4444444444444444,
              "#bd3786"
             ],
             [
              0.5555555555555556,
              "#d8576b"
             ],
             [
              0.6666666666666666,
              "#ed7953"
             ],
             [
              0.7777777777777778,
              "#fb9f3a"
             ],
             [
              0.8888888888888888,
              "#fdca26"
             ],
             [
              1,
              "#f0f921"
             ]
            ],
            "type": "surface"
           }
          ],
          "table": [
           {
            "cells": {
             "fill": {
              "color": "#EBF0F8"
             },
             "line": {
              "color": "white"
             }
            },
            "header": {
             "fill": {
              "color": "#C8D4E3"
             },
             "line": {
              "color": "white"
             }
            },
            "type": "table"
           }
          ]
         },
         "layout": {
          "annotationdefaults": {
           "arrowcolor": "#2a3f5f",
           "arrowhead": 0,
           "arrowwidth": 1
          },
          "autotypenumbers": "strict",
          "coloraxis": {
           "colorbar": {
            "outlinewidth": 0,
            "ticks": ""
           }
          },
          "colorscale": {
           "diverging": [
            [
             0,
             "#8e0152"
            ],
            [
             0.1,
             "#c51b7d"
            ],
            [
             0.2,
             "#de77ae"
            ],
            [
             0.3,
             "#f1b6da"
            ],
            [
             0.4,
             "#fde0ef"
            ],
            [
             0.5,
             "#f7f7f7"
            ],
            [
             0.6,
             "#e6f5d0"
            ],
            [
             0.7,
             "#b8e186"
            ],
            [
             0.8,
             "#7fbc41"
            ],
            [
             0.9,
             "#4d9221"
            ],
            [
             1,
             "#276419"
            ]
           ],
           "sequential": [
            [
             0,
             "#0d0887"
            ],
            [
             0.1111111111111111,
             "#46039f"
            ],
            [
             0.2222222222222222,
             "#7201a8"
            ],
            [
             0.3333333333333333,
             "#9c179e"
            ],
            [
             0.4444444444444444,
             "#bd3786"
            ],
            [
             0.5555555555555556,
             "#d8576b"
            ],
            [
             0.6666666666666666,
             "#ed7953"
            ],
            [
             0.7777777777777778,
             "#fb9f3a"
            ],
            [
             0.8888888888888888,
             "#fdca26"
            ],
            [
             1,
             "#f0f921"
            ]
           ],
           "sequentialminus": [
            [
             0,
             "#0d0887"
            ],
            [
             0.1111111111111111,
             "#46039f"
            ],
            [
             0.2222222222222222,
             "#7201a8"
            ],
            [
             0.3333333333333333,
             "#9c179e"
            ],
            [
             0.4444444444444444,
             "#bd3786"
            ],
            [
             0.5555555555555556,
             "#d8576b"
            ],
            [
             0.6666666666666666,
             "#ed7953"
            ],
            [
             0.7777777777777778,
             "#fb9f3a"
            ],
            [
             0.8888888888888888,
             "#fdca26"
            ],
            [
             1,
             "#f0f921"
            ]
           ]
          },
          "colorway": [
           "#636efa",
           "#EF553B",
           "#00cc96",
           "#ab63fa",
           "#FFA15A",
           "#19d3f3",
           "#FF6692",
           "#B6E880",
           "#FF97FF",
           "#FECB52"
          ],
          "font": {
           "color": "#2a3f5f"
          },
          "geo": {
           "bgcolor": "white",
           "lakecolor": "white",
           "landcolor": "#E5ECF6",
           "showlakes": true,
           "showland": true,
           "subunitcolor": "white"
          },
          "hoverlabel": {
           "align": "left"
          },
          "hovermode": "closest",
          "mapbox": {
           "style": "light"
          },
          "paper_bgcolor": "white",
          "plot_bgcolor": "#E5ECF6",
          "polar": {
           "angularaxis": {
            "gridcolor": "white",
            "linecolor": "white",
            "ticks": ""
           },
           "bgcolor": "#E5ECF6",
           "radialaxis": {
            "gridcolor": "white",
            "linecolor": "white",
            "ticks": ""
           }
          },
          "scene": {
           "xaxis": {
            "backgroundcolor": "#E5ECF6",
            "gridcolor": "white",
            "gridwidth": 2,
            "linecolor": "white",
            "showbackground": true,
            "ticks": "",
            "zerolinecolor": "white"
           },
           "yaxis": {
            "backgroundcolor": "#E5ECF6",
            "gridcolor": "white",
            "gridwidth": 2,
            "linecolor": "white",
            "showbackground": true,
            "ticks": "",
            "zerolinecolor": "white"
           },
           "zaxis": {
            "backgroundcolor": "#E5ECF6",
            "gridcolor": "white",
            "gridwidth": 2,
            "linecolor": "white",
            "showbackground": true,
            "ticks": "",
            "zerolinecolor": "white"
           }
          },
          "shapedefaults": {
           "line": {
            "color": "#2a3f5f"
           }
          },
          "ternary": {
           "aaxis": {
            "gridcolor": "white",
            "linecolor": "white",
            "ticks": ""
           },
           "baxis": {
            "gridcolor": "white",
            "linecolor": "white",
            "ticks": ""
           },
           "bgcolor": "#E5ECF6",
           "caxis": {
            "gridcolor": "white",
            "linecolor": "white",
            "ticks": ""
           }
          },
          "title": {
           "x": 0.05
          },
          "xaxis": {
           "automargin": true,
           "gridcolor": "white",
           "linecolor": "white",
           "ticks": "",
           "title": {
            "standoff": 15
           },
           "zerolinecolor": "white",
           "zerolinewidth": 2
          },
          "yaxis": {
           "automargin": true,
           "gridcolor": "white",
           "linecolor": "white",
           "ticks": "",
           "title": {
            "standoff": 15
           },
           "zerolinecolor": "white",
           "zerolinewidth": 2
          }
         }
        },
        "title": {
         "text": "Fig. 2.1: Spectral Response of a Si solar cell (Plotly)",
         "x": 0.5
        },
        "xaxis": {
         "anchor": "y",
         "domain": [
          0,
          1
         ],
         "linecolor": "black",
         "linewidth": 1,
         "mirror": true,
         "title": {
          "text": "Wavelength (nm)"
         }
        },
        "yaxis": {
         "anchor": "x",
         "domain": [
          0,
          1
         ],
         "linecolor": "black",
         "linewidth": 1,
         "mirror": true,
         "title": {
          "text": "RE (A/W)"
         }
        }
       }
      }
     },
     "metadata": {},
     "output_type": "display_data"
    }
   ],
   "source": [
    "fig_2_1 = px.line(\n",
    "    df,\n",
    "    x=\"Wavelength (nm)\",\n",
    "    y=df.columns[5:7],\n",
    "    markers=True,\n",
    "    title=\"Fig. 2.1: Spectral Response of a Si solar cell (Plotly)\"\n",
    ")\n",
    "\n",
    "fig_2_1.update_layout(title_x=0.5, yaxis_title=\"RE (A/W)\", legend_title=None)\n",
    "fig_2_1.update_xaxes(linewidth=1, linecolor=\"black\", mirror=True)\n",
    "fig_2_1.update_yaxes(linewidth=1, linecolor=\"black\", mirror=True)\n",
    "fig_2_1_names = {\"RE (A/W)\": \"Not smoothed\", \"RE (A/W) smoothed\": \"Smoothed\"}\n",
    "fig_2_1.for_each_trace(lambda t: t.update(name = fig_2_1_names[t.name]))\n",
    "fig_2_1.show()"
   ]
  },
  {
   "attachments": {},
   "cell_type": "markdown",
   "metadata": {},
   "source": [
    "To find the maxmimum and minimum response with Plotly, we just have to zoom in the plot between $900$ $nm$ and $1100$ $nm$. Once we do this, we see that the maximum response is located at $928$ $nm$ with $0.66$ $\\frac{A}{W}$ and photons are not absorbed anymore at $1100$ $nm$."
   ]
  },
  {
   "attachments": {},
   "cell_type": "markdown",
   "metadata": {},
   "source": [
    "## Calculating energy gap ($E_{g}$)"
   ]
  },
  {
   "attachments": {},
   "cell_type": "markdown",
   "metadata": {},
   "source": [
    "### Derivative method"
   ]
  },
  {
   "attachments": {},
   "cell_type": "markdown",
   "metadata": {},
   "source": [
    "Since it is not possible to absorb photons with an energy less than the energy gap, we will only consider the interval from $1000$ $nm$ to $1100$ $nm$. In this interval the photons will have energies closer to the energy gap, as we can see in *Fig 2* or *Fig 2.1*. Then the nearest maximum to $1100$ $nm$ will be the energy gap $E_{g}$.  \n",
    "\n",
    "Let's apply the derivative method to the *EQE* and the smoothed *EQE* and add these new values to the dataframe: "
   ]
  },
  {
   "cell_type": "code",
   "execution_count": 15,
   "metadata": {},
   "outputs": [
    {
     "data": {
      "text/html": [
       "<div>\n",
       "<style scoped>\n",
       "    .dataframe tbody tr th:only-of-type {\n",
       "        vertical-align: middle;\n",
       "    }\n",
       "\n",
       "    .dataframe tbody tr th {\n",
       "        vertical-align: top;\n",
       "    }\n",
       "\n",
       "    .dataframe thead th {\n",
       "        text-align: right;\n",
       "    }\n",
       "</style>\n",
       "<table border=\"1\" class=\"dataframe\">\n",
       "  <thead>\n",
       "    <tr style=\"text-align: right;\">\n",
       "      <th></th>\n",
       "      <th>Wavelength (nm)</th>\n",
       "      <th>EQE (%)</th>\n",
       "      <th>EQE (%) smoothed</th>\n",
       "      <th>EQE (%) dec</th>\n",
       "      <th>EQE (%) smoothed dec</th>\n",
       "      <th>RE (A/W)</th>\n",
       "      <th>RE (A/W) smoothed</th>\n",
       "      <th>dEQE (a. u.)</th>\n",
       "      <th>dEQE smoothed (a. u.)</th>\n",
       "    </tr>\n",
       "  </thead>\n",
       "  <tbody>\n",
       "    <tr>\n",
       "      <th>0</th>\n",
       "      <td>300.017</td>\n",
       "      <td>58.06996</td>\n",
       "      <td>58.459183</td>\n",
       "      <td>0.580700</td>\n",
       "      <td>0.584592</td>\n",
       "      <td>0.140500</td>\n",
       "      <td>0.141442</td>\n",
       "      <td>0.676005</td>\n",
       "      <td>0.504208</td>\n",
       "    </tr>\n",
       "    <tr>\n",
       "      <th>1</th>\n",
       "      <td>301.992</td>\n",
       "      <td>59.40507</td>\n",
       "      <td>59.257436</td>\n",
       "      <td>0.594051</td>\n",
       "      <td>0.592574</td>\n",
       "      <td>0.144676</td>\n",
       "      <td>0.144317</td>\n",
       "      <td>0.676005</td>\n",
       "      <td>0.620366</td>\n",
       "    </tr>\n",
       "    <tr>\n",
       "      <th>2</th>\n",
       "      <td>304.005</td>\n",
       "      <td>60.75801</td>\n",
       "      <td>60.320764</td>\n",
       "      <td>0.607580</td>\n",
       "      <td>0.603208</td>\n",
       "      <td>0.148958</td>\n",
       "      <td>0.147886</td>\n",
       "      <td>0.672101</td>\n",
       "      <td>0.736523</td>\n",
       "    </tr>\n",
       "    <tr>\n",
       "      <th>3</th>\n",
       "      <td>306.016</td>\n",
       "      <td>62.07649</td>\n",
       "      <td>61.649170</td>\n",
       "      <td>0.620765</td>\n",
       "      <td>0.616492</td>\n",
       "      <td>0.153197</td>\n",
       "      <td>0.152142</td>\n",
       "      <td>0.655634</td>\n",
       "      <td>0.852681</td>\n",
       "    </tr>\n",
       "    <tr>\n",
       "      <th>4</th>\n",
       "      <td>307.991</td>\n",
       "      <td>63.10497</td>\n",
       "      <td>63.242652</td>\n",
       "      <td>0.631050</td>\n",
       "      <td>0.632427</td>\n",
       "      <td>0.156740</td>\n",
       "      <td>0.157082</td>\n",
       "      <td>0.520749</td>\n",
       "      <td>0.968839</td>\n",
       "    </tr>\n",
       "  </tbody>\n",
       "</table>\n",
       "</div>"
      ],
      "text/plain": [
       "   Wavelength (nm)   EQE (%)  EQE (%) smoothed  EQE (%) dec   \n",
       "0          300.017  58.06996         58.459183     0.580700  \\\n",
       "1          301.992  59.40507         59.257436     0.594051   \n",
       "2          304.005  60.75801         60.320764     0.607580   \n",
       "3          306.016  62.07649         61.649170     0.620765   \n",
       "4          307.991  63.10497         63.242652     0.631050   \n",
       "\n",
       "   EQE (%) smoothed dec  RE (A/W)  RE (A/W) smoothed  dEQE (a. u.)   \n",
       "0              0.584592  0.140500           0.141442      0.676005  \\\n",
       "1              0.592574  0.144676           0.144317      0.676005   \n",
       "2              0.603208  0.148958           0.147886      0.672101   \n",
       "3              0.616492  0.153197           0.152142      0.655634   \n",
       "4              0.632427  0.156740           0.157082      0.520749   \n",
       "\n",
       "   dEQE smoothed (a. u.)  \n",
       "0               0.504208  \n",
       "1               0.620366  \n",
       "2               0.736523  \n",
       "3               0.852681  \n",
       "4               0.968839  "
      ]
     },
     "execution_count": 15,
     "metadata": {},
     "output_type": "execute_result"
    }
   ],
   "source": [
    "w = df[\"Wavelength (nm)\"].to_numpy()\n",
    "eqe_wos = df[\"EQE (%)\"].to_numpy()\n",
    "eqe_dev = np.diff(eqe_wos, prepend=eqe_wos[1]) / np.diff(w, prepend=w[1])\n",
    "\n",
    "seqe_dev = savgol_filter(\n",
    "    df[\"EQE (%) smoothed\"],\n",
    "    window_length=10,\n",
    "    polyorder=2,\n",
    "    deriv=1,\n",
    "    delta=w[1]-w[0]\n",
    ")\n",
    "\n",
    "eqe_cols = [\"EQE (%)\", \"EQE (%) smoothed\"]\n",
    "for qe in eqe_cols:\n",
    "    if qe == \"EQE (%)\":\n",
    "        df[\"dEQE (a. u.)\"] = eqe_dev.tolist()\n",
    "    else:\n",
    "        df[\"dEQE smoothed (a. u.)\"] = seqe_dev.tolist()\n",
    "\n",
    "df.head()"
   ]
  },
  {
   "attachments": {},
   "cell_type": "markdown",
   "metadata": {},
   "source": [
    "Plotting these new columns:"
   ]
  },
  {
   "cell_type": "code",
   "execution_count": 16,
   "metadata": {},
   "outputs": [
    {
     "data": {
      "image/png": "[encoded data removed]",
      "text/plain": [
       "<Figure size 1000x1000 with 1 Axes>"
      ]
     },
     "metadata": {},
     "output_type": "display_data"
    }
   ],
   "source": [
    "fig3, ax = plt.subplots(figsize=(10, 10))\n",
    "diff_eqe_cols = [\"dEQE (a. u.)\", \"dEQE smoothed (a. u.)\"]\n",
    "\n",
    "for diff_qe in diff_eqe_cols:\n",
    "    if diff_qe == \"dEQE (a. u.)\":\n",
    "        label = \"Not smoothed\"\n",
    "    else:\n",
    "        label = \"Smoothed\"\n",
    "    sns.lineplot(data=df, x=\"Wavelength (nm)\", y=diff_qe, label=label)\n",
    "\n",
    "ax.set(\n",
    "    title=\"Fig. 3: Derivative method applied to the EQE of a Si solar cell.\",\n",
    "    ylabel=\"Derivative (a. u.)\"\n",
    ")\n",
    "plt.xlim(1000, 1100)\n",
    "plt.ylim(-1, 0)\n",
    "plt.show()"
   ]
  },
  {
   "attachments": {},
   "cell_type": "markdown",
   "metadata": {},
   "source": [
    "Let's focus on the wavelengths between $1060$ $nm$ and $1100$ $nm$, since we can see a maximum in that interval:"
   ]
  },
  {
   "cell_type": "code",
   "execution_count": 17,
   "metadata": {},
   "outputs": [
    {
     "data": {
      "text/html": [
       "<div>\n",
       "<style scoped>\n",
       "    .dataframe tbody tr th:only-of-type {\n",
       "        vertical-align: middle;\n",
       "    }\n",
       "\n",
       "    .dataframe tbody tr th {\n",
       "        vertical-align: top;\n",
       "    }\n",
       "\n",
       "    .dataframe thead th {\n",
       "        text-align: right;\n",
       "    }\n",
       "</style>\n",
       "<table border=\"1\" class=\"dataframe\">\n",
       "  <thead>\n",
       "    <tr style=\"text-align: right;\">\n",
       "      <th></th>\n",
       "      <th>Wavelength (nm)</th>\n",
       "      <th>EQE (%)</th>\n",
       "      <th>EQE (%) smoothed</th>\n",
       "      <th>EQE (%) dec</th>\n",
       "      <th>EQE (%) smoothed dec</th>\n",
       "      <th>RE (A/W)</th>\n",
       "      <th>RE (A/W) smoothed</th>\n",
       "      <th>dEQE (a. u.)</th>\n",
       "      <th>dEQE smoothed (a. u.)</th>\n",
       "    </tr>\n",
       "  </thead>\n",
       "  <tbody>\n",
       "    <tr>\n",
       "      <th>381</th>\n",
       "      <td>1062.005</td>\n",
       "      <td>42.61996</td>\n",
       "      <td>41.914557</td>\n",
       "      <td>0.426200</td>\n",
       "      <td>0.419146</td>\n",
       "      <td>0.365021</td>\n",
       "      <td>0.358980</td>\n",
       "      <td>-0.778605</td>\n",
       "      <td>-0.785187</td>\n",
       "    </tr>\n",
       "    <tr>\n",
       "      <th>382</th>\n",
       "      <td>1063.989</td>\n",
       "      <td>41.05670</td>\n",
       "      <td>40.327336</td>\n",
       "      <td>0.410567</td>\n",
       "      <td>0.403273</td>\n",
       "      <td>0.352289</td>\n",
       "      <td>0.346031</td>\n",
       "      <td>-0.787933</td>\n",
       "      <td>-0.769290</td>\n",
       "    </tr>\n",
       "    <tr>\n",
       "      <th>383</th>\n",
       "      <td>1065.998</td>\n",
       "      <td>39.75184</td>\n",
       "      <td>38.731173</td>\n",
       "      <td>0.397518</td>\n",
       "      <td>0.387312</td>\n",
       "      <td>0.341737</td>\n",
       "      <td>0.332963</td>\n",
       "      <td>-0.649507</td>\n",
       "      <td>-0.743857</td>\n",
       "    </tr>\n",
       "    <tr>\n",
       "      <th>384</th>\n",
       "      <td>1068.005</td>\n",
       "      <td>38.05230</td>\n",
       "      <td>37.245628</td>\n",
       "      <td>0.380523</td>\n",
       "      <td>0.372456</td>\n",
       "      <td>0.327742</td>\n",
       "      <td>0.320794</td>\n",
       "      <td>-0.846806</td>\n",
       "      <td>-0.711544</td>\n",
       "    </tr>\n",
       "    <tr>\n",
       "      <th>385</th>\n",
       "      <td>1070.009</td>\n",
       "      <td>36.22019</td>\n",
       "      <td>35.712260</td>\n",
       "      <td>0.362202</td>\n",
       "      <td>0.357123</td>\n",
       "      <td>0.312548</td>\n",
       "      <td>0.308165</td>\n",
       "      <td>-0.914227</td>\n",
       "      <td>-0.675755</td>\n",
       "    </tr>\n",
       "    <tr>\n",
       "      <th>386</th>\n",
       "      <td>1072.011</td>\n",
       "      <td>35.07762</td>\n",
       "      <td>34.230893</td>\n",
       "      <td>0.350776</td>\n",
       "      <td>0.342309</td>\n",
       "      <td>0.303255</td>\n",
       "      <td>0.295935</td>\n",
       "      <td>-0.570714</td>\n",
       "      <td>-0.638554</td>\n",
       "    </tr>\n",
       "    <tr>\n",
       "      <th>387</th>\n",
       "      <td>1074.009</td>\n",
       "      <td>33.60352</td>\n",
       "      <td>33.053781</td>\n",
       "      <td>0.336035</td>\n",
       "      <td>0.330538</td>\n",
       "      <td>0.291052</td>\n",
       "      <td>0.286291</td>\n",
       "      <td>-0.737788</td>\n",
       "      <td>-0.608629</td>\n",
       "    </tr>\n",
       "    <tr>\n",
       "      <th>388</th>\n",
       "      <td>1076.004</td>\n",
       "      <td>32.51160</td>\n",
       "      <td>32.066648</td>\n",
       "      <td>0.325116</td>\n",
       "      <td>0.320666</td>\n",
       "      <td>0.282118</td>\n",
       "      <td>0.278257</td>\n",
       "      <td>-0.547328</td>\n",
       "      <td>-0.592493</td>\n",
       "    </tr>\n",
       "    <tr>\n",
       "      <th>389</th>\n",
       "      <td>1077.997</td>\n",
       "      <td>31.01661</td>\n",
       "      <td>31.049254</td>\n",
       "      <td>0.310166</td>\n",
       "      <td>0.310493</td>\n",
       "      <td>0.269644</td>\n",
       "      <td>0.269927</td>\n",
       "      <td>-0.750120</td>\n",
       "      <td>-0.594992</td>\n",
       "    </tr>\n",
       "    <tr>\n",
       "      <th>390</th>\n",
       "      <td>1079.987</td>\n",
       "      <td>30.52733</td>\n",
       "      <td>29.927258</td>\n",
       "      <td>0.305273</td>\n",
       "      <td>0.299273</td>\n",
       "      <td>0.265880</td>\n",
       "      <td>0.260654</td>\n",
       "      <td>-0.245869</td>\n",
       "      <td>-0.618402</td>\n",
       "    </tr>\n",
       "    <tr>\n",
       "      <th>391</th>\n",
       "      <td>1082.002</td>\n",
       "      <td>30.25657</td>\n",
       "      <td>28.842276</td>\n",
       "      <td>0.302566</td>\n",
       "      <td>0.288423</td>\n",
       "      <td>0.264013</td>\n",
       "      <td>0.251673</td>\n",
       "      <td>-0.134372</td>\n",
       "      <td>-0.634693</td>\n",
       "    </tr>\n",
       "    <tr>\n",
       "      <th>392</th>\n",
       "      <td>1083.986</td>\n",
       "      <td>28.24899</td>\n",
       "      <td>27.613806</td>\n",
       "      <td>0.282490</td>\n",
       "      <td>0.276138</td>\n",
       "      <td>0.246948</td>\n",
       "      <td>0.241395</td>\n",
       "      <td>-1.011885</td>\n",
       "      <td>-0.659081</td>\n",
       "    </tr>\n",
       "    <tr>\n",
       "      <th>393</th>\n",
       "      <td>1085.995</td>\n",
       "      <td>26.46494</td>\n",
       "      <td>26.240121</td>\n",
       "      <td>0.264649</td>\n",
       "      <td>0.262401</td>\n",
       "      <td>0.231781</td>\n",
       "      <td>0.229812</td>\n",
       "      <td>-0.888029</td>\n",
       "      <td>-0.682551</td>\n",
       "    </tr>\n",
       "    <tr>\n",
       "      <th>394</th>\n",
       "      <td>1088.002</td>\n",
       "      <td>25.32785</td>\n",
       "      <td>24.605303</td>\n",
       "      <td>0.253279</td>\n",
       "      <td>0.246053</td>\n",
       "      <td>0.222232</td>\n",
       "      <td>0.215892</td>\n",
       "      <td>-0.566562</td>\n",
       "      <td>-0.702436</td>\n",
       "    </tr>\n",
       "    <tr>\n",
       "      <th>395</th>\n",
       "      <td>1090.005</td>\n",
       "      <td>24.15011</td>\n",
       "      <td>22.913306</td>\n",
       "      <td>0.241501</td>\n",
       "      <td>0.229133</td>\n",
       "      <td>0.212288</td>\n",
       "      <td>0.201416</td>\n",
       "      <td>-0.587988</td>\n",
       "      <td>-0.718846</td>\n",
       "    </tr>\n",
       "    <tr>\n",
       "      <th>396</th>\n",
       "      <td>1092.006</td>\n",
       "      <td>22.21079</td>\n",
       "      <td>22.137399</td>\n",
       "      <td>0.222108</td>\n",
       "      <td>0.221374</td>\n",
       "      <td>0.195599</td>\n",
       "      <td>0.194953</td>\n",
       "      <td>-0.969175</td>\n",
       "      <td>-0.721601</td>\n",
       "    </tr>\n",
       "    <tr>\n",
       "      <th>397</th>\n",
       "      <td>1094.003</td>\n",
       "      <td>20.50270</td>\n",
       "      <td>20.595463</td>\n",
       "      <td>0.205027</td>\n",
       "      <td>0.205955</td>\n",
       "      <td>0.180887</td>\n",
       "      <td>0.181706</td>\n",
       "      <td>-0.855328</td>\n",
       "      <td>-0.727111</td>\n",
       "    </tr>\n",
       "    <tr>\n",
       "      <th>398</th>\n",
       "      <td>1095.998</td>\n",
       "      <td>18.87539</td>\n",
       "      <td>19.066697</td>\n",
       "      <td>0.188754</td>\n",
       "      <td>0.190667</td>\n",
       "      <td>0.166834</td>\n",
       "      <td>0.168525</td>\n",
       "      <td>-0.815694</td>\n",
       "      <td>-0.732621</td>\n",
       "    </tr>\n",
       "    <tr>\n",
       "      <th>399</th>\n",
       "      <td>1097.989</td>\n",
       "      <td>17.46431</td>\n",
       "      <td>17.551100</td>\n",
       "      <td>0.174643</td>\n",
       "      <td>0.175511</td>\n",
       "      <td>0.154642</td>\n",
       "      <td>0.155411</td>\n",
       "      <td>-0.708729</td>\n",
       "      <td>-0.738131</td>\n",
       "    </tr>\n",
       "    <tr>\n",
       "      <th>400</th>\n",
       "      <td>1100.006</td>\n",
       "      <td>16.17466</td>\n",
       "      <td>16.048673</td>\n",
       "      <td>0.161747</td>\n",
       "      <td>0.160487</td>\n",
       "      <td>0.143486</td>\n",
       "      <td>0.142368</td>\n",
       "      <td>-0.639390</td>\n",
       "      <td>-0.743641</td>\n",
       "    </tr>\n",
       "  </tbody>\n",
       "</table>\n",
       "</div>"
      ],
      "text/plain": [
       "     Wavelength (nm)   EQE (%)  EQE (%) smoothed  EQE (%) dec   \n",
       "381         1062.005  42.61996         41.914557     0.426200  \\\n",
       "382         1063.989  41.05670         40.327336     0.410567   \n",
       "383         1065.998  39.75184         38.731173     0.397518   \n",
       "384         1068.005  38.05230         37.245628     0.380523   \n",
       "385         1070.009  36.22019         35.712260     0.362202   \n",
       "386         1072.011  35.07762         34.230893     0.350776   \n",
       "387         1074.009  33.60352         33.053781     0.336035   \n",
       "388         1076.004  32.51160         32.066648     0.325116   \n",
       "389         1077.997  31.01661         31.049254     0.310166   \n",
       "390         1079.987  30.52733         29.927258     0.305273   \n",
       "391         1082.002  30.25657         28.842276     0.302566   \n",
       "392         1083.986  28.24899         27.613806     0.282490   \n",
       "393         1085.995  26.46494         26.240121     0.264649   \n",
       "394         1088.002  25.32785         24.605303     0.253279   \n",
       "395         1090.005  24.15011         22.913306     0.241501   \n",
       "396         1092.006  22.21079         22.137399     0.222108   \n",
       "397         1094.003  20.50270         20.595463     0.205027   \n",
       "398         1095.998  18.87539         19.066697     0.188754   \n",
       "399         1097.989  17.46431         17.551100     0.174643   \n",
       "400         1100.006  16.17466         16.048673     0.161747   \n",
       "\n",
       "     EQE (%) smoothed dec  RE (A/W)  RE (A/W) smoothed  dEQE (a. u.)   \n",
       "381              0.419146  0.365021           0.358980     -0.778605  \\\n",
       "382              0.403273  0.352289           0.346031     -0.787933   \n",
       "383              0.387312  0.341737           0.332963     -0.649507   \n",
       "384              0.372456  0.327742           0.320794     -0.846806   \n",
       "385              0.357123  0.312548           0.308165     -0.914227   \n",
       "386              0.342309  0.303255           0.295935     -0.570714   \n",
       "387              0.330538  0.291052           0.286291     -0.737788   \n",
       "388              0.320666  0.282118           0.278257     -0.547328   \n",
       "389              0.310493  0.269644           0.269927     -0.750120   \n",
       "390              0.299273  0.265880           0.260654     -0.245869   \n",
       "391              0.288423  0.264013           0.251673     -0.134372   \n",
       "392              0.276138  0.246948           0.241395     -1.011885   \n",
       "393              0.262401  0.231781           0.229812     -0.888029   \n",
       "394              0.246053  0.222232           0.215892     -0.566562   \n",
       "395              0.229133  0.212288           0.201416     -0.587988   \n",
       "396              0.221374  0.195599           0.194953     -0.969175   \n",
       "397              0.205955  0.180887           0.181706     -0.855328   \n",
       "398              0.190667  0.166834           0.168525     -0.815694   \n",
       "399              0.175511  0.154642           0.155411     -0.708729   \n",
       "400              0.160487  0.143486           0.142368     -0.639390   \n",
       "\n",
       "     dEQE smoothed (a. u.)  \n",
       "381              -0.785187  \n",
       "382              -0.769290  \n",
       "383              -0.743857  \n",
       "384              -0.711544  \n",
       "385              -0.675755  \n",
       "386              -0.638554  \n",
       "387              -0.608629  \n",
       "388              -0.592493  \n",
       "389              -0.594992  \n",
       "390              -0.618402  \n",
       "391              -0.634693  \n",
       "392              -0.659081  \n",
       "393              -0.682551  \n",
       "394              -0.702436  \n",
       "395              -0.718846  \n",
       "396              -0.721601  \n",
       "397              -0.727111  \n",
       "398              -0.732621  \n",
       "399              -0.738131  \n",
       "400              -0.743641  "
      ]
     },
     "execution_count": 17,
     "metadata": {},
     "output_type": "execute_result"
    }
   ],
   "source": [
    "n1100 = df.loc[\n",
    "    (df[\"Wavelength (nm)\"] >= 1060) |\n",
    "    (df[\"Wavelength (nm)\"] >= 1100)\n",
    "]\n",
    "\n",
    "n1100"
   ]
  },
  {
   "attachments": {},
   "cell_type": "markdown",
   "metadata": {},
   "source": [
    "#### Using pandas to find the nearest maximum to $1100$ $nm$"
   ]
  },
  {
   "attachments": {},
   "cell_type": "markdown",
   "metadata": {},
   "source": [
    "Now, let's find this maximum:"
   ]
  },
  {
   "cell_type": "code",
   "execution_count": 18,
   "metadata": {},
   "outputs": [
    {
     "data": {
      "text/html": [
       "<div>\n",
       "<style scoped>\n",
       "    .dataframe tbody tr th:only-of-type {\n",
       "        vertical-align: middle;\n",
       "    }\n",
       "\n",
       "    .dataframe tbody tr th {\n",
       "        vertical-align: top;\n",
       "    }\n",
       "\n",
       "    .dataframe thead th {\n",
       "        text-align: right;\n",
       "    }\n",
       "</style>\n",
       "<table border=\"1\" class=\"dataframe\">\n",
       "  <thead>\n",
       "    <tr style=\"text-align: right;\">\n",
       "      <th></th>\n",
       "      <th>Wavelength (nm)</th>\n",
       "      <th>EQE (%)</th>\n",
       "      <th>EQE (%) smoothed</th>\n",
       "      <th>EQE (%) dec</th>\n",
       "      <th>EQE (%) smoothed dec</th>\n",
       "      <th>RE (A/W)</th>\n",
       "      <th>RE (A/W) smoothed</th>\n",
       "      <th>dEQE (a. u.)</th>\n",
       "      <th>dEQE smoothed (a. u.)</th>\n",
       "    </tr>\n",
       "  </thead>\n",
       "  <tbody>\n",
       "    <tr>\n",
       "      <th>388</th>\n",
       "      <td>1076.004</td>\n",
       "      <td>32.5116</td>\n",
       "      <td>32.066648</td>\n",
       "      <td>0.325116</td>\n",
       "      <td>0.320666</td>\n",
       "      <td>0.282118</td>\n",
       "      <td>0.278257</td>\n",
       "      <td>-0.547328</td>\n",
       "      <td>-0.592493</td>\n",
       "    </tr>\n",
       "  </tbody>\n",
       "</table>\n",
       "</div>"
      ],
      "text/plain": [
       "     Wavelength (nm)  EQE (%)  EQE (%) smoothed  EQE (%) dec   \n",
       "388         1076.004  32.5116         32.066648     0.325116  \\\n",
       "\n",
       "     EQE (%) smoothed dec  RE (A/W)  RE (A/W) smoothed  dEQE (a. u.)   \n",
       "388              0.320666  0.282118           0.278257     -0.547328  \\\n",
       "\n",
       "     dEQE smoothed (a. u.)  \n",
       "388              -0.592493  "
      ]
     },
     "execution_count": 18,
     "metadata": {},
     "output_type": "execute_result"
    }
   ],
   "source": [
    "nwave_1100 = n1100[\n",
    "    n1100[\"dEQE smoothed (a. u.)\"] == n1100[\"dEQE smoothed (a. u.)\"].max()\n",
    "]\n",
    "nwave_1100"
   ]
  },
  {
   "attachments": {},
   "cell_type": "markdown",
   "metadata": {},
   "source": [
    "We find that the nearest maximum to $1100$ $nm$ is located at $1076$ $nm$. So using (7):"
   ]
  },
  {
   "cell_type": "code",
   "execution_count": 19,
   "metadata": {},
   "outputs": [
    {
     "name": "stdout",
     "output_type": "stream",
     "text": [
      "Energy gap by derivative method: 1.1524120728175733 ev\n"
     ]
    }
   ],
   "source": [
    "Eg_diff = 1240 / nwave_1100[\"Wavelength (nm)\"].values[0]\n",
    "Eg_dm = f\"Energy gap by derivative method: {Eg_diff} ev\"\n",
    "print(Eg_dm)"
   ]
  },
  {
   "attachments": {},
   "cell_type": "markdown",
   "metadata": {},
   "source": [
    "The energy gap obtained through the derivative method was of $E_{g}=1.15$ $eV$.  \n",
    "This result corresponds to the energy gap of *Si*."
   ]
  },
  {
   "attachments": {},
   "cell_type": "markdown",
   "metadata": {},
   "source": [
    "#### Using Plotly to find the nearest maximum to $1100$ $nm$"
   ]
  },
  {
   "attachments": {},
   "cell_type": "markdown",
   "metadata": {},
   "source": [
    "Since we will use Plotly, we can use the dataframe *n1100* that considers the wavelengths from $1060$ $nm$ to $1100$ $nm$ or we can or use the original dataframe *df* and just zoom in the interval previously mentioned.  \n",
    "  \n",
    "In this case, we will use the dataframe *n1100*."
   ]
  },
  {
   "cell_type": "code",
   "execution_count": 20,
   "metadata": {},
   "outputs": [
    {
     "data": {
      "application/vnd.plotly.v1+json": {
       "config": {
        "plotlyServerURL": "https://plot.ly"
       },
       "data": [
        {
         "hovertemplate": "variable=dEQE (a. u.)<br>Wavelength (nm)=%{x}<br>value=%{y}<extra></extra>",
         "legendgroup": "dEQE (a. u.)",
         "line": {
          "color": "#636efa",
          "dash": "solid"
         },
         "marker": {
          "symbol": "circle"
         },
         "mode": "markers+lines",
         "name": "Not smoothed",
         "orientation": "v",
         "showlegend": true,
         "type": "scatter",
         "x": [
          1062.005,
          1063.989,
          1065.998,
          1068.005,
          1070.009,
          1072.011,
          1074.009,
          1076.004,
          1077.997,
          1079.987,
          1082.002,
          1083.986,
          1085.995,
          1088.002,
          1090.005,
          1092.006,
          1094.003,
          1095.998,
          1097.989,
          1100.006
         ],
         "xaxis": "x",
         "y": [
          -0.7786054590570349,
          -0.7879334677419656,
          -0.649507217521149,
          -0.8468061783756585,
          -0.9142265469062308,
          -0.5707142857142988,
          -0.7377877877877703,
          -0.5473283208020359,
          -0.7501204214751015,
          -0.24586934673366764,
          -0.13437220843673267,
          -1.0118850806450848,
          -0.8880288700847135,
          -0.5665620328848839,
          -0.5879880179729945,
          -0.9691754122938656,
          -0.8553279919880482,
          -0.8156942355889247,
          -0.7087292817679601,
          -0.6393901834407377
         ],
         "yaxis": "y"
        },
        {
         "hovertemplate": "variable=dEQE smoothed (a. u.)<br>Wavelength (nm)=%{x}<br>value=%{y}<extra></extra>",
         "legendgroup": "dEQE smoothed (a. u.)",
         "line": {
          "color": "#EF553B",
          "dash": "solid"
         },
         "marker": {
          "symbol": "circle"
         },
         "mode": "markers+lines",
         "name": "Smoothed",
         "orientation": "v",
         "showlegend": true,
         "type": "scatter",
         "x": [
          1062.005,
          1063.989,
          1065.998,
          1068.005,
          1070.009,
          1072.011,
          1074.009,
          1076.004,
          1077.997,
          1079.987,
          1082.002,
          1083.986,
          1085.995,
          1088.002,
          1090.005,
          1092.006,
          1094.003,
          1095.998,
          1097.989,
          1100.006
         ],
         "xaxis": "x",
         "y": [
          -0.7851868596087271,
          -0.7692903014959551,
          -0.7438566902569838,
          -0.711544314154184,
          -0.675755402569988,
          -0.6385539334483937,
          -0.6086285533179765,
          -0.5924934204065841,
          -0.5949919719984524,
          -0.6184015090141795,
          -0.6346926437911801,
          -0.6590809615196749,
          -0.6825509216968213,
          -0.7024360726772818,
          -0.7188459224058679,
          -0.7216008794344441,
          -0.7271107934915852,
          -0.7326207075487263,
          -0.7381306216058674,
          -0.7436405356630085
         ],
         "yaxis": "y"
        }
       ],
       "layout": {
        "legend": {
         "title": {},
         "tracegroupgap": 0
        },
        "template": {
         "data": {
          "bar": [
           {
            "error_x": {
             "color": "#2a3f5f"
            },
            "error_y": {
             "color": "#2a3f5f"
            },
            "marker": {
             "line": {
              "color": "#E5ECF6",
              "width": 0.5
             },
             "pattern": {
              "fillmode": "overlay",
              "size": 10,
              "solidity": 0.2
             }
            },
            "type": "bar"
           }
          ],
          "barpolar": [
           {
            "marker": {
             "line": {
              "color": "#E5ECF6",
              "width": 0.5
             },
             "pattern": {
              "fillmode": "overlay",
              "size": 10,
              "solidity": 0.2
             }
            },
            "type": "barpolar"
           }
          ],
          "carpet": [
           {
            "aaxis": {
             "endlinecolor": "#2a3f5f",
             "gridcolor": "white",
             "linecolor": "white",
             "minorgridcolor": "white",
             "startlinecolor": "#2a3f5f"
            },
            "baxis": {
             "endlinecolor": "#2a3f5f",
             "gridcolor": "white",
             "linecolor": "white",
             "minorgridcolor": "white",
             "startlinecolor": "#2a3f5f"
            },
            "type": "carpet"
           }
          ],
          "choropleth": [
           {
            "colorbar": {
             "outlinewidth": 0,
             "ticks": ""
            },
            "type": "choropleth"
           }
          ],
          "contour": [
           {
            "colorbar": {
             "outlinewidth": 0,
             "ticks": ""
            },
            "colorscale": [
             [
              0,
              "#0d0887"
             ],
             [
              0.1111111111111111,
              "#46039f"
             ],
             [
              0.2222222222222222,
              "#7201a8"
             ],
             [
              0.3333333333333333,
              "#9c179e"
             ],
             [
              0.4444444444444444,
              "#bd3786"
             ],
             [
              0.5555555555555556,
              "#d8576b"
             ],
             [
              0.6666666666666666,
              "#ed7953"
             ],
             [
              0.7777777777777778,
              "#fb9f3a"
             ],
             [
              0.8888888888888888,
              "#fdca26"
             ],
             [
              1,
              "#f0f921"
             ]
            ],
            "type": "contour"
           }
          ],
          "contourcarpet": [
           {
            "colorbar": {
             "outlinewidth": 0,
             "ticks": ""
            },
            "type": "contourcarpet"
           }
          ],
          "heatmap": [
           {
            "colorbar": {
             "outlinewidth": 0,
             "ticks": ""
            },
            "colorscale": [
             [
              0,
              "#0d0887"
             ],
             [
              0.1111111111111111,
              "#46039f"
             ],
             [
              0.2222222222222222,
              "#7201a8"
             ],
             [
              0.3333333333333333,
              "#9c179e"
             ],
             [
              0.4444444444444444,
              "#bd3786"
             ],
             [
              0.5555555555555556,
              "#d8576b"
             ],
             [
              0.6666666666666666,
              "#ed7953"
             ],
             [
              0.7777777777777778,
              "#fb9f3a"
             ],
             [
              0.8888888888888888,
              "#fdca26"
             ],
             [
              1,
              "#f0f921"
             ]
            ],
            "type": "heatmap"
           }
          ],
          "heatmapgl": [
           {
            "colorbar": {
             "outlinewidth": 0,
             "ticks": ""
            },
            "colorscale": [
             [
              0,
              "#0d0887"
             ],
             [
              0.1111111111111111,
              "#46039f"
             ],
             [
              0.2222222222222222,
              "#7201a8"
             ],
             [
              0.3333333333333333,
              "#9c179e"
             ],
             [
              0.4444444444444444,
              "#bd3786"
             ],
             [
              0.5555555555555556,
              "#d8576b"
             ],
             [
              0.6666666666666666,
              "#ed7953"
             ],
             [
              0.7777777777777778,
              "#fb9f3a"
             ],
             [
              0.8888888888888888,
              "#fdca26"
             ],
             [
              1,
              "#f0f921"
             ]
            ],
            "type": "heatmapgl"
           }
          ],
          "histogram": [
           {
            "marker": {
             "pattern": {
              "fillmode": "overlay",
              "size": 10,
              "solidity": 0.2
             }
            },
            "type": "histogram"
           }
          ],
          "histogram2d": [
           {
            "colorbar": {
             "outlinewidth": 0,
             "ticks": ""
            },
            "colorscale": [
             [
              0,
              "#0d0887"
             ],
             [
              0.1111111111111111,
              "#46039f"
             ],
             [
              0.2222222222222222,
              "#7201a8"
             ],
             [
              0.3333333333333333,
              "#9c179e"
             ],
             [
              0.4444444444444444,
              "#bd3786"
             ],
             [
              0.5555555555555556,
              "#d8576b"
             ],
             [
              0.6666666666666666,
              "#ed7953"
             ],
             [
              0.7777777777777778,
              "#fb9f3a"
             ],
             [
              0.8888888888888888,
              "#fdca26"
             ],
             [
              1,
              "#f0f921"
             ]
            ],
            "type": "histogram2d"
           }
          ],
          "histogram2dcontour": [
           {
            "colorbar": {
             "outlinewidth": 0,
             "ticks": ""
            },
            "colorscale": [
             [
              0,
              "#0d0887"
             ],
             [
              0.1111111111111111,
              "#46039f"
             ],
             [
              0.2222222222222222,
              "#7201a8"
             ],
             [
              0.3333333333333333,
              "#9c179e"
             ],
             [
              0.4444444444444444,
              "#bd3786"
             ],
             [
              0.5555555555555556,
              "#d8576b"
             ],
             [
              0.6666666666666666,
              "#ed7953"
             ],
             [
              0.7777777777777778,
              "#fb9f3a"
             ],
             [
              0.8888888888888888,
              "#fdca26"
             ],
             [
              1,
              "#f0f921"
             ]
            ],
            "type": "histogram2dcontour"
           }
          ],
          "mesh3d": [
           {
            "colorbar": {
             "outlinewidth": 0,
             "ticks": ""
            },
            "type": "mesh3d"
           }
          ],
          "parcoords": [
           {
            "line": {
             "colorbar": {
              "outlinewidth": 0,
              "ticks": ""
             }
            },
            "type": "parcoords"
           }
          ],
          "pie": [
           {
            "automargin": true,
            "type": "pie"
           }
          ],
          "scatter": [
           {
            "fillpattern": {
             "fillmode": "overlay",
             "size": 10,
             "solidity": 0.2
            },
            "type": "scatter"
           }
          ],
          "scatter3d": [
           {
            "line": {
             "colorbar": {
              "outlinewidth": 0,
              "ticks": ""
             }
            },
            "marker": {
             "colorbar": {
              "outlinewidth": 0,
              "ticks": ""
             }
            },
            "type": "scatter3d"
           }
          ],
          "scattercarpet": [
           {
            "marker": {
             "colorbar": {
              "outlinewidth": 0,
              "ticks": ""
             }
            },
            "type": "scattercarpet"
           }
          ],
          "scattergeo": [
           {
            "marker": {
             "colorbar": {
              "outlinewidth": 0,
              "ticks": ""
             }
            },
            "type": "scattergeo"
           }
          ],
          "scattergl": [
           {
            "marker": {
             "colorbar": {
              "outlinewidth": 0,
              "ticks": ""
             }
            },
            "type": "scattergl"
           }
          ],
          "scattermapbox": [
           {
            "marker": {
             "colorbar": {
              "outlinewidth": 0,
              "ticks": ""
             }
            },
            "type": "scattermapbox"
           }
          ],
          "scatterpolar": [
           {
            "marker": {
             "colorbar": {
              "outlinewidth": 0,
              "ticks": ""
             }
            },
            "type": "scatterpolar"
           }
          ],
          "scatterpolargl": [
           {
            "marker": {
             "colorbar": {
              "outlinewidth": 0,
              "ticks": ""
             }
            },
            "type": "scatterpolargl"
           }
          ],
          "scatterternary": [
           {
            "marker": {
             "colorbar": {
              "outlinewidth": 0,
              "ticks": ""
             }
            },
            "type": "scatterternary"
           }
          ],
          "surface": [
           {
            "colorbar": {
             "outlinewidth": 0,
             "ticks": ""
            },
            "colorscale": [
             [
              0,
              "#0d0887"
             ],
             [
              0.1111111111111111,
              "#46039f"
             ],
             [
              0.2222222222222222,
              "#7201a8"
             ],
             [
              0.3333333333333333,
              "#9c179e"
             ],
             [
              0.4444444444444444,
              "#bd3786"
             ],
             [
              0.5555555555555556,
              "#d8576b"
             ],
             [
              0.6666666666666666,
              "#ed7953"
             ],
             [
              0.7777777777777778,
              "#fb9f3a"
             ],
             [
              0.8888888888888888,
              "#fdca26"
             ],
             [
              1,
              "#f0f921"
             ]
            ],
            "type": "surface"
           }
          ],
          "table": [
           {
            "cells": {
             "fill": {
              "color": "#EBF0F8"
             },
             "line": {
              "color": "white"
             }
            },
            "header": {
             "fill": {
              "color": "#C8D4E3"
             },
             "line": {
              "color": "white"
             }
            },
            "type": "table"
           }
          ]
         },
         "layout": {
          "annotationdefaults": {
           "arrowcolor": "#2a3f5f",
           "arrowhead": 0,
           "arrowwidth": 1
          },
          "autotypenumbers": "strict",
          "coloraxis": {
           "colorbar": {
            "outlinewidth": 0,
            "ticks": ""
           }
          },
          "colorscale": {
           "diverging": [
            [
             0,
             "#8e0152"
            ],
            [
             0.1,
             "#c51b7d"
            ],
            [
             0.2,
             "#de77ae"
            ],
            [
             0.3,
             "#f1b6da"
            ],
            [
             0.4,
             "#fde0ef"
            ],
            [
             0.5,
             "#f7f7f7"
            ],
            [
             0.6,
             "#e6f5d0"
            ],
            [
             0.7,
             "#b8e186"
            ],
            [
             0.8,
             "#7fbc41"
            ],
            [
             0.9,
             "#4d9221"
            ],
            [
             1,
             "#276419"
            ]
           ],
           "sequential": [
            [
             0,
             "#0d0887"
            ],
            [
             0.1111111111111111,
             "#46039f"
            ],
            [
             0.2222222222222222,
             "#7201a8"
            ],
            [
             0.3333333333333333,
             "#9c179e"
            ],
            [
             0.4444444444444444,
             "#bd3786"
            ],
            [
             0.5555555555555556,
             "#d8576b"
            ],
            [
             0.6666666666666666,
             "#ed7953"
            ],
            [
             0.7777777777777778,
             "#fb9f3a"
            ],
            [
             0.8888888888888888,
             "#fdca26"
            ],
            [
             1,
             "#f0f921"
            ]
           ],
           "sequentialminus": [
            [
             0,
             "#0d0887"
            ],
            [
             0.1111111111111111,
             "#46039f"
            ],
            [
             0.2222222222222222,
             "#7201a8"
            ],
            [
             0.3333333333333333,
             "#9c179e"
            ],
            [
             0.4444444444444444,
             "#bd3786"
            ],
            [
             0.5555555555555556,
             "#d8576b"
            ],
            [
             0.6666666666666666,
             "#ed7953"
            ],
            [
             0.7777777777777778,
             "#fb9f3a"
            ],
            [
             0.8888888888888888,
             "#fdca26"
            ],
            [
             1,
             "#f0f921"
            ]
           ]
          },
          "colorway": [
           "#636efa",
           "#EF553B",
           "#00cc96",
           "#ab63fa",
           "#FFA15A",
           "#19d3f3",
           "#FF6692",
           "#B6E880",
           "#FF97FF",
           "#FECB52"
          ],
          "font": {
           "color": "#2a3f5f"
          },
          "geo": {
           "bgcolor": "white",
           "lakecolor": "white",
           "landcolor": "#E5ECF6",
           "showlakes": true,
           "showland": true,
           "subunitcolor": "white"
          },
          "hoverlabel": {
           "align": "left"
          },
          "hovermode": "closest",
          "mapbox": {
           "style": "light"
          },
          "paper_bgcolor": "white",
          "plot_bgcolor": "#E5ECF6",
          "polar": {
           "angularaxis": {
            "gridcolor": "white",
            "linecolor": "white",
            "ticks": ""
           },
           "bgcolor": "#E5ECF6",
           "radialaxis": {
            "gridcolor": "white",
            "linecolor": "white",
            "ticks": ""
           }
          },
          "scene": {
           "xaxis": {
            "backgroundcolor": "#E5ECF6",
            "gridcolor": "white",
            "gridwidth": 2,
            "linecolor": "white",
            "showbackground": true,
            "ticks": "",
            "zerolinecolor": "white"
           },
           "yaxis": {
            "backgroundcolor": "#E5ECF6",
            "gridcolor": "white",
            "gridwidth": 2,
            "linecolor": "white",
            "showbackground": true,
            "ticks": "",
            "zerolinecolor": "white"
           },
           "zaxis": {
            "backgroundcolor": "#E5ECF6",
            "gridcolor": "white",
            "gridwidth": 2,
            "linecolor": "white",
            "showbackground": true,
            "ticks": "",
            "zerolinecolor": "white"
           }
          },
          "shapedefaults": {
           "line": {
            "color": "#2a3f5f"
           }
          },
          "ternary": {
           "aaxis": {
            "gridcolor": "white",
            "linecolor": "white",
            "ticks": ""
           },
           "baxis": {
            "gridcolor": "white",
            "linecolor": "white",
            "ticks": ""
           },
           "bgcolor": "#E5ECF6",
           "caxis": {
            "gridcolor": "white",
            "linecolor": "white",
            "ticks": ""
           }
          },
          "title": {
           "x": 0.05
          },
          "xaxis": {
           "automargin": true,
           "gridcolor": "white",
           "linecolor": "white",
           "ticks": "",
           "title": {
            "standoff": 15
           },
           "zerolinecolor": "white",
           "zerolinewidth": 2
          },
          "yaxis": {
           "automargin": true,
           "gridcolor": "white",
           "linecolor": "white",
           "ticks": "",
           "title": {
            "standoff": 15
           },
           "zerolinecolor": "white",
           "zerolinewidth": 2
          }
         }
        },
        "title": {
         "text": "Fig. 3.1: Derivative method applied to the EQE of a Si solar cell (Plotly)",
         "x": 0.5
        },
        "xaxis": {
         "anchor": "y",
         "domain": [
          0,
          1
         ],
         "linecolor": "black",
         "linewidth": 1,
         "mirror": true,
         "title": {
          "text": "Wavelength (nm)"
         }
        },
        "yaxis": {
         "anchor": "x",
         "domain": [
          0,
          1
         ],
         "linecolor": "black",
         "linewidth": 1,
         "mirror": true,
         "title": {
          "text": "Derivative (a. u.)"
         }
        }
       }
      }
     },
     "metadata": {},
     "output_type": "display_data"
    }
   ],
   "source": [
    "fig_3_1 = px.line(\n",
    "    n1100,\n",
    "    x=\"Wavelength (nm)\",\n",
    "    y=[\"dEQE (a. u.)\", \"dEQE smoothed (a. u.)\"],\n",
    "    markers=True,\n",
    "    title=\"Fig. 3.1: Derivative method applied to the EQE of a Si solar cell (Plotly)\"\n",
    ")\n",
    "\n",
    "fig_3_1.update_layout(\n",
    "    title_x=0.5, yaxis_title=\"Derivative (a. u.)\", legend_title=None)\n",
    "fig_3_1.update_xaxes(linewidth=1, linecolor=\"black\", mirror=True)\n",
    "fig_3_1.update_yaxes(linewidth=1, linecolor=\"black\", mirror=True)\n",
    "fig_3_1_names = {\"dEQE (a. u.)\": \"Not smoothed\", \"dEQE smoothed (a. u.)\": \"Smoothed\"}\n",
    "fig_3_1.for_each_trace(lambda t: t.update(name = fig_3_1_names[t.name]))\n",
    "fig_3_1.show()"
   ]
  },
  {
   "attachments": {},
   "cell_type": "markdown",
   "metadata": {},
   "source": [
    "As we can see in Fig 3.1, the nearest maximum to $1100$ $nm$ is at $1076$ $nm$. And using (7) we obtain an energy of $1.15$ $eV$."
   ]
  },
  {
   "attachments": {},
   "cell_type": "markdown",
   "metadata": {},
   "source": [
    "### Plot of $[ln(1-EQE)]^{2}$ $vs.$ $h{\\nu}$"
   ]
  },
  {
   "attachments": {},
   "cell_type": "markdown",
   "metadata": {},
   "source": [
    "We will build the plot of $[ln(1-EQE)]^{2}$ $vs.$ $h\\nu$. For this, we will add a new column named *Energy (eV)*, this column will contain the results of (7), i. e., the energies of the considered wavelengths in the experiment. Then:"
   ]
  },
  {
   "cell_type": "code",
   "execution_count": 21,
   "metadata": {},
   "outputs": [
    {
     "data": {
      "text/html": [
       "<div>\n",
       "<style scoped>\n",
       "    .dataframe tbody tr th:only-of-type {\n",
       "        vertical-align: middle;\n",
       "    }\n",
       "\n",
       "    .dataframe tbody tr th {\n",
       "        vertical-align: top;\n",
       "    }\n",
       "\n",
       "    .dataframe thead th {\n",
       "        text-align: right;\n",
       "    }\n",
       "</style>\n",
       "<table border=\"1\" class=\"dataframe\">\n",
       "  <thead>\n",
       "    <tr style=\"text-align: right;\">\n",
       "      <th></th>\n",
       "      <th>Wavelength (nm)</th>\n",
       "      <th>EQE (%)</th>\n",
       "      <th>EQE (%) smoothed</th>\n",
       "      <th>EQE (%) dec</th>\n",
       "      <th>EQE (%) smoothed dec</th>\n",
       "      <th>RE (A/W)</th>\n",
       "      <th>RE (A/W) smoothed</th>\n",
       "      <th>dEQE (a. u.)</th>\n",
       "      <th>dEQE smoothed (a. u.)</th>\n",
       "      <th>Energy (eV)</th>\n",
       "    </tr>\n",
       "  </thead>\n",
       "  <tbody>\n",
       "    <tr>\n",
       "      <th>0</th>\n",
       "      <td>300.017</td>\n",
       "      <td>58.06996</td>\n",
       "      <td>58.459183</td>\n",
       "      <td>0.580700</td>\n",
       "      <td>0.584592</td>\n",
       "      <td>0.140500</td>\n",
       "      <td>0.141442</td>\n",
       "      <td>0.676005</td>\n",
       "      <td>0.504208</td>\n",
       "      <td>4.133099</td>\n",
       "    </tr>\n",
       "    <tr>\n",
       "      <th>1</th>\n",
       "      <td>301.992</td>\n",
       "      <td>59.40507</td>\n",
       "      <td>59.257436</td>\n",
       "      <td>0.594051</td>\n",
       "      <td>0.592574</td>\n",
       "      <td>0.144676</td>\n",
       "      <td>0.144317</td>\n",
       "      <td>0.676005</td>\n",
       "      <td>0.620366</td>\n",
       "      <td>4.106069</td>\n",
       "    </tr>\n",
       "    <tr>\n",
       "      <th>2</th>\n",
       "      <td>304.005</td>\n",
       "      <td>60.75801</td>\n",
       "      <td>60.320764</td>\n",
       "      <td>0.607580</td>\n",
       "      <td>0.603208</td>\n",
       "      <td>0.148958</td>\n",
       "      <td>0.147886</td>\n",
       "      <td>0.672101</td>\n",
       "      <td>0.736523</td>\n",
       "      <td>4.078880</td>\n",
       "    </tr>\n",
       "    <tr>\n",
       "      <th>3</th>\n",
       "      <td>306.016</td>\n",
       "      <td>62.07649</td>\n",
       "      <td>61.649170</td>\n",
       "      <td>0.620765</td>\n",
       "      <td>0.616492</td>\n",
       "      <td>0.153197</td>\n",
       "      <td>0.152142</td>\n",
       "      <td>0.655634</td>\n",
       "      <td>0.852681</td>\n",
       "      <td>4.052076</td>\n",
       "    </tr>\n",
       "    <tr>\n",
       "      <th>4</th>\n",
       "      <td>307.991</td>\n",
       "      <td>63.10497</td>\n",
       "      <td>63.242652</td>\n",
       "      <td>0.631050</td>\n",
       "      <td>0.632427</td>\n",
       "      <td>0.156740</td>\n",
       "      <td>0.157082</td>\n",
       "      <td>0.520749</td>\n",
       "      <td>0.968839</td>\n",
       "      <td>4.026092</td>\n",
       "    </tr>\n",
       "  </tbody>\n",
       "</table>\n",
       "</div>"
      ],
      "text/plain": [
       "   Wavelength (nm)   EQE (%)  EQE (%) smoothed  EQE (%) dec   \n",
       "0          300.017  58.06996         58.459183     0.580700  \\\n",
       "1          301.992  59.40507         59.257436     0.594051   \n",
       "2          304.005  60.75801         60.320764     0.607580   \n",
       "3          306.016  62.07649         61.649170     0.620765   \n",
       "4          307.991  63.10497         63.242652     0.631050   \n",
       "\n",
       "   EQE (%) smoothed dec  RE (A/W)  RE (A/W) smoothed  dEQE (a. u.)   \n",
       "0              0.584592  0.140500           0.141442      0.676005  \\\n",
       "1              0.592574  0.144676           0.144317      0.676005   \n",
       "2              0.603208  0.148958           0.147886      0.672101   \n",
       "3              0.616492  0.153197           0.152142      0.655634   \n",
       "4              0.632427  0.156740           0.157082      0.520749   \n",
       "\n",
       "   dEQE smoothed (a. u.)  Energy (eV)  \n",
       "0               0.504208     4.133099  \n",
       "1               0.620366     4.106069  \n",
       "2               0.736523     4.078880  \n",
       "3               0.852681     4.052076  \n",
       "4               0.968839     4.026092  "
      ]
     },
     "execution_count": 21,
     "metadata": {},
     "output_type": "execute_result"
    }
   ],
   "source": [
    "# Adding column \"Energy\" to df\n",
    "df[\"Energy (eV)\"] = 1240 / df[\"Wavelength (nm)\"]\n",
    "df.head()"
   ]
  },
  {
   "attachments": {},
   "cell_type": "markdown",
   "metadata": {},
   "source": [
    "Now we will add two more columns called $[ln(1-EQE)]^{2}$ and $[ln(1-EQE)]^{2}$ $smoothed$:"
   ]
  },
  {
   "cell_type": "code",
   "execution_count": 22,
   "metadata": {},
   "outputs": [
    {
     "data": {
      "text/html": [
       "<div>\n",
       "<style scoped>\n",
       "    .dataframe tbody tr th:only-of-type {\n",
       "        vertical-align: middle;\n",
       "    }\n",
       "\n",
       "    .dataframe tbody tr th {\n",
       "        vertical-align: top;\n",
       "    }\n",
       "\n",
       "    .dataframe thead th {\n",
       "        text-align: right;\n",
       "    }\n",
       "</style>\n",
       "<table border=\"1\" class=\"dataframe\">\n",
       "  <thead>\n",
       "    <tr style=\"text-align: right;\">\n",
       "      <th></th>\n",
       "      <th>Wavelength (nm)</th>\n",
       "      <th>EQE (%)</th>\n",
       "      <th>EQE (%) smoothed</th>\n",
       "      <th>EQE (%) dec</th>\n",
       "      <th>EQE (%) smoothed dec</th>\n",
       "      <th>RE (A/W)</th>\n",
       "      <th>RE (A/W) smoothed</th>\n",
       "      <th>dEQE (a. u.)</th>\n",
       "      <th>dEQE smoothed (a. u.)</th>\n",
       "      <th>Energy (eV)</th>\n",
       "      <th>[ln(1-EQE)]^2</th>\n",
       "      <th>[ln(1-EQE)]^2 smoothed</th>\n",
       "    </tr>\n",
       "  </thead>\n",
       "  <tbody>\n",
       "    <tr>\n",
       "      <th>0</th>\n",
       "      <td>300.017</td>\n",
       "      <td>58.06996</td>\n",
       "      <td>58.459183</td>\n",
       "      <td>0.580700</td>\n",
       "      <td>0.584592</td>\n",
       "      <td>0.140500</td>\n",
       "      <td>0.141442</td>\n",
       "      <td>0.676005</td>\n",
       "      <td>0.504208</td>\n",
       "      <td>4.133099</td>\n",
       "      <td>0.755452</td>\n",
       "      <td>0.771751</td>\n",
       "    </tr>\n",
       "    <tr>\n",
       "      <th>1</th>\n",
       "      <td>301.992</td>\n",
       "      <td>59.40507</td>\n",
       "      <td>59.257436</td>\n",
       "      <td>0.594051</td>\n",
       "      <td>0.592574</td>\n",
       "      <td>0.144676</td>\n",
       "      <td>0.144317</td>\n",
       "      <td>0.676005</td>\n",
       "      <td>0.620366</td>\n",
       "      <td>4.106069</td>\n",
       "      <td>0.812751</td>\n",
       "      <td>0.806219</td>\n",
       "    </tr>\n",
       "    <tr>\n",
       "      <th>2</th>\n",
       "      <td>304.005</td>\n",
       "      <td>60.75801</td>\n",
       "      <td>60.320764</td>\n",
       "      <td>0.607580</td>\n",
       "      <td>0.603208</td>\n",
       "      <td>0.148958</td>\n",
       "      <td>0.147886</td>\n",
       "      <td>0.672101</td>\n",
       "      <td>0.736523</td>\n",
       "      <td>4.078880</td>\n",
       "      <td>0.875016</td>\n",
       "      <td>0.854408</td>\n",
       "    </tr>\n",
       "    <tr>\n",
       "      <th>3</th>\n",
       "      <td>306.016</td>\n",
       "      <td>62.07649</td>\n",
       "      <td>61.649170</td>\n",
       "      <td>0.620765</td>\n",
       "      <td>0.616492</td>\n",
       "      <td>0.153197</td>\n",
       "      <td>0.152142</td>\n",
       "      <td>0.655634</td>\n",
       "      <td>0.852681</td>\n",
       "      <td>4.052076</td>\n",
       "      <td>0.940122</td>\n",
       "      <td>0.918519</td>\n",
       "    </tr>\n",
       "    <tr>\n",
       "      <th>4</th>\n",
       "      <td>307.991</td>\n",
       "      <td>63.10497</td>\n",
       "      <td>63.242652</td>\n",
       "      <td>0.631050</td>\n",
       "      <td>0.632427</td>\n",
       "      <td>0.156740</td>\n",
       "      <td>0.157082</td>\n",
       "      <td>0.520749</td>\n",
       "      <td>0.968839</td>\n",
       "      <td>4.026092</td>\n",
       "      <td>0.994195</td>\n",
       "      <td>1.001665</td>\n",
       "    </tr>\n",
       "  </tbody>\n",
       "</table>\n",
       "</div>"
      ],
      "text/plain": [
       "   Wavelength (nm)   EQE (%)  EQE (%) smoothed  EQE (%) dec   \n",
       "0          300.017  58.06996         58.459183     0.580700  \\\n",
       "1          301.992  59.40507         59.257436     0.594051   \n",
       "2          304.005  60.75801         60.320764     0.607580   \n",
       "3          306.016  62.07649         61.649170     0.620765   \n",
       "4          307.991  63.10497         63.242652     0.631050   \n",
       "\n",
       "   EQE (%) smoothed dec  RE (A/W)  RE (A/W) smoothed  dEQE (a. u.)   \n",
       "0              0.584592  0.140500           0.141442      0.676005  \\\n",
       "1              0.592574  0.144676           0.144317      0.676005   \n",
       "2              0.603208  0.148958           0.147886      0.672101   \n",
       "3              0.616492  0.153197           0.152142      0.655634   \n",
       "4              0.632427  0.156740           0.157082      0.520749   \n",
       "\n",
       "   dEQE smoothed (a. u.)  Energy (eV)  [ln(1-EQE)]^2  [ln(1-EQE)]^2 smoothed  \n",
       "0               0.504208     4.133099       0.755452                0.771751  \n",
       "1               0.620366     4.106069       0.812751                0.806219  \n",
       "2               0.736523     4.078880       0.875016                0.854408  \n",
       "3               0.852681     4.052076       0.940122                0.918519  \n",
       "4               0.968839     4.026092       0.994195                1.001665  "
      ]
     },
     "execution_count": 22,
     "metadata": {},
     "output_type": "execute_result"
    }
   ],
   "source": [
    "# Creating the contents of each column\n",
    "ln_1_EQE_2 = np.log(1-df[\"EQE (%) dec\"]) ** 2\n",
    "s_ln_1_EQE_2 = np.log(1-df[\"EQE (%) smoothed dec\"]) ** 2\n",
    "\n",
    "# Adding these contents to df\n",
    "df[\"[ln(1-EQE)]^2\"] = ln_1_EQE_2\n",
    "df[\"[ln(1-EQE)]^2 smoothed\"] = s_ln_1_EQE_2\n",
    "\n",
    "df.head()"
   ]
  },
  {
   "attachments": {},
   "cell_type": "markdown",
   "metadata": {},
   "source": [
    "Let's plot hese three new columns:"
   ]
  },
  {
   "cell_type": "code",
   "execution_count": 23,
   "metadata": {},
   "outputs": [
    {
     "data": {
      "image/png": "[encoded data removed]",
      "text/plain": [
       "<Figure size 1000x1000 with 1 Axes>"
      ]
     },
     "metadata": {},
     "output_type": "display_data"
    }
   ],
   "source": [
    "fig4, ax = plt.subplots(figsize=(10, 10))\n",
    "log_eqe = [\"[ln(1-EQE)]^2\", \"[ln(1-EQE)]^2 smoothed\"]\n",
    "for log in log_eqe:\n",
    "    if log == log_eqe[0]:\n",
    "        label = \"Not smoothed\"\n",
    "    else:\n",
    "        label = \"Smoothed\"\n",
    "    sns.lineplot(data=df, x=\"Energy (eV)\", y=log, label=label)\n",
    "ax.set(title=\"Fig. 4: Plot of [ln(1-EQE)]^2 vs. hv of a Si solar cell\")\n",
    "plt.show()"
   ]
  },
  {
   "attachments": {},
   "cell_type": "markdown",
   "metadata": {},
   "source": [
    "From fig. 4 and considered the smoothed curve, we can see a linear behaviour around $1$ $eV$ and $1.5$ $eV$. To select a more accurate range of energies, we will use Plotly:"
   ]
  },
  {
   "cell_type": "code",
   "execution_count": 24,
   "metadata": {},
   "outputs": [
    {
     "data": {
      "application/vnd.plotly.v1+json": {
       "config": {
        "plotlyServerURL": "https://plot.ly"
       },
       "data": [
        {
         "hovertemplate": "variable=[ln(1-EQE)]^2<br>Energy (eV)=%{x}<br>value=%{y}<extra></extra>",
         "legendgroup": "[ln(1-EQE)]^2",
         "line": {
          "color": "#636efa",
          "dash": "solid"
         },
         "marker": {
          "symbol": "circle"
         },
         "mode": "markers+lines",
         "name": "Not smoothed",
         "orientation": "v",
         "showlegend": true,
         "type": "scatter",
         "x": [
          4.133099124382952,
          4.1060690349413225,
          4.078880281574317,
          4.052075708459689,
          4.026091671509882,
          3.999974193714879,
          3.974206120277425,
          3.9492332436262876,
          3.9241251416166127,
          3.899334283009909,
          3.874854692949014,
          3.8511469585256317,
          3.827278619710485,
          3.8037159851164275,
          3.780453227561943,
          3.757473281031729,
          3.734782268217605,
          3.7127749399668244,
          3.6906189822820523,
          3.6687475960827243,
          3.6471231845267855,
          3.6257734008584896,
          3.60466164145826,
          3.5838150289017343,
          3.5632081517007137,
          3.542836898074868,
          3.522707257345129,
          3.5028149637995374,
          3.4831460674157304,
          3.463706501153638,
          3.444482716474628,
          3.4254806032160845,
          3.406686996895519,
          3.38810774182619,
          3.3697300411433164,
          3.35123360530576,
          3.3332616502870906,
          3.315490291495767,
          3.2979161956940914,
          3.2805361030934925,
          3.2630205043998144,
          3.246013816500745,
          3.229183485330653,
          3.2125351047182815,
          3.195760977696681,
          3.179462722081625,
          3.163337933779092,
          3.147080321611305,
          3.1312894094236663,
          3.1156640007638403,
          3.0999070027899163,
          3.0846001338318443,
          3.0691701854867857,
          3.0541721469352368,
          3.0393274262534162,
          3.02436073794402,
          3.0098110129955873,
          2.995140143573492,
          2.9808767143046024,
          2.966500080143349,
          2.9522614560839204,
          2.938416477881307,
          2.9244593287894154,
          2.910880118688789,
          2.897189492547915,
          2.88363375060754,
          2.870450105095512,
          2.8571494404364985,
          2.8439714685442996,
          2.831160113520388,
          2.8182330587828868,
          2.8054298642533935,
          2.792748762969953,
          2.7801817880156228,
          2.767962177136186,
          2.755622915226817,
          2.743405318223955,
          2.731295581248334,
          2.719298245614035,
          2.7074117580272574,
          2.6956287336631855,
          2.683953636865402,
          2.672384995851338,
          2.6609213654818413,
          2.6495556652414622,
          2.6382978723404253,
          2.6271353419619192,
          2.6160668700447682,
          2.605102218748753,
          2.594229095534579,
          2.583257988308674,
          2.572576746810731,
          2.561988764439596,
          2.5514875789880884,
          2.540889885209152,
          2.5305760938109048,
          2.5203405711823446,
          2.5101976780671476,
          2.499959678069709,
          2.489984839205213,
          2.4799156828667828,
          2.470109680837925,
          2.4603858043675815,
          2.4505638273063957,
          2.441002543367166,
          2.4313439449731966,
          2.42194122495537,
          2.41244197493395,
          2.4030216058773255,
          2.3938408790801473,
          2.3845741131403493,
          2.3755426390746113,
          2.3664257619795537,
          2.3573785950023574,
          2.34840478923067,
          2.3396623716251788,
          2.3308314489312947,
          2.322071287588529,
          2.313381043707977,
          2.3047556029723912,
          2.296355831447482,
          2.287865089761804,
          2.279445285960088,
          2.2710872280647774,
          2.262794368561757,
          2.254570049855089,
          2.246405298617917,
          2.238303510345836,
          2.230263962531565,
          2.222285943682973,
          2.2142264046498754,
          2.206370360617001,
          2.1985737639228233,
          2.19083594525737,
          2.1831524016437025,
          2.175396615153041,
          2.167828377922416,
          2.160320145508015,
          2.152732929175087,
          2.1453361430316367,
          2.137990013517614,
          2.1305695493501764,
          2.1233349372503154,
          2.1160229008284914,
          2.108893749170899,
          2.1016877908888447,
          2.094534447490528,
          2.087559659593094,
          2.0805089864565574,
          2.073634077165944,
          2.066687333540002,
          2.0597869781596136,
          2.0529393455759157,
          2.0462586470929924,
          2.0395038742349807,
          2.0328002150833777,
          2.026143790849673,
          2.0195341065108803,
          2.0129706739393347,
          2.0064530117830572,
          1.9999806453485935,
          1.9935531064862824,
          1.9871699334778838,
          1.9808338351978196,
          1.9745380138376898,
          1.9682883351931542,
          1.961972541877829,
          1.9558081983063331,
          1.949685534591195,
          1.9436041317262025,
          1.9374576181146037,
          1.9314611659483396,
          1.9255017174233058,
          1.9194808733018784,
          1.9136038716527366,
          1.9076629590313996,
          1.9018638265500192,
          1.8960012721556923,
          1.890281362283094,
          1.884498480243161,
          1.8787537196293402,
          1.873145736780727,
          1.8674755044442903,
          1.8618450884826865,
          1.856251300498643,
          1.8507877042023329,
          1.8452683005227764,
          1.8397817188012338,
          1.8343330941796907,
          1.8289193446569008,
          1.8235401384714027,
          1.8181978140570152,
          1.8128867004292448,
          1.8076117949585122,
          1.802281048288051,
          1.7970754047042796,
          1.7918997460993664,
          1.7867589633339769,
          1.7816527127817778,
          1.7764890273149516,
          1.7714437552321876,
          1.766346540097491,
          1.7613686402518187,
          1.756334134070616,
          1.7514173768852452,
          1.7464468960427484,
          1.7415926021640693,
          1.7366849485437057,
          1.731807294539919,
          1.7270435521386092,
          1.722224614200853,
          1.7174372512139788,
          1.7126811609215882,
          1.7079536924168233,
          1.7033341392118506,
          1.6986650410624875,
          1.6940237846403956,
          1.689410123381436,
          1.6847482727933534,
          1.680191758659424,
          1.6756643536192324,
          1.6711635341335151,
          1.666689068401457,
          1.662167197934623,
          1.657747361975821,
          1.6533553780717076,
          1.6489142431616601,
          1.6445754210245704,
          1.6401877750456013,
          1.6358990122600077,
          1.631563919806002,
          1.6273286219545005,
          1.6230451468332294,
          1.6187862758255158,
          1.6145560036093138,
          1.6104188907330783,
          1.6062363421335224,
          1.6020775328005994,
          1.5979443219496983,
          1.5938364800892548,
          1.5897517423166274,
          1.5856919435340213,
          1.5816548446470549,
          1.5775760289866874,
          1.573586088483761,
          1.5696202531645569,
          1.5656763342971503,
          1.5616912108270542,
          1.557792858776027,
          1.553853556820916,
          1.5500019375024219,
          1.546107673930879,
          1.5423000669159221,
          1.538450085979509,
          1.5346230767707572,
          1.5308812073220568,
          1.5270973573826536,
          1.523335909081416,
          1.5195948073974856,
          1.5158757421984355,
          1.512178524869849,
          1.5085011338089167,
          1.5048452375895778,
          1.5012106537530265,
          1.4975972019087116,
          1.4940029036669338,
          1.4903702849011067,
          1.4868158998173855,
          1.4832252014315517,
          1.4797118380526992,
          1.4762168372054263,
          1.4726858345437464,
          1.4691751647786582,
          1.4657383657017222,
          1.4622658753135322,
          1.4588132319065983,
          1.4553802709119954,
          1.4519651294181015,
          1.4486235155989884,
          1.4452467117723502,
          1.4418353168258693,
          1.4384950557532843,
          1.4351735576216398,
          1.4318706697459584,
          1.4285862411015782,
          1.4252676974570466,
          1.4220183486238531,
          1.4187870286251725,
          1.4155234982608467,
          1.41227655563971,
          1.4090973140787004,
          1.4058861277587682,
          1.4026927175361477,
          1.399565908831825,
          1.3964074041124197,
          1.3932646888300622,
          1.390139204504051,
          1.3870323659528296,
          1.3839409280440005,
          1.3808663154366378,
          1.3777594076523425,
          1.3747182659037718,
          1.3716935548102196,
          1.3686368046304074,
          1.3656447825761346,
          1.3626208913958184,
          1.3596610496583303,
          1.3566695076493185,
          1.3536940564097415,
          1.3507816559493762,
          1.3478378072852808,
          1.3449111382503574,
          1.3419986038885492,
          1.3391029953790146,
          1.3362212954880979,
          1.3333118283038445,
          1.3304606827409207,
          1.3276259692204908,
          1.3248061402627818,
          1.3219573924603651,
          1.319167179971638,
          1.316348195329087,
          1.3135440159065943,
          1.3107988684845895,
          1.3080237764967115,
          1.3052645318574019,
          1.302519640210462,
          1.2997889939318723,
          1.2970724864774963,
          1.2943713634949696,
          1.2916841582229759,
          1.2889692300175986,
          1.2863097226342792,
          1.2836638250076347,
          1.28099173553719,
          1.2783347010140083,
          1.2757306644499131,
          1.2730993089329476,
          1.2704826912102065,
          1.2678806965163956,
          1.2652919201927326,
          1.2627162656184765,
          1.2601536371184352,
          1.2576052154105322,
          1.2550696209386099,
          1.2525088054399285,
          1.25,
          1.2475037349658193,
          1.244982419643413,
          1.242475010220359,
          1.2400173602430433,
          1.2375360656932048,
          1.235067141835509,
          1.2326105000521872,
          1.2301672729870148,
          1.2277373592557534,
          1.2252831243929168,
          1.2228772724314154,
          1.2204844535871415,
          1.2180686735330377,
          1.2157005768695317,
          1.2133084278947435,
          1.2109304047046598,
          1.2085640407364053,
          1.2062092539595766,
          1.2038671319030616,
          1.2015375805102853,
          1.1992193468896697,
          1.196913507555034,
          1.1946188202561108,
          1.1923031065265135,
          1.190031756573246,
          1.1877394636015326,
          1.1854593846318575,
          1.1831903008929272,
          1.1809670024486016,
          1.1787206698175263,
          1.1764549616988011,
          1.1742324165797828,
          1.172022684310019,
          1.1698223568146868,
          1.1676027890640814,
          1.165425582407337,
          1.1632291993043138,
          1.1610432535428203,
          1.158868757178678,
          1.156704548740638,
          1.1545527085899652,
          1.1524120728175733,
          1.1502814942898727,
          1.1481619686162887,
          1.1460237596603333,
          1.1439262130691723,
          1.1418100451659539,
          1.1397037873092146,
          1.1376094605070617,
          1.135524896383353,
          1.1334521020509085,
          1.1313889258922005,
          1.1293373613032553,
          1.127266578545935
         ],
         "xaxis": "x",
         "y": [
          0.7554524400246888,
          0.8127509389871178,
          0.8750158877587844,
          0.9401221230534935,
          0.9941951134363374,
          1.0703651351150165,
          1.2282092954522146,
          1.435511304375776,
          1.6668373382606532,
          1.9366054330785643,
          2.1994562688329093,
          2.1350645993486603,
          2.039871604313403,
          1.9397344909480865,
          1.8126305517489822,
          1.6788337837051566,
          1.4154740101677847,
          1.1807773489106992,
          0.9762580491822115,
          0.8068591477298475,
          0.6994876771441311,
          0.695892406040842,
          0.7304779163838212,
          0.7640686776802136,
          0.8270445367999685,
          0.8555154575206239,
          0.9139674574932436,
          0.9707237841588224,
          1.0525652203625713,
          1.1804907074945967,
          1.2146780800799564,
          1.2626331794394117,
          1.2944674294607348,
          1.263171830939123,
          1.2675675859827422,
          1.2793487583449354,
          1.327028384654238,
          1.3616456523619855,
          1.3727119810084134,
          1.4180068680584146,
          1.4469693231912422,
          1.495233848052035,
          1.5200809662727672,
          1.5733851963857477,
          1.644803247440263,
          1.7076891972842727,
          1.780349909957267,
          1.8387125950705174,
          1.96694856744215,
          2.021210294298312,
          2.1062933091409777,
          2.154756352882611,
          2.1964671023585467,
          2.3026505433927964,
          2.368426189952404,
          2.489494760163754,
          2.531990060066612,
          2.624973087396521,
          2.6751526892097197,
          2.768526000039982,
          2.784571127299389,
          3.0151936454630235,
          2.9130061475192894,
          3.0543526123620874,
          3.0542783638486766,
          3.197241654807958,
          3.654045117595794,
          3.359303371865641,
          3.3856770713365743,
          3.4098749719092436,
          3.523334147835973,
          3.574323104044092,
          3.5951365113959093,
          3.534304043136862,
          3.7164784677564398,
          3.5162747272579904,
          3.6006912337928427,
          3.682135856659827,
          3.583976226935563,
          3.76149351451703,
          4.033931812447281,
          3.9594049638606497,
          4.049124144940003,
          4.073470222101649,
          4.212160713424744,
          3.97133410686136,
          4.230895215237541,
          4.125442500093282,
          4.361913372852171,
          4.542465037536485,
          4.473077364695942,
          4.5745712444314215,
          4.4656780654055295,
          4.505861682020644,
          4.71281454718157,
          5.19155994355385,
          5.015627161159567,
          5.00087991040769,
          5.233649851603443,
          5.067949399223425,
          5.046540012718633,
          5.314448658357879,
          5.015665011183147,
          5.0902218030046935,
          4.912819647972663,
          5.176988938165742,
          5.0882796906700545,
          5.199216248900802,
          5.182094244225075,
          5.397809100484191,
          5.468981660161191,
          5.430564643891934,
          5.43128351806562,
          5.611870059982541,
          5.614655828268607,
          5.70843384910309,
          5.791626694870962,
          5.623535156979019,
          6.250548170472285,
          6.008102534107519,
          5.846704387644435,
          5.860790818021464,
          6.169000759880724,
          5.811981949013095,
          6.52120627545939,
          6.044808429844734,
          6.446219056924007,
          6.889085748657594,
          6.626963005612469,
          6.488266944598836,
          7.166340869718441,
          6.655923623828995,
          6.862159557995198,
          6.462915518429036,
          6.781173459746385,
          6.9141616273707935,
          6.8790292575663,
          6.702514039825002,
          6.693561921883316,
          6.719443868793353,
          6.739025756030388,
          6.97739679438404,
          7.23990134421052,
          6.799311644926372,
          6.5319887420275204,
          6.562003776031356,
          6.826006653368145,
          6.485470314582635,
          6.2563404366465605,
          6.29079945727109,
          6.250609092811441,
          6.656127894968716,
          6.480013292473082,
          7.057860479800512,
          6.747808298090176,
          6.625949750918334,
          6.895321101066696,
          6.546899541424841,
          6.744390420367345,
          6.662943360579281,
          6.30079432346758,
          6.388852389345763,
          6.620752731979615,
          6.682916234471155,
          6.91044433773523,
          7.046143572556124,
          6.699688361645336,
          6.5165480622120215,
          6.879246023286184,
          6.800372995834439,
          6.640838628992512,
          7.0707523052528165,
          7.212784042693729,
          6.51884362545921,
          7.086965931298609,
          6.797684820398572,
          7.097124493701019,
          6.508623023182594,
          6.777373408134855,
          6.97184029098253,
          6.65258878284753,
          7.090552754956791,
          6.716466958941853,
          7.261858613111817,
          7.246968363991549,
          6.716536162501751,
          6.747250064455516,
          7.026343738579604,
          6.651092479850214,
          6.618527667051194,
          6.258843160165328,
          6.710312965801705,
          6.757940703213927,
          6.971100032437919,
          6.5554377465168425,
          7.17631905521765,
          7.076149297891041,
          6.922045526035516,
          6.724988616233682,
          6.75374466564826,
          7.126913036387026,
          6.63826264208115,
          6.749832591652174,
          6.7662066129909855,
          7.1281463522284625,
          6.740209502271496,
          7.192901758313023,
          7.1577862259565626,
          6.6761326031571455,
          7.32369085461573,
          6.541680482544758,
          6.9705079286001865,
          7.041919104908963,
          7.001717680597305,
          7.049466046900378,
          6.775685727642135,
          6.892492174092547,
          6.343053956845787,
          6.744529864624575,
          6.886189065747466,
          6.79344423292625,
          6.511633830285,
          6.698723985413051,
          6.370098001718295,
          6.596350250432575,
          6.869792097091076,
          6.535216483566522,
          6.7778657909446,
          6.507641772664775,
          6.686415656068993,
          6.804338014550604,
          6.6825047536601145,
          6.421093442016983,
          5.8839220562661625,
          6.263364710655429,
          6.2659335415527,
          6.670659889362242,
          6.460073658239204,
          6.450080163045229,
          6.7485062069743575,
          7.003284851464055,
          6.140949423284188,
          6.127095094689147,
          6.6663557808822445,
          6.862878953032316,
          5.882770011832241,
          6.312862201328302,
          6.503915414887119,
          6.1930773156686465,
          6.01020752187975,
          6.152368455655926,
          6.130568304193266,
          6.282491626097027,
          6.341866411563086,
          6.314226253290246,
          6.343804187028797,
          6.133042843907452,
          6.147808250469154,
          5.714797246058699,
          6.632777682060176,
          6.466794352405403,
          6.305987824099158,
          6.06671774994642,
          5.842744532333643,
          5.762008751148683,
          5.450512136345797,
          6.320246660867298,
          5.615872166447644,
          5.404172265111203,
          6.263792721036153,
          5.759732982773267,
          5.878658719228021,
          5.6865150522994,
          5.907375835220455,
          5.90610546050936,
          5.7119270139323115,
          5.711405416068982,
          5.63789346430545,
          5.735377741313264,
          5.897501356572181,
          5.447572446648315,
          5.813325385509448,
          5.645504937149466,
          5.431666982422872,
          5.127749355586303,
          5.630452022334114,
          5.487750947092699,
          5.568161780017644,
          5.3286268200775515,
          4.999130853211598,
          4.966719030939743,
          5.136882610951264,
          5.050637438231143,
          4.966719030939743,
          4.877891321280193,
          4.95837287802438,
          4.927721818787267,
          5.0158963269361,
          4.547673964776664,
          4.540135013073434,
          4.62944665255593,
          4.889667265417482,
          4.5457604222107,
          4.528934705193862,
          4.578034111179488,
          4.734680843033086,
          4.96299580761912,
          4.70360663562151,
          4.475915374711275,
          4.305619298161257,
          4.199158060435316,
          4.221092025460206,
          4.533983274740927,
          4.36334013314402,
          4.419978552396502,
          4.184504202570514,
          4.1744828827102065,
          4.141909723640142,
          4.023857146938679,
          3.717401026963853,
          3.805609602844337,
          3.766535220579014,
          3.7680656275389315,
          3.5184158762643776,
          3.662725118443801,
          3.3770680196489202,
          3.2883074353272272,
          3.2689185245769,
          3.3544294764255778,
          3.293895287084226,
          3.3959132199470425,
          3.3795374521032566,
          3.2513371402588267,
          3.1263398444592436,
          2.943382085828107,
          2.8800553232376163,
          2.8087299705265663,
          2.733998468880311,
          2.715251406823811,
          2.6209925950143136,
          2.505465062206604,
          2.388434584026107,
          2.5405368374735806,
          2.3900719776487045,
          2.4321391376727677,
          2.3270713304191144,
          2.1203491846823352,
          2.033564730673385,
          1.9583653523618836,
          2.0050747794239903,
          1.9291472428086933,
          1.857568188424381,
          1.7473455096330621,
          1.7078514146547383,
          1.6668861683712872,
          1.5738777663698182,
          1.5395958240269034,
          1.4399730030440578,
          1.3839858979979183,
          1.3612911343489376,
          1.3566907395246166,
          1.2880874424148476,
          1.2048575682397074,
          1.1566312003723414,
          1.0964813146684302,
          1.0627195432721175,
          0.9856820180209035,
          0.9354130389382637,
          0.8938275408724826,
          0.8354841998937557,
          0.8041406033209197,
          0.7462095282126353,
          0.6910760707806934,
          0.6300038280944746,
          0.5905710670343299,
          0.5493006783367667,
          0.5024686494471213,
          0.44454864289584534,
          0.4093731390643607,
          0.3777104221310746,
          0.34011817601071226,
          0.3085510073153603,
          0.27941185058494233,
          0.25674301876309813,
          0.22932577216473252,
          0.2022602240812439,
          0.18660480544486788,
          0.1677116617669443,
          0.15461760740835997,
          0.13786698345611956,
          0.13266840871419436,
          0.1298499339389876,
          0.11020292218990112,
          0.09449960880422778,
          0.08530078895806426,
          0.07640466093317379,
          0.06308508963134742,
          0.05264598416596359,
          0.04375786986843332,
          0.03684072564617561,
          0.03112925191005775
         ],
         "yaxis": "y"
        },
        {
         "hovertemplate": "variable=[ln(1-EQE)]^2 smoothed<br>Energy (eV)=%{x}<br>value=%{y}<extra></extra>",
         "legendgroup": "[ln(1-EQE)]^2 smoothed",
         "line": {
          "color": "#EF553B",
          "dash": "solid"
         },
         "marker": {
          "symbol": "circle"
         },
         "mode": "markers+lines",
         "name": "Smoothed",
         "orientation": "v",
         "showlegend": true,
         "type": "scatter",
         "x": [
          4.133099124382952,
          4.1060690349413225,
          4.078880281574317,
          4.052075708459689,
          4.026091671509882,
          3.999974193714879,
          3.974206120277425,
          3.9492332436262876,
          3.9241251416166127,
          3.899334283009909,
          3.874854692949014,
          3.8511469585256317,
          3.827278619710485,
          3.8037159851164275,
          3.780453227561943,
          3.757473281031729,
          3.734782268217605,
          3.7127749399668244,
          3.6906189822820523,
          3.6687475960827243,
          3.6471231845267855,
          3.6257734008584896,
          3.60466164145826,
          3.5838150289017343,
          3.5632081517007137,
          3.542836898074868,
          3.522707257345129,
          3.5028149637995374,
          3.4831460674157304,
          3.463706501153638,
          3.444482716474628,
          3.4254806032160845,
          3.406686996895519,
          3.38810774182619,
          3.3697300411433164,
          3.35123360530576,
          3.3332616502870906,
          3.315490291495767,
          3.2979161956940914,
          3.2805361030934925,
          3.2630205043998144,
          3.246013816500745,
          3.229183485330653,
          3.2125351047182815,
          3.195760977696681,
          3.179462722081625,
          3.163337933779092,
          3.147080321611305,
          3.1312894094236663,
          3.1156640007638403,
          3.0999070027899163,
          3.0846001338318443,
          3.0691701854867857,
          3.0541721469352368,
          3.0393274262534162,
          3.02436073794402,
          3.0098110129955873,
          2.995140143573492,
          2.9808767143046024,
          2.966500080143349,
          2.9522614560839204,
          2.938416477881307,
          2.9244593287894154,
          2.910880118688789,
          2.897189492547915,
          2.88363375060754,
          2.870450105095512,
          2.8571494404364985,
          2.8439714685442996,
          2.831160113520388,
          2.8182330587828868,
          2.8054298642533935,
          2.792748762969953,
          2.7801817880156228,
          2.767962177136186,
          2.755622915226817,
          2.743405318223955,
          2.731295581248334,
          2.719298245614035,
          2.7074117580272574,
          2.6956287336631855,
          2.683953636865402,
          2.672384995851338,
          2.6609213654818413,
          2.6495556652414622,
          2.6382978723404253,
          2.6271353419619192,
          2.6160668700447682,
          2.605102218748753,
          2.594229095534579,
          2.583257988308674,
          2.572576746810731,
          2.561988764439596,
          2.5514875789880884,
          2.540889885209152,
          2.5305760938109048,
          2.5203405711823446,
          2.5101976780671476,
          2.499959678069709,
          2.489984839205213,
          2.4799156828667828,
          2.470109680837925,
          2.4603858043675815,
          2.4505638273063957,
          2.441002543367166,
          2.4313439449731966,
          2.42194122495537,
          2.41244197493395,
          2.4030216058773255,
          2.3938408790801473,
          2.3845741131403493,
          2.3755426390746113,
          2.3664257619795537,
          2.3573785950023574,
          2.34840478923067,
          2.3396623716251788,
          2.3308314489312947,
          2.322071287588529,
          2.313381043707977,
          2.3047556029723912,
          2.296355831447482,
          2.287865089761804,
          2.279445285960088,
          2.2710872280647774,
          2.262794368561757,
          2.254570049855089,
          2.246405298617917,
          2.238303510345836,
          2.230263962531565,
          2.222285943682973,
          2.2142264046498754,
          2.206370360617001,
          2.1985737639228233,
          2.19083594525737,
          2.1831524016437025,
          2.175396615153041,
          2.167828377922416,
          2.160320145508015,
          2.152732929175087,
          2.1453361430316367,
          2.137990013517614,
          2.1305695493501764,
          2.1233349372503154,
          2.1160229008284914,
          2.108893749170899,
          2.1016877908888447,
          2.094534447490528,
          2.087559659593094,
          2.0805089864565574,
          2.073634077165944,
          2.066687333540002,
          2.0597869781596136,
          2.0529393455759157,
          2.0462586470929924,
          2.0395038742349807,
          2.0328002150833777,
          2.026143790849673,
          2.0195341065108803,
          2.0129706739393347,
          2.0064530117830572,
          1.9999806453485935,
          1.9935531064862824,
          1.9871699334778838,
          1.9808338351978196,
          1.9745380138376898,
          1.9682883351931542,
          1.961972541877829,
          1.9558081983063331,
          1.949685534591195,
          1.9436041317262025,
          1.9374576181146037,
          1.9314611659483396,
          1.9255017174233058,
          1.9194808733018784,
          1.9136038716527366,
          1.9076629590313996,
          1.9018638265500192,
          1.8960012721556923,
          1.890281362283094,
          1.884498480243161,
          1.8787537196293402,
          1.873145736780727,
          1.8674755044442903,
          1.8618450884826865,
          1.856251300498643,
          1.8507877042023329,
          1.8452683005227764,
          1.8397817188012338,
          1.8343330941796907,
          1.8289193446569008,
          1.8235401384714027,
          1.8181978140570152,
          1.8128867004292448,
          1.8076117949585122,
          1.802281048288051,
          1.7970754047042796,
          1.7918997460993664,
          1.7867589633339769,
          1.7816527127817778,
          1.7764890273149516,
          1.7714437552321876,
          1.766346540097491,
          1.7613686402518187,
          1.756334134070616,
          1.7514173768852452,
          1.7464468960427484,
          1.7415926021640693,
          1.7366849485437057,
          1.731807294539919,
          1.7270435521386092,
          1.722224614200853,
          1.7174372512139788,
          1.7126811609215882,
          1.7079536924168233,
          1.7033341392118506,
          1.6986650410624875,
          1.6940237846403956,
          1.689410123381436,
          1.6847482727933534,
          1.680191758659424,
          1.6756643536192324,
          1.6711635341335151,
          1.666689068401457,
          1.662167197934623,
          1.657747361975821,
          1.6533553780717076,
          1.6489142431616601,
          1.6445754210245704,
          1.6401877750456013,
          1.6358990122600077,
          1.631563919806002,
          1.6273286219545005,
          1.6230451468332294,
          1.6187862758255158,
          1.6145560036093138,
          1.6104188907330783,
          1.6062363421335224,
          1.6020775328005994,
          1.5979443219496983,
          1.5938364800892548,
          1.5897517423166274,
          1.5856919435340213,
          1.5816548446470549,
          1.5775760289866874,
          1.573586088483761,
          1.5696202531645569,
          1.5656763342971503,
          1.5616912108270542,
          1.557792858776027,
          1.553853556820916,
          1.5500019375024219,
          1.546107673930879,
          1.5423000669159221,
          1.538450085979509,
          1.5346230767707572,
          1.5308812073220568,
          1.5270973573826536,
          1.523335909081416,
          1.5195948073974856,
          1.5158757421984355,
          1.512178524869849,
          1.5085011338089167,
          1.5048452375895778,
          1.5012106537530265,
          1.4975972019087116,
          1.4940029036669338,
          1.4903702849011067,
          1.4868158998173855,
          1.4832252014315517,
          1.4797118380526992,
          1.4762168372054263,
          1.4726858345437464,
          1.4691751647786582,
          1.4657383657017222,
          1.4622658753135322,
          1.4588132319065983,
          1.4553802709119954,
          1.4519651294181015,
          1.4486235155989884,
          1.4452467117723502,
          1.4418353168258693,
          1.4384950557532843,
          1.4351735576216398,
          1.4318706697459584,
          1.4285862411015782,
          1.4252676974570466,
          1.4220183486238531,
          1.4187870286251725,
          1.4155234982608467,
          1.41227655563971,
          1.4090973140787004,
          1.4058861277587682,
          1.4026927175361477,
          1.399565908831825,
          1.3964074041124197,
          1.3932646888300622,
          1.390139204504051,
          1.3870323659528296,
          1.3839409280440005,
          1.3808663154366378,
          1.3777594076523425,
          1.3747182659037718,
          1.3716935548102196,
          1.3686368046304074,
          1.3656447825761346,
          1.3626208913958184,
          1.3596610496583303,
          1.3566695076493185,
          1.3536940564097415,
          1.3507816559493762,
          1.3478378072852808,
          1.3449111382503574,
          1.3419986038885492,
          1.3391029953790146,
          1.3362212954880979,
          1.3333118283038445,
          1.3304606827409207,
          1.3276259692204908,
          1.3248061402627818,
          1.3219573924603651,
          1.319167179971638,
          1.316348195329087,
          1.3135440159065943,
          1.3107988684845895,
          1.3080237764967115,
          1.3052645318574019,
          1.302519640210462,
          1.2997889939318723,
          1.2970724864774963,
          1.2943713634949696,
          1.2916841582229759,
          1.2889692300175986,
          1.2863097226342792,
          1.2836638250076347,
          1.28099173553719,
          1.2783347010140083,
          1.2757306644499131,
          1.2730993089329476,
          1.2704826912102065,
          1.2678806965163956,
          1.2652919201927326,
          1.2627162656184765,
          1.2601536371184352,
          1.2576052154105322,
          1.2550696209386099,
          1.2525088054399285,
          1.25,
          1.2475037349658193,
          1.244982419643413,
          1.242475010220359,
          1.2400173602430433,
          1.2375360656932048,
          1.235067141835509,
          1.2326105000521872,
          1.2301672729870148,
          1.2277373592557534,
          1.2252831243929168,
          1.2228772724314154,
          1.2204844535871415,
          1.2180686735330377,
          1.2157005768695317,
          1.2133084278947435,
          1.2109304047046598,
          1.2085640407364053,
          1.2062092539595766,
          1.2038671319030616,
          1.2015375805102853,
          1.1992193468896697,
          1.196913507555034,
          1.1946188202561108,
          1.1923031065265135,
          1.190031756573246,
          1.1877394636015326,
          1.1854593846318575,
          1.1831903008929272,
          1.1809670024486016,
          1.1787206698175263,
          1.1764549616988011,
          1.1742324165797828,
          1.172022684310019,
          1.1698223568146868,
          1.1676027890640814,
          1.165425582407337,
          1.1632291993043138,
          1.1610432535428203,
          1.158868757178678,
          1.156704548740638,
          1.1545527085899652,
          1.1524120728175733,
          1.1502814942898727,
          1.1481619686162887,
          1.1460237596603333,
          1.1439262130691723,
          1.1418100451659539,
          1.1397037873092146,
          1.1376094605070617,
          1.135524896383353,
          1.1334521020509085,
          1.1313889258922005,
          1.1293373613032553,
          1.127266578545935
         ],
         "xaxis": "x",
         "y": [
          0.7717512000655383,
          0.8062187192407034,
          0.8544084416081777,
          0.9185190801368346,
          1.0016647584563667,
          1.171992898160265,
          1.3457286595150433,
          1.560674638321032,
          1.7906330416606566,
          1.988179376477659,
          2.0995305827248676,
          2.1275264657110036,
          2.0600107688522376,
          1.909436591881161,
          1.713205937726305,
          1.5040736185199184,
          1.272014873275161,
          1.0585495817094783,
          0.8934607344235136,
          0.7804113588234138,
          0.725827182802091,
          0.7114928048478544,
          0.7316684621840325,
          0.7758184502750471,
          0.8291395185805669,
          0.8893077147713198,
          0.9549420625337411,
          1.0274948685038368,
          1.1045691065022643,
          1.178638666350381,
          1.2334862413327725,
          1.265480364185705,
          1.277653648262253,
          1.28151081943758,
          1.292153444873671,
          1.3061860864702464,
          1.3284349591386524,
          1.3646879467084954,
          1.3989649145105456,
          1.4319801773582161,
          1.4654989413872928,
          1.5064776387085659,
          1.5573734244446902,
          1.606803193530131,
          1.670913123653678,
          1.7411087046687337,
          1.8225888496391227,
          1.9043751027809563,
          1.9784902068786272,
          2.0536628926012868,
          2.122155003309497,
          2.195303668856539,
          2.2603775883834145,
          2.3393317607983057,
          2.4158194684362986,
          2.503580951652114,
          2.572388674070255,
          2.656740874425757,
          2.728710694360092,
          2.8011984317591017,
          2.8688892123318697,
          2.9069256447021843,
          3.014336725419919,
          3.11760184553118,
          3.2183935574716536,
          3.284683007681197,
          3.3769875290062825,
          3.4329203778035295,
          3.4899902781926184,
          3.48632296727928,
          3.498947031863793,
          3.564832888229495,
          3.5847651380181476,
          3.608716859115088,
          3.595208836349151,
          3.580952975398161,
          3.6178198350436146,
          3.673903551024784,
          3.7367534616258697,
          3.8383766573426956,
          3.945565449832621,
          4.008558642696414,
          4.088642115663865,
          4.089261715112011,
          4.085314109373117,
          4.150560496481945,
          4.20586195049499,
          4.293969124015615,
          4.373168761138008,
          4.456075941519863,
          4.457845884279729,
          4.549051677791055,
          4.618810380121453,
          4.694124082458058,
          4.836678251111916,
          4.96296461880786,
          5.059762445840279,
          5.146258784840271,
          5.1456890352837386,
          5.127233700653399,
          5.117467383927892,
          5.1031197899498695,
          5.062833952668937,
          5.0756929391152035,
          5.062019088050476,
          5.064394392188644,
          5.15493803835569,
          5.2291941410698906,
          5.304921676434647,
          5.351776011007235,
          5.428176214423148,
          5.483264698517463,
          5.565627080794001,
          5.557287331147717,
          5.640022866479333,
          5.75859534097379,
          5.846342792883197,
          5.867784137184646,
          5.94966842814169,
          5.925044189787048,
          5.990847757762774,
          6.010921088551014,
          5.97138560499488,
          6.117131569947394,
          6.289485846653952,
          6.367923391271351,
          6.513762112893215,
          6.661025248439996,
          6.73144776562133,
          6.810189602027322,
          6.750501633924681,
          6.7189062920723766,
          6.777926464000867,
          6.788403704930739,
          6.73063449819682,
          6.7771927373924115,
          6.747358651834158,
          6.760071112294356,
          6.780914283367769,
          6.839671482440927,
          6.876947581972217,
          6.866988864896476,
          6.869475869922444,
          6.840340577789205,
          6.736759403117968,
          6.59373344255241,
          6.435486598377089,
          6.417411712879923,
          6.35921485664383,
          6.37660484682272,
          6.436489945005208,
          6.547409457236233,
          6.699768450515395,
          6.758979509428271,
          6.792850931354642,
          6.787391559892905,
          6.7486056695606695,
          6.607176640764111,
          6.56593115820747,
          6.511389109902138,
          6.476028400686278,
          6.575764832242344,
          6.6544217244479515,
          6.713215835318084,
          6.805995618779229,
          6.835024602955611,
          6.769341291077977,
          6.732368929340127,
          6.789778206669621,
          6.782269326266874,
          6.879308797336401,
          6.900004333321632,
          6.937735811412813,
          6.930371411057394,
          6.881393575424534,
          6.828691465047142,
          6.774394987422494,
          6.848709113215591,
          6.753855625423064,
          6.7932451309854,
          6.887247456859277,
          7.009328173006329,
          6.975044483744853,
          6.995991287481613,
          7.007459629737019,
          6.949813727873266,
          6.832599809597596,
          6.662005067072191,
          6.584785173061358,
          6.640549165021122,
          6.584642821319482,
          6.602510886588721,
          6.738432282820972,
          6.871277636307206,
          6.970589800005452,
          6.905531786768949,
          6.9412076021892535,
          6.916598510639752,
          6.907866232828528,
          6.772398683426594,
          6.798358894824586,
          6.79245633160489,
          6.832239837589494,
          6.910185720218,
          6.880832402335523,
          7.038181766621632,
          7.014765192313957,
          6.977245272817946,
          6.931101077423547,
          6.941568864367995,
          6.92004791574651,
          6.9311564718483,
          7.019276156478577,
          6.908424128026465,
          6.892777238201746,
          6.784094718324639,
          6.751632250415694,
          6.699143716777384,
          6.699117024762732,
          6.6802072968411785,
          6.624582296172995,
          6.672824925492109,
          6.589697371748265,
          6.592449786816414,
          6.603863081147624,
          6.630795188733678,
          6.650650930530845,
          6.723948350124254,
          6.747894657275386,
          6.636484220750049,
          6.557751102213627,
          6.394985584860408,
          6.343861242169323,
          6.281358100791866,
          6.244341826033707,
          6.288665661568717,
          6.503815770502795,
          6.661956474943415,
          6.582829882113746,
          6.5236287500396575,
          6.56252325703658,
          6.519544878428512,
          6.422139546740051,
          6.360520800434224,
          6.351130254164139,
          6.3846806890327015,
          6.307623940686178,
          6.172667769996076,
          6.133172142127586,
          6.207963959257725,
          6.162092947208839,
          6.194836432078562,
          6.266010787954415,
          6.3432965923416145,
          6.2210857498815795,
          6.180078147537119,
          6.166440312015452,
          6.197059621421067,
          6.242616588638662,
          6.256562024823508,
          6.276864021979647,
          6.1067566385143,
          6.062194934090636,
          5.893351437901521,
          5.730736177863946,
          5.72135902689259,
          5.736717132386161,
          5.794797518443107,
          5.808193289545127,
          5.827504331231509,
          5.791219160454699,
          5.881110855519773,
          5.881260938318611,
          5.766218979718184,
          5.765358695976858,
          5.778164896182626,
          5.738368541798035,
          5.699221079895397,
          5.709609129382096,
          5.740984195615833,
          5.640438122384869,
          5.576557339158762,
          5.495660362831824,
          5.46900414570412,
          5.508469998952908,
          5.440646449102311,
          5.37928795050778,
          5.332284194993564,
          5.2676051502014145,
          5.1328830002901,
          5.04804762746768,
          4.9830687795484145,
          4.964435384950188,
          5.016178923606026,
          4.98371759205148,
          4.892552221699554,
          4.799072833275613,
          4.771829869443337,
          4.728817921432157,
          4.661962780053439,
          4.605053040457781,
          4.569925324860989,
          4.648473900065931,
          4.697732290679382,
          4.715494753782693,
          4.697293359413531,
          4.67963735340033,
          4.5577829962114995,
          4.459209307417272,
          4.354088635559086,
          4.311113223678016,
          4.321268705588843,
          4.3378778149631705,
          4.349227088584907,
          4.347642725482665,
          4.244946858099386,
          4.106368348159689,
          4.005198148983825,
          3.9268955610149834,
          3.8385160694575635,
          3.7768603604346516,
          3.7129512973512755,
          3.6455272926192213,
          3.565963169310328,
          3.4669887499207546,
          3.3797525803038755,
          3.3262407944361585,
          3.3256373040217295,
          3.319005254062694,
          3.3553714526314646,
          3.3374597463754787,
          3.273961799092872,
          3.174772719575293,
          3.062928461747052,
          2.9453260420743543,
          2.854016753765014,
          2.782817498116118,
          2.6884754808315,
          2.6325014973463623,
          2.5623356473380627,
          2.5143577349730077,
          2.487083314946261,
          2.442933211444311,
          2.3897763271622092,
          2.307231485933057,
          2.221340597514552,
          2.1209666754055165,
          2.054077427341185,
          1.9754381928138904,
          1.9171230618589048,
          1.8754815252854784,
          1.81572726250716,
          1.7545442349332672,
          1.6793084808201022,
          1.6101831693925241,
          1.5422043487445087,
          1.4887525688210634,
          1.4385427460219204,
          1.3892533008639683,
          1.3448824246596602,
          1.2934023093519156,
          1.249234718765234,
          1.194762545926181,
          1.132490242376639,
          1.0723302388868547,
          1.017039252054457,
          0.9673885274988883,
          0.91714888296602,
          0.868939865233106,
          0.8167759628467693,
          0.7670024523514385,
          0.7160082320145423,
          0.6669588649346165,
          0.6165250140648794,
          0.5648136283477745,
          0.5184237387906045,
          0.4743934691665628,
          0.4329297304035564,
          0.3922787287822924,
          0.3562887345894195,
          0.3247955014146395,
          0.29512610016205826,
          0.2665617204015804,
          0.24000103731740288,
          0.2171018850328118,
          0.19518833885426246,
          0.17557772384971312,
          0.1610261130027111,
          0.14949286633834516,
          0.13821870324704638,
          0.12647719027275703,
          0.11578456003399865,
          0.10442889140425364,
          0.09263211236982444,
          0.07976853788831867,
          0.06772459807652685,
          0.06261227125054541,
          0.05318313037987424,
          0.04475119622889133,
          0.03724570991877962,
          0.030601551799525173
         ],
         "yaxis": "y"
        }
       ],
       "layout": {
        "legend": {
         "title": {},
         "tracegroupgap": 0
        },
        "template": {
         "data": {
          "bar": [
           {
            "error_x": {
             "color": "#2a3f5f"
            },
            "error_y": {
             "color": "#2a3f5f"
            },
            "marker": {
             "line": {
              "color": "#E5ECF6",
              "width": 0.5
             },
             "pattern": {
              "fillmode": "overlay",
              "size": 10,
              "solidity": 0.2
             }
            },
            "type": "bar"
           }
          ],
          "barpolar": [
           {
            "marker": {
             "line": {
              "color": "#E5ECF6",
              "width": 0.5
             },
             "pattern": {
              "fillmode": "overlay",
              "size": 10,
              "solidity": 0.2
             }
            },
            "type": "barpolar"
           }
          ],
          "carpet": [
           {
            "aaxis": {
             "endlinecolor": "#2a3f5f",
             "gridcolor": "white",
             "linecolor": "white",
             "minorgridcolor": "white",
             "startlinecolor": "#2a3f5f"
            },
            "baxis": {
             "endlinecolor": "#2a3f5f",
             "gridcolor": "white",
             "linecolor": "white",
             "minorgridcolor": "white",
             "startlinecolor": "#2a3f5f"
            },
            "type": "carpet"
           }
          ],
          "choropleth": [
           {
            "colorbar": {
             "outlinewidth": 0,
             "ticks": ""
            },
            "type": "choropleth"
           }
          ],
          "contour": [
           {
            "colorbar": {
             "outlinewidth": 0,
             "ticks": ""
            },
            "colorscale": [
             [
              0,
              "#0d0887"
             ],
             [
              0.1111111111111111,
              "#46039f"
             ],
             [
              0.2222222222222222,
              "#7201a8"
             ],
             [
              0.3333333333333333,
              "#9c179e"
             ],
             [
              0.4444444444444444,
              "#bd3786"
             ],
             [
              0.5555555555555556,
              "#d8576b"
             ],
             [
              0.6666666666666666,
              "#ed7953"
             ],
             [
              0.7777777777777778,
              "#fb9f3a"
             ],
             [
              0.8888888888888888,
              "#fdca26"
             ],
             [
              1,
              "#f0f921"
             ]
            ],
            "type": "contour"
           }
          ],
          "contourcarpet": [
           {
            "colorbar": {
             "outlinewidth": 0,
             "ticks": ""
            },
            "type": "contourcarpet"
           }
          ],
          "heatmap": [
           {
            "colorbar": {
             "outlinewidth": 0,
             "ticks": ""
            },
            "colorscale": [
             [
              0,
              "#0d0887"
             ],
             [
              0.1111111111111111,
              "#46039f"
             ],
             [
              0.2222222222222222,
              "#7201a8"
             ],
             [
              0.3333333333333333,
              "#9c179e"
             ],
             [
              0.4444444444444444,
              "#bd3786"
             ],
             [
              0.5555555555555556,
              "#d8576b"
             ],
             [
              0.6666666666666666,
              "#ed7953"
             ],
             [
              0.7777777777777778,
              "#fb9f3a"
             ],
             [
              0.8888888888888888,
              "#fdca26"
             ],
             [
              1,
              "#f0f921"
             ]
            ],
            "type": "heatmap"
           }
          ],
          "heatmapgl": [
           {
            "colorbar": {
             "outlinewidth": 0,
             "ticks": ""
            },
            "colorscale": [
             [
              0,
              "#0d0887"
             ],
             [
              0.1111111111111111,
              "#46039f"
             ],
             [
              0.2222222222222222,
              "#7201a8"
             ],
             [
              0.3333333333333333,
              "#9c179e"
             ],
             [
              0.4444444444444444,
              "#bd3786"
             ],
             [
              0.5555555555555556,
              "#d8576b"
             ],
             [
              0.6666666666666666,
              "#ed7953"
             ],
             [
              0.7777777777777778,
              "#fb9f3a"
             ],
             [
              0.8888888888888888,
              "#fdca26"
             ],
             [
              1,
              "#f0f921"
             ]
            ],
            "type": "heatmapgl"
           }
          ],
          "histogram": [
           {
            "marker": {
             "pattern": {
              "fillmode": "overlay",
              "size": 10,
              "solidity": 0.2
             }
            },
            "type": "histogram"
           }
          ],
          "histogram2d": [
           {
            "colorbar": {
             "outlinewidth": 0,
             "ticks": ""
            },
            "colorscale": [
             [
              0,
              "#0d0887"
             ],
             [
              0.1111111111111111,
              "#46039f"
             ],
             [
              0.2222222222222222,
              "#7201a8"
             ],
             [
              0.3333333333333333,
              "#9c179e"
             ],
             [
              0.4444444444444444,
              "#bd3786"
             ],
             [
              0.5555555555555556,
              "#d8576b"
             ],
             [
              0.6666666666666666,
              "#ed7953"
             ],
             [
              0.7777777777777778,
              "#fb9f3a"
             ],
             [
              0.8888888888888888,
              "#fdca26"
             ],
             [
              1,
              "#f0f921"
             ]
            ],
            "type": "histogram2d"
           }
          ],
          "histogram2dcontour": [
           {
            "colorbar": {
             "outlinewidth": 0,
             "ticks": ""
            },
            "colorscale": [
             [
              0,
              "#0d0887"
             ],
             [
              0.1111111111111111,
              "#46039f"
             ],
             [
              0.2222222222222222,
              "#7201a8"
             ],
             [
              0.3333333333333333,
              "#9c179e"
             ],
             [
              0.4444444444444444,
              "#bd3786"
             ],
             [
              0.5555555555555556,
              "#d8576b"
             ],
             [
              0.6666666666666666,
              "#ed7953"
             ],
             [
              0.7777777777777778,
              "#fb9f3a"
             ],
             [
              0.8888888888888888,
              "#fdca26"
             ],
             [
              1,
              "#f0f921"
             ]
            ],
            "type": "histogram2dcontour"
           }
          ],
          "mesh3d": [
           {
            "colorbar": {
             "outlinewidth": 0,
             "ticks": ""
            },
            "type": "mesh3d"
           }
          ],
          "parcoords": [
           {
            "line": {
             "colorbar": {
              "outlinewidth": 0,
              "ticks": ""
             }
            },
            "type": "parcoords"
           }
          ],
          "pie": [
           {
            "automargin": true,
            "type": "pie"
           }
          ],
          "scatter": [
           {
            "fillpattern": {
             "fillmode": "overlay",
             "size": 10,
             "solidity": 0.2
            },
            "type": "scatter"
           }
          ],
          "scatter3d": [
           {
            "line": {
             "colorbar": {
              "outlinewidth": 0,
              "ticks": ""
             }
            },
            "marker": {
             "colorbar": {
              "outlinewidth": 0,
              "ticks": ""
             }
            },
            "type": "scatter3d"
           }
          ],
          "scattercarpet": [
           {
            "marker": {
             "colorbar": {
              "outlinewidth": 0,
              "ticks": ""
             }
            },
            "type": "scattercarpet"
           }
          ],
          "scattergeo": [
           {
            "marker": {
             "colorbar": {
              "outlinewidth": 0,
              "ticks": ""
             }
            },
            "type": "scattergeo"
           }
          ],
          "scattergl": [
           {
            "marker": {
             "colorbar": {
              "outlinewidth": 0,
              "ticks": ""
             }
            },
            "type": "scattergl"
           }
          ],
          "scattermapbox": [
           {
            "marker": {
             "colorbar": {
              "outlinewidth": 0,
              "ticks": ""
             }
            },
            "type": "scattermapbox"
           }
          ],
          "scatterpolar": [
           {
            "marker": {
             "colorbar": {
              "outlinewidth": 0,
              "ticks": ""
             }
            },
            "type": "scatterpolar"
           }
          ],
          "scatterpolargl": [
           {
            "marker": {
             "colorbar": {
              "outlinewidth": 0,
              "ticks": ""
             }
            },
            "type": "scatterpolargl"
           }
          ],
          "scatterternary": [
           {
            "marker": {
             "colorbar": {
              "outlinewidth": 0,
              "ticks": ""
             }
            },
            "type": "scatterternary"
           }
          ],
          "surface": [
           {
            "colorbar": {
             "outlinewidth": 0,
             "ticks": ""
            },
            "colorscale": [
             [
              0,
              "#0d0887"
             ],
             [
              0.1111111111111111,
              "#46039f"
             ],
             [
              0.2222222222222222,
              "#7201a8"
             ],
             [
              0.3333333333333333,
              "#9c179e"
             ],
             [
              0.4444444444444444,
              "#bd3786"
             ],
             [
              0.5555555555555556,
              "#d8576b"
             ],
             [
              0.6666666666666666,
              "#ed7953"
             ],
             [
              0.7777777777777778,
              "#fb9f3a"
             ],
             [
              0.8888888888888888,
              "#fdca26"
             ],
             [
              1,
              "#f0f921"
             ]
            ],
            "type": "surface"
           }
          ],
          "table": [
           {
            "cells": {
             "fill": {
              "color": "#EBF0F8"
             },
             "line": {
              "color": "white"
             }
            },
            "header": {
             "fill": {
              "color": "#C8D4E3"
             },
             "line": {
              "color": "white"
             }
            },
            "type": "table"
           }
          ]
         },
         "layout": {
          "annotationdefaults": {
           "arrowcolor": "#2a3f5f",
           "arrowhead": 0,
           "arrowwidth": 1
          },
          "autotypenumbers": "strict",
          "coloraxis": {
           "colorbar": {
            "outlinewidth": 0,
            "ticks": ""
           }
          },
          "colorscale": {
           "diverging": [
            [
             0,
             "#8e0152"
            ],
            [
             0.1,
             "#c51b7d"
            ],
            [
             0.2,
             "#de77ae"
            ],
            [
             0.3,
             "#f1b6da"
            ],
            [
             0.4,
             "#fde0ef"
            ],
            [
             0.5,
             "#f7f7f7"
            ],
            [
             0.6,
             "#e6f5d0"
            ],
            [
             0.7,
             "#b8e186"
            ],
            [
             0.8,
             "#7fbc41"
            ],
            [
             0.9,
             "#4d9221"
            ],
            [
             1,
             "#276419"
            ]
           ],
           "sequential": [
            [
             0,
             "#0d0887"
            ],
            [
             0.1111111111111111,
             "#46039f"
            ],
            [
             0.2222222222222222,
             "#7201a8"
            ],
            [
             0.3333333333333333,
             "#9c179e"
            ],
            [
             0.4444444444444444,
             "#bd3786"
            ],
            [
             0.5555555555555556,
             "#d8576b"
            ],
            [
             0.6666666666666666,
             "#ed7953"
            ],
            [
             0.7777777777777778,
             "#fb9f3a"
            ],
            [
             0.8888888888888888,
             "#fdca26"
            ],
            [
             1,
             "#f0f921"
            ]
           ],
           "sequentialminus": [
            [
             0,
             "#0d0887"
            ],
            [
             0.1111111111111111,
             "#46039f"
            ],
            [
             0.2222222222222222,
             "#7201a8"
            ],
            [
             0.3333333333333333,
             "#9c179e"
            ],
            [
             0.4444444444444444,
             "#bd3786"
            ],
            [
             0.5555555555555556,
             "#d8576b"
            ],
            [
             0.6666666666666666,
             "#ed7953"
            ],
            [
             0.7777777777777778,
             "#fb9f3a"
            ],
            [
             0.8888888888888888,
             "#fdca26"
            ],
            [
             1,
             "#f0f921"
            ]
           ]
          },
          "colorway": [
           "#636efa",
           "#EF553B",
           "#00cc96",
           "#ab63fa",
           "#FFA15A",
           "#19d3f3",
           "#FF6692",
           "#B6E880",
           "#FF97FF",
           "#FECB52"
          ],
          "font": {
           "color": "#2a3f5f"
          },
          "geo": {
           "bgcolor": "white",
           "lakecolor": "white",
           "landcolor": "#E5ECF6",
           "showlakes": true,
           "showland": true,
           "subunitcolor": "white"
          },
          "hoverlabel": {
           "align": "left"
          },
          "hovermode": "closest",
          "mapbox": {
           "style": "light"
          },
          "paper_bgcolor": "white",
          "plot_bgcolor": "#E5ECF6",
          "polar": {
           "angularaxis": {
            "gridcolor": "white",
            "linecolor": "white",
            "ticks": ""
           },
           "bgcolor": "#E5ECF6",
           "radialaxis": {
            "gridcolor": "white",
            "linecolor": "white",
            "ticks": ""
           }
          },
          "scene": {
           "xaxis": {
            "backgroundcolor": "#E5ECF6",
            "gridcolor": "white",
            "gridwidth": 2,
            "linecolor": "white",
            "showbackground": true,
            "ticks": "",
            "zerolinecolor": "white"
           },
           "yaxis": {
            "backgroundcolor": "#E5ECF6",
            "gridcolor": "white",
            "gridwidth": 2,
            "linecolor": "white",
            "showbackground": true,
            "ticks": "",
            "zerolinecolor": "white"
           },
           "zaxis": {
            "backgroundcolor": "#E5ECF6",
            "gridcolor": "white",
            "gridwidth": 2,
            "linecolor": "white",
            "showbackground": true,
            "ticks": "",
            "zerolinecolor": "white"
           }
          },
          "shapedefaults": {
           "line": {
            "color": "#2a3f5f"
           }
          },
          "ternary": {
           "aaxis": {
            "gridcolor": "white",
            "linecolor": "white",
            "ticks": ""
           },
           "baxis": {
            "gridcolor": "white",
            "linecolor": "white",
            "ticks": ""
           },
           "bgcolor": "#E5ECF6",
           "caxis": {
            "gridcolor": "white",
            "linecolor": "white",
            "ticks": ""
           }
          },
          "title": {
           "x": 0.05
          },
          "xaxis": {
           "automargin": true,
           "gridcolor": "white",
           "linecolor": "white",
           "ticks": "",
           "title": {
            "standoff": 15
           },
           "zerolinecolor": "white",
           "zerolinewidth": 2
          },
          "yaxis": {
           "automargin": true,
           "gridcolor": "white",
           "linecolor": "white",
           "ticks": "",
           "title": {
            "standoff": 15
           },
           "zerolinecolor": "white",
           "zerolinewidth": 2
          }
         }
        },
        "title": {
         "text": "Fig. 4.1: Plot of [ln(1-EQE)]^2 vs. hv of a Si solar cell (Plotly)",
         "x": 0.5
        },
        "xaxis": {
         "anchor": "y",
         "domain": [
          0,
          1
         ],
         "linecolor": "black",
         "linewidth": 1,
         "mirror": true,
         "title": {
          "text": "Energy (eV)"
         }
        },
        "yaxis": {
         "anchor": "x",
         "domain": [
          0,
          1
         ],
         "linecolor": "black",
         "linewidth": 1,
         "mirror": true,
         "title": {
          "text": "[ln(1-EQE)]^2"
         }
        }
       }
      }
     },
     "metadata": {},
     "output_type": "display_data"
    }
   ],
   "source": [
    "fig_4_1 = px.line(\n",
    "    df,\n",
    "    x=\"Energy (eV)\",\n",
    "    y=log_eqe,\n",
    "    markers=True,\n",
    "    title=\"Fig. 4.1: Plot of [ln(1-EQE)]^2 vs. hv of a Si solar cell (Plotly)\"\n",
    ")\n",
    "\n",
    "fig_4_1.update_layout(title_x=0.5, yaxis_title=\"[ln(1-EQE)]^2\", legend_title=None)\n",
    "fig_4_1.update_xaxes(linewidth=1, linecolor=\"black\", mirror=True)\n",
    "fig_4_1.update_yaxes(linewidth=1, linecolor=\"black\", mirror=True)\n",
    "fig_4_1_names = {log_eqe[0]: \"Not smoothed\", log_eqe[1]: \"Smoothed\"}\n",
    "fig_4_1.for_each_trace(lambda t: t.update(name = fig_4_1_names[t.name]))\n",
    "fig_4_1.show()"
   ]
  },
  {
   "attachments": {},
   "cell_type": "markdown",
   "metadata": {},
   "source": [
    "Fig. 4.1 in the smoothed curve (red), shows us that we can choose energies less than $1.37$ $eV$. With this interval of energies, we will do an adjustment to find the energy gap ($E_{g}$). So:"
   ]
  },
  {
   "cell_type": "code",
   "execution_count": 25,
   "metadata": {},
   "outputs": [
    {
     "data": {
      "image/png": "[encoded data removed]",
      "text/plain": [
       "<Figure size 1000x1000 with 1 Axes>"
      ]
     },
     "metadata": {},
     "output_type": "display_data"
    }
   ],
   "source": [
    "slope, inter, r, p, se = linregress(\n",
    "    x=df[df[\"Energy (eV)\"] < 1.37][\"Energy (eV)\"],\n",
    "    y=df[df[\"Energy (eV)\"] < 1.37][log_eqe[1]]\n",
    ")\n",
    "\n",
    "fig5, ax = plt.subplots(figsize=(10, 10))\n",
    "\n",
    "not_ad_log = sns.lineplot(\n",
    "    data=df,\n",
    "    x=df[\"Energy (eV)\"],\n",
    "    y=df[\"[ln(1-EQE)]^2 smoothed\"],\n",
    "    color=\"red\"\n",
    ")\n",
    "\n",
    "ad_log = sns.lineplot(\n",
    "    data=df,\n",
    "    x=df[df[\"Energy (eV)\"] < 1.37][\"Energy (eV)\"],\n",
    "    y=slope * df[df[\"Energy (eV)\"] < 1.37][\"Energy (eV)\"] + inter,\n",
    "    color=\"green\",\n",
    "    label=f\"[ln(1-EQE)]^2={round(slope, 2)}E+{round(inter, 2)}\"\n",
    ")\n",
    "\n",
    "ax.set(\n",
    "    title=\"Fig. 5: [ln(1-EQE)]^2 vs. hv adjustment corresponding to smoothed EQE\",\n",
    "    ylabel=\"[ln(1-EQE)]^2\"\n",
    ")\n",
    "plt.show()\n"
   ]
  },
  {
   "attachments": {},
   "cell_type": "markdown",
   "metadata": {},
   "source": [
    "Now that we have the adjustment equation, it will be enough to make it equal to zero to obtain the energy gap: "
   ]
  },
  {
   "cell_type": "code",
   "execution_count": 26,
   "metadata": {},
   "outputs": [
    {
     "name": "stdout",
     "output_type": "stream",
     "text": [
      "Energy gap by [ln(1-EQE)]^2 vs. hv plot: 1.148817862847654\n"
     ]
    }
   ],
   "source": [
    "# [ln(1-EQE)]^2=0 -> 0=21.82E - 25.07\n",
    "log_en = (-inter) / slope\n",
    "log_E_g = f\"Energy gap by [ln(1-EQE)]^2 vs. hv plot: {log_en}\"\n",
    "print(log_E_g)"
   ]
  },
  {
   "attachments": {},
   "cell_type": "markdown",
   "metadata": {},
   "source": [
    "Throurh Fig. 5 we obtain an energy gap of $E_{g}=1.14$ $eV$."
   ]
  },
  {
   "attachments": {},
   "cell_type": "markdown",
   "metadata": {},
   "source": [
    "## Conclusions"
   ]
  },
  {
   "attachments": {},
   "cell_type": "markdown",
   "metadata": {},
   "source": [
    "The external quantum efficiency and the spectral response indicate the material effectiveness to absorb photons and transform them in electron-hole pairs and they are affected by its characteristics. The spectral response of the Si solar cell that we worked with, reaches a maximum of $0.65$ $\\frac{A}{W}$ at $930$ $nm$, having a decrease subsequently. The photons with a wavelength greater than $1100$ $nm$ won't be used to produce energy. The energy gap obtained by the linear adjustment is lower than the calculated by the derivative method. An energy gap of $1.14$ $eV$ is obtained the adjustment of the $[ln(1-EQE)]^{2}$ $vs.$ $h\\nu$ plot and $1.15$ $eV$ with the derivative method, being the first one the most approximated to values reported by literature ($1.12$ $eV$ for Si). Those are the reasons why *Si* is used in many solar cells."
   ]
  }
 ],
 "metadata": {
  "kernelspec": {
   "display_name": ".env",
   "language": "python",
   "name": "python3"
  },
  "language_info": {
   "codemirror_mode": {
    "name": "ipython",
    "version": 3
   },
   "file_extension": ".py",
   "mimetype": "text/x-python",
   "name": "python",
   "nbconvert_exporter": "python",
   "pygments_lexer": "ipython3",
   "version": "3.11.3"
  },
  "orig_nbformat": 4
 },
 "nbformat": 4,
 "nbformat_minor": 2
}
